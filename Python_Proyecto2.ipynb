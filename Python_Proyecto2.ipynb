{
 "cells": [
  {
   "cell_type": "markdown",
   "id": "40a467be",
   "metadata": {},
   "source": [
    "___\n",
    "<img style=\"float: right; margin: 15px 15px 15px 15px;\" src=\"https://cdn.brandfetch.io/idjblR01Uf/w/400/h/400/theme/dark/icon.jpeg?c=1dxbfHSJFAPEGdCLU4o5B\" width=\"200px\" height=\"180px\" />\n",
    "\n",
    "# <font color= #5aafc1> **PROYECTO FINAL** </font>\n",
    "#### <font color= #2E9AFE> `Red Aeroportuaria Internacional`</font>\n",
    "- <Strong> Sofía Maldonado, Viviana Toledo, César Adrián Santos </Strong>\n",
    "- <Strong> Fecha </Strong>: 17/07/2025\n",
    "\n",
    "___"
   ]
  },
  {
   "cell_type": "code",
   "execution_count": 6,
   "id": "71f2ce0f",
   "metadata": {},
   "outputs": [
    {
     "name": "stdout",
     "output_type": "stream",
     "text": [
      "Successfully Connected to Neo4j in neo5j database!\n",
      "Successfully Connected to GraphDataScience in neo5j database!\n"
     ]
    }
   ],
   "source": [
    "# Actualizar \n",
    "import importlib\n",
    "import queries \n",
    "importlib.reload(queries)\n",
    "from queries import DB_Queries\n",
    "\n",
    "# Establecer conexión\n",
    "db = DB_Queries('neo5j')"
   ]
  },
  {
   "cell_type": "markdown",
   "id": "6ffe27ca",
   "metadata": {},
   "source": [
    "# <font color= #5aafc1> **1. Exploratory Data Analysis** </font>"
   ]
  },
  {
   "cell_type": "markdown",
   "id": "fe946caa",
   "metadata": {},
   "source": [
    "Graph Schema:"
   ]
  },
  {
   "cell_type": "markdown",
   "id": "14a2d519",
   "metadata": {},
   "source": [
    "Node Count:"
   ]
  },
  {
   "cell_type": "code",
   "execution_count": 7,
   "id": "5cf3e923",
   "metadata": {},
   "outputs": [
    {
     "data": {
      "text/html": [
       "<div>\n",
       "<style scoped>\n",
       "    .dataframe tbody tr th:only-of-type {\n",
       "        vertical-align: middle;\n",
       "    }\n",
       "\n",
       "    .dataframe tbody tr th {\n",
       "        vertical-align: top;\n",
       "    }\n",
       "\n",
       "    .dataframe thead th {\n",
       "        text-align: right;\n",
       "    }\n",
       "</style>\n",
       "<table border=\"1\" class=\"dataframe\">\n",
       "  <thead>\n",
       "    <tr style=\"text-align: right;\">\n",
       "      <th></th>\n",
       "      <th>Airports</th>\n",
       "    </tr>\n",
       "  </thead>\n",
       "  <tbody>\n",
       "    <tr>\n",
       "      <th>0</th>\n",
       "      <td>3214</td>\n",
       "    </tr>\n",
       "  </tbody>\n",
       "</table>\n",
       "</div>"
      ],
      "text/plain": [
       "   Airports\n",
       "0      3214"
      ]
     },
     "execution_count": 7,
     "metadata": {},
     "output_type": "execute_result"
    }
   ],
   "source": [
    "db.count_nodes('Airport')"
   ]
  },
  {
   "cell_type": "markdown",
   "id": "f4156215",
   "metadata": {},
   "source": [
    "Node Attributes:"
   ]
  },
  {
   "cell_type": "code",
   "execution_count": 8,
   "id": "a8c7959a",
   "metadata": {},
   "outputs": [
    {
     "data": {
      "text/html": [
       "<div>\n",
       "<style scoped>\n",
       "    .dataframe tbody tr th:only-of-type {\n",
       "        vertical-align: middle;\n",
       "    }\n",
       "\n",
       "    .dataframe tbody tr th {\n",
       "        vertical-align: top;\n",
       "    }\n",
       "\n",
       "    .dataframe thead th {\n",
       "        text-align: right;\n",
       "    }\n",
       "</style>\n",
       "<table border=\"1\" class=\"dataframe\">\n",
       "  <thead>\n",
       "    <tr style=\"text-align: right;\">\n",
       "      <th></th>\n",
       "      <th>nodeType</th>\n",
       "      <th>nodeLabels</th>\n",
       "      <th>propertyName</th>\n",
       "      <th>propertyTypes</th>\n",
       "      <th>mandatory</th>\n",
       "    </tr>\n",
       "  </thead>\n",
       "  <tbody>\n",
       "    <tr>\n",
       "      <th>0</th>\n",
       "      <td>:`Airport`</td>\n",
       "      <td>[Airport]</td>\n",
       "      <td>Id</td>\n",
       "      <td>[Long]</td>\n",
       "      <td>True</td>\n",
       "    </tr>\n",
       "    <tr>\n",
       "      <th>1</th>\n",
       "      <td>:`Airport`</td>\n",
       "      <td>[Airport]</td>\n",
       "      <td>latitude</td>\n",
       "      <td>[Double]</td>\n",
       "      <td>True</td>\n",
       "    </tr>\n",
       "    <tr>\n",
       "      <th>2</th>\n",
       "      <td>:`Airport`</td>\n",
       "      <td>[Airport]</td>\n",
       "      <td>country</td>\n",
       "      <td>[String]</td>\n",
       "      <td>True</td>\n",
       "    </tr>\n",
       "    <tr>\n",
       "      <th>3</th>\n",
       "      <td>:`Airport`</td>\n",
       "      <td>[Airport]</td>\n",
       "      <td>longitude</td>\n",
       "      <td>[Double]</td>\n",
       "      <td>True</td>\n",
       "    </tr>\n",
       "    <tr>\n",
       "      <th>4</th>\n",
       "      <td>:`Airport`</td>\n",
       "      <td>[Airport]</td>\n",
       "      <td>Label</td>\n",
       "      <td>[String]</td>\n",
       "      <td>True</td>\n",
       "    </tr>\n",
       "  </tbody>\n",
       "</table>\n",
       "</div>"
      ],
      "text/plain": [
       "     nodeType nodeLabels propertyName propertyTypes  mandatory\n",
       "0  :`Airport`  [Airport]           Id        [Long]       True\n",
       "1  :`Airport`  [Airport]     latitude      [Double]       True\n",
       "2  :`Airport`  [Airport]      country      [String]       True\n",
       "3  :`Airport`  [Airport]    longitude      [Double]       True\n",
       "4  :`Airport`  [Airport]        Label      [String]       True"
      ]
     },
     "execution_count": 8,
     "metadata": {},
     "output_type": "execute_result"
    }
   ],
   "source": [
    "db.node_attributes()"
   ]
  },
  {
   "cell_type": "markdown",
   "id": "95c877b0",
   "metadata": {},
   "source": [
    "Relationship Count:"
   ]
  },
  {
   "cell_type": "code",
   "execution_count": 9,
   "id": "aea4d88d",
   "metadata": {},
   "outputs": [
    {
     "data": {
      "text/html": [
       "<div>\n",
       "<style scoped>\n",
       "    .dataframe tbody tr th:only-of-type {\n",
       "        vertical-align: middle;\n",
       "    }\n",
       "\n",
       "    .dataframe tbody tr th {\n",
       "        vertical-align: top;\n",
       "    }\n",
       "\n",
       "    .dataframe thead th {\n",
       "        text-align: right;\n",
       "    }\n",
       "</style>\n",
       "<table border=\"1\" class=\"dataframe\">\n",
       "  <thead>\n",
       "    <tr style=\"text-align: right;\">\n",
       "      <th></th>\n",
       "      <th>TO_Count</th>\n",
       "    </tr>\n",
       "  </thead>\n",
       "  <tbody>\n",
       "    <tr>\n",
       "      <th>0</th>\n",
       "      <td>36907</td>\n",
       "    </tr>\n",
       "  </tbody>\n",
       "</table>\n",
       "</div>"
      ],
      "text/plain": [
       "   TO_Count\n",
       "0     36907"
      ]
     },
     "execution_count": 9,
     "metadata": {},
     "output_type": "execute_result"
    }
   ],
   "source": [
    "db.count_relationships('TO')"
   ]
  },
  {
   "cell_type": "markdown",
   "id": "291670f9",
   "metadata": {},
   "source": [
    "Relationship Attributes:"
   ]
  },
  {
   "cell_type": "code",
   "execution_count": 10,
   "id": "b4e0fdcf",
   "metadata": {},
   "outputs": [
    {
     "data": {
      "text/html": [
       "<div>\n",
       "<style scoped>\n",
       "    .dataframe tbody tr th:only-of-type {\n",
       "        vertical-align: middle;\n",
       "    }\n",
       "\n",
       "    .dataframe tbody tr th {\n",
       "        vertical-align: top;\n",
       "    }\n",
       "\n",
       "    .dataframe thead th {\n",
       "        text-align: right;\n",
       "    }\n",
       "</style>\n",
       "<table border=\"1\" class=\"dataframe\">\n",
       "  <thead>\n",
       "    <tr style=\"text-align: right;\">\n",
       "      <th></th>\n",
       "      <th>relType</th>\n",
       "      <th>propertyName</th>\n",
       "      <th>propertyTypes</th>\n",
       "      <th>mandatory</th>\n",
       "    </tr>\n",
       "  </thead>\n",
       "  <tbody>\n",
       "    <tr>\n",
       "      <th>0</th>\n",
       "      <td>:`TO`</td>\n",
       "      <td>distance</td>\n",
       "      <td>[Double]</td>\n",
       "      <td>True</td>\n",
       "    </tr>\n",
       "  </tbody>\n",
       "</table>\n",
       "</div>"
      ],
      "text/plain": [
       "  relType propertyName propertyTypes  mandatory\n",
       "0   :`TO`     distance      [Double]       True"
      ]
     },
     "execution_count": 10,
     "metadata": {},
     "output_type": "execute_result"
    }
   ],
   "source": [
    "db.rel_attributes()"
   ]
  },
  {
   "cell_type": "markdown",
   "id": "14bb5972",
   "metadata": {},
   "source": [
    "# <font color= #5aafc1> **2. Centrality & Community Algorithms** </font>"
   ]
  },
  {
   "cell_type": "markdown",
   "id": "f687f004",
   "metadata": {},
   "source": [
    "# <font color= #5aafc1> **3. Path Finding Algorithms** </font>"
   ]
  },
  {
   "cell_type": "code",
   "execution_count": null,
   "id": "78167b4d",
   "metadata": {},
   "outputs": [],
   "source": [
    "db.delta_pathing('Airport', 'Label', )"
   ]
  }
 ],
 "metadata": {
  "kernelspec": {
   "display_name": "graph_mining",
   "language": "python",
   "name": "python3"
  },
  "language_info": {
   "codemirror_mode": {
    "name": "ipython",
    "version": 3
   },
   "file_extension": ".py",
   "mimetype": "text/x-python",
   "name": "python",
   "nbconvert_exporter": "python",
   "pygments_lexer": "ipython3",
   "version": "3.12.5"
  }
 },
 "nbformat": 4,
 "nbformat_minor": 5
}
