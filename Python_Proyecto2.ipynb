{
 "cells": [
  {
   "cell_type": "markdown",
   "id": "be00b0eb",
   "metadata": {},
   "source": [
    "<div style='text-align: center;'>\n",
    "    <img title=\"Banner\" alt=\"Logo ITESO\" src=\"https://oci02.img.iteso.mx/Identidades-De-Instancia/ITESO/Logos%20ITESO/Logo-ITESO-Principal-FondoAzul.png\" width=600 align='center'>\n",
    "</div>\n",
    "\n",
    "# Proyecto 2 - Minería de Grafos\n",
    "## Dr. Victor Hugo Ortega Guzmán\n",
    "\n",
    "* Sofía Maldonado García\n",
    "* Viviana Toledo De la Fuente\n",
    "* César Adrián Santos Santacruz\n",
    "\n",
    "\n"
   ]
  },
  {
   "cell_type": "code",
   "execution_count": null,
   "id": "71f2ce0f",
   "metadata": {},
   "outputs": [
    {
     "name": "stdout",
     "output_type": "stream",
     "text": [
      "Successfully Connected to Neo4j!\n",
      "Successfully Connected to GraphDataScience!\n"
     ]
    }
   ],
   "source": [
    "# Actualizar \n",
    "import importlib\n",
    "import queries \n",
    "importlib.reload(queries)\n",
    "from queries import DB_Queries\n",
    "\n",
    "# Establecer conexión\n",
    "db = DB_Queries('neo5j')"
   ]
  },
  {
   "cell_type": "markdown",
   "id": "02858de6",
   "metadata": {},
   "source": [
    "# Exploratory Data Analysis"
   ]
  },
  {
   "cell_type": "code",
   "execution_count": 29,
   "id": "5cf3e923",
   "metadata": {},
   "outputs": [
    {
     "name": "stdout",
     "output_type": "stream",
     "text": [
      "[{'Airports': 0}]\n"
     ]
    }
   ],
   "source": [
    "db.count_nodes('Airport')"
   ]
  }
 ],
 "metadata": {
  "kernelspec": {
   "display_name": "Neo",
   "language": "python",
   "name": "python3"
  },
  "language_info": {
   "codemirror_mode": {
    "name": "ipython",
    "version": 3
   },
   "file_extension": ".py",
   "mimetype": "text/x-python",
   "name": "python",
   "nbconvert_exporter": "python",
   "pygments_lexer": "ipython3",
   "version": "3.12.11"
  }
 },
 "nbformat": 4,
 "nbformat_minor": 5
}
