{
 "cells": [
  {
   "cell_type": "markdown",
   "id": "40a467be",
   "metadata": {},
   "source": [
    "___\n",
    "<img style=\"float: right; margin: 15px 15px 15px 15px;\" src=\"https://cdn.brandfetch.io/idjblR01Uf/w/400/h/400/theme/dark/icon.jpeg?c=1dxbfHSJFAPEGdCLU4o5B\" width=\"200px\" height=\"180px\" />\n",
    "\n",
    "# <font color= #5aafc1> **PROYECTO FINAL** </font>\n",
    "#### <font color= #2E9AFE> `Red Aeroportuaria Internacional`</font>\n",
    "- <Strong> Sofía Maldonado, Viviana Toledo, César Adrián Santos </Strong>\n",
    "- <Strong> Fecha </Strong>: 17/07/2025\n",
    "\n",
    "___"
   ]
  },
  {
   "cell_type": "code",
   "execution_count": 63,
   "id": "71f2ce0f",
   "metadata": {},
   "outputs": [
    {
     "name": "stdout",
     "output_type": "stream",
     "text": [
      "Successfully Connected to Neo4j in neo5j database!\n",
      "Successfully Connected to GraphDataScience in neo5j database!\n"
     ]
    }
   ],
   "source": [
    "# Actualizar \n",
    "import importlib\n",
    "import queries \n",
    "importlib.reload(queries)\n",
    "from queries import DB_Queries\n",
    "\n",
    "# Establecer conexión\n",
    "db = DB_Queries('neo5j')"
   ]
  },
  {
   "cell_type": "markdown",
   "id": "9f3ed0a8",
   "metadata": {},
   "source": [
    "Añadir atributos de Continente a cada nodo:"
   ]
  },
  {
   "cell_type": "code",
   "execution_count": 75,
   "id": "a6433904",
   "metadata": {},
   "outputs": [],
   "source": [
    "query1 = \"\"\"MATCH (a:Airport) \n",
    "WHERE a.country = 'Burma'\n",
    "SET a.country = 'Myanmar'\n",
    "\"\"\"\n",
    "\n",
    "query2 = \"\"\"MATCH (a:Airport) \n",
    "WHERE a.country = 'Congo (Kinshasa)'\n",
    "SET a.country = 'Democratic Republic of the Congo'\n",
    "\"\"\"\n",
    "\n",
    "query3 = \"\"\"MATCH (a:Airport) \n",
    "WHERE a.country = 'Congo (Brazzaville)'\n",
    "SET a.country = 'Republic of the Congo'\n",
    "\"\"\"\n",
    "\n",
    "query4 = f\"\"\"LOAD CSV WITH HEADERS FROM 'https://raw.githubusercontent.com/ch0fas/MG_PROYECTO2/main/data/countries.csv' AS row\n",
    "MATCH (a:Airport)\n",
    "WHERE a.country = row.Country\n",
    "SET a.continent = row.Continent\n",
    "\"\"\"\n",
    "\n",
    "db.custom_query(query4)"
   ]
  },
  {
   "cell_type": "markdown",
   "id": "6ffe27ca",
   "metadata": {},
   "source": [
    "# <font color= #5aafc1> **1. Exploratory Data Analysis** </font>"
   ]
  },
  {
   "cell_type": "markdown",
   "id": "fe946caa",
   "metadata": {},
   "source": [
    "Graph Schema:"
   ]
  },
  {
   "cell_type": "markdown",
   "id": "14a2d519",
   "metadata": {},
   "source": [
    "Node Count:"
   ]
  },
  {
   "cell_type": "code",
   "execution_count": 43,
   "id": "5cf3e923",
   "metadata": {},
   "outputs": [
    {
     "data": {
      "text/html": [
       "<div>\n",
       "<style scoped>\n",
       "    .dataframe tbody tr th:only-of-type {\n",
       "        vertical-align: middle;\n",
       "    }\n",
       "\n",
       "    .dataframe tbody tr th {\n",
       "        vertical-align: top;\n",
       "    }\n",
       "\n",
       "    .dataframe thead th {\n",
       "        text-align: right;\n",
       "    }\n",
       "</style>\n",
       "<table border=\"1\" class=\"dataframe\">\n",
       "  <thead>\n",
       "    <tr style=\"text-align: right;\">\n",
       "      <th></th>\n",
       "      <th>Airports</th>\n",
       "    </tr>\n",
       "  </thead>\n",
       "  <tbody>\n",
       "    <tr>\n",
       "      <th>0</th>\n",
       "      <td>3214</td>\n",
       "    </tr>\n",
       "  </tbody>\n",
       "</table>\n",
       "</div>"
      ],
      "text/plain": [
       "   Airports\n",
       "0      3214"
      ]
     },
     "execution_count": 43,
     "metadata": {},
     "output_type": "execute_result"
    }
   ],
   "source": [
    "db.count_nodes('Airport')"
   ]
  },
  {
   "cell_type": "markdown",
   "id": "f4156215",
   "metadata": {},
   "source": [
    "Node Attributes:"
   ]
  },
  {
   "cell_type": "code",
   "execution_count": 58,
   "id": "a8c7959a",
   "metadata": {},
   "outputs": [
    {
     "data": {
      "text/html": [
       "<div>\n",
       "<style scoped>\n",
       "    .dataframe tbody tr th:only-of-type {\n",
       "        vertical-align: middle;\n",
       "    }\n",
       "\n",
       "    .dataframe tbody tr th {\n",
       "        vertical-align: top;\n",
       "    }\n",
       "\n",
       "    .dataframe thead th {\n",
       "        text-align: right;\n",
       "    }\n",
       "</style>\n",
       "<table border=\"1\" class=\"dataframe\">\n",
       "  <thead>\n",
       "    <tr style=\"text-align: right;\">\n",
       "      <th></th>\n",
       "      <th>nodeType</th>\n",
       "      <th>nodeLabels</th>\n",
       "      <th>propertyName</th>\n",
       "      <th>propertyTypes</th>\n",
       "      <th>mandatory</th>\n",
       "    </tr>\n",
       "  </thead>\n",
       "  <tbody>\n",
       "    <tr>\n",
       "      <th>0</th>\n",
       "      <td>:`Airport`</td>\n",
       "      <td>[Airport]</td>\n",
       "      <td>Id</td>\n",
       "      <td>[Long]</td>\n",
       "      <td>True</td>\n",
       "    </tr>\n",
       "    <tr>\n",
       "      <th>1</th>\n",
       "      <td>:`Airport`</td>\n",
       "      <td>[Airport]</td>\n",
       "      <td>latitude</td>\n",
       "      <td>[Double]</td>\n",
       "      <td>True</td>\n",
       "    </tr>\n",
       "    <tr>\n",
       "      <th>2</th>\n",
       "      <td>:`Airport`</td>\n",
       "      <td>[Airport]</td>\n",
       "      <td>country</td>\n",
       "      <td>[String]</td>\n",
       "      <td>True</td>\n",
       "    </tr>\n",
       "    <tr>\n",
       "      <th>3</th>\n",
       "      <td>:`Airport`</td>\n",
       "      <td>[Airport]</td>\n",
       "      <td>longitude</td>\n",
       "      <td>[Double]</td>\n",
       "      <td>True</td>\n",
       "    </tr>\n",
       "    <tr>\n",
       "      <th>4</th>\n",
       "      <td>:`Airport`</td>\n",
       "      <td>[Airport]</td>\n",
       "      <td>Label</td>\n",
       "      <td>[String]</td>\n",
       "      <td>True</td>\n",
       "    </tr>\n",
       "    <tr>\n",
       "      <th>5</th>\n",
       "      <td>:`Airport`</td>\n",
       "      <td>[Airport]</td>\n",
       "      <td>continent</td>\n",
       "      <td>[String]</td>\n",
       "      <td>False</td>\n",
       "    </tr>\n",
       "  </tbody>\n",
       "</table>\n",
       "</div>"
      ],
      "text/plain": [
       "     nodeType nodeLabels propertyName propertyTypes  mandatory\n",
       "0  :`Airport`  [Airport]           Id        [Long]       True\n",
       "1  :`Airport`  [Airport]     latitude      [Double]       True\n",
       "2  :`Airport`  [Airport]      country      [String]       True\n",
       "3  :`Airport`  [Airport]    longitude      [Double]       True\n",
       "4  :`Airport`  [Airport]        Label      [String]       True\n",
       "5  :`Airport`  [Airport]    continent      [String]      False"
      ]
     },
     "execution_count": 58,
     "metadata": {},
     "output_type": "execute_result"
    }
   ],
   "source": [
    "db.node_attributes()"
   ]
  },
  {
   "cell_type": "markdown",
   "id": "95c877b0",
   "metadata": {},
   "source": [
    "Relationship Count:"
   ]
  },
  {
   "cell_type": "code",
   "execution_count": 45,
   "id": "aea4d88d",
   "metadata": {},
   "outputs": [
    {
     "data": {
      "text/html": [
       "<div>\n",
       "<style scoped>\n",
       "    .dataframe tbody tr th:only-of-type {\n",
       "        vertical-align: middle;\n",
       "    }\n",
       "\n",
       "    .dataframe tbody tr th {\n",
       "        vertical-align: top;\n",
       "    }\n",
       "\n",
       "    .dataframe thead th {\n",
       "        text-align: right;\n",
       "    }\n",
       "</style>\n",
       "<table border=\"1\" class=\"dataframe\">\n",
       "  <thead>\n",
       "    <tr style=\"text-align: right;\">\n",
       "      <th></th>\n",
       "      <th>TO_Count</th>\n",
       "    </tr>\n",
       "  </thead>\n",
       "  <tbody>\n",
       "    <tr>\n",
       "      <th>0</th>\n",
       "      <td>36907</td>\n",
       "    </tr>\n",
       "  </tbody>\n",
       "</table>\n",
       "</div>"
      ],
      "text/plain": [
       "   TO_Count\n",
       "0     36907"
      ]
     },
     "execution_count": 45,
     "metadata": {},
     "output_type": "execute_result"
    }
   ],
   "source": [
    "db.count_relationships('TO')"
   ]
  },
  {
   "cell_type": "markdown",
   "id": "291670f9",
   "metadata": {},
   "source": [
    "Relationship Attributes:"
   ]
  },
  {
   "cell_type": "code",
   "execution_count": 46,
   "id": "b4e0fdcf",
   "metadata": {},
   "outputs": [
    {
     "data": {
      "text/html": [
       "<div>\n",
       "<style scoped>\n",
       "    .dataframe tbody tr th:only-of-type {\n",
       "        vertical-align: middle;\n",
       "    }\n",
       "\n",
       "    .dataframe tbody tr th {\n",
       "        vertical-align: top;\n",
       "    }\n",
       "\n",
       "    .dataframe thead th {\n",
       "        text-align: right;\n",
       "    }\n",
       "</style>\n",
       "<table border=\"1\" class=\"dataframe\">\n",
       "  <thead>\n",
       "    <tr style=\"text-align: right;\">\n",
       "      <th></th>\n",
       "      <th>relType</th>\n",
       "      <th>propertyName</th>\n",
       "      <th>propertyTypes</th>\n",
       "      <th>mandatory</th>\n",
       "    </tr>\n",
       "  </thead>\n",
       "  <tbody>\n",
       "    <tr>\n",
       "      <th>0</th>\n",
       "      <td>:`TO`</td>\n",
       "      <td>distance</td>\n",
       "      <td>[Double]</td>\n",
       "      <td>True</td>\n",
       "    </tr>\n",
       "    <tr>\n",
       "      <th>1</th>\n",
       "      <td>:`PATH_Bogota_Directed`</td>\n",
       "      <td>totalCost</td>\n",
       "      <td>[Double]</td>\n",
       "      <td>True</td>\n",
       "    </tr>\n",
       "    <tr>\n",
       "      <th>2</th>\n",
       "      <td>:`PATH_Bogota_Directed`</td>\n",
       "      <td>nodeIds</td>\n",
       "      <td>[LongArray]</td>\n",
       "      <td>True</td>\n",
       "    </tr>\n",
       "    <tr>\n",
       "      <th>3</th>\n",
       "      <td>:`PATH_Bogota_Directed`</td>\n",
       "      <td>costs</td>\n",
       "      <td>[DoubleArray]</td>\n",
       "      <td>True</td>\n",
       "    </tr>\n",
       "    <tr>\n",
       "      <th>4</th>\n",
       "      <td>:`PATH_Bogota_Undirected`</td>\n",
       "      <td>totalCost</td>\n",
       "      <td>[Double]</td>\n",
       "      <td>True</td>\n",
       "    </tr>\n",
       "    <tr>\n",
       "      <th>5</th>\n",
       "      <td>:`PATH_Bogota_Undirected`</td>\n",
       "      <td>nodeIds</td>\n",
       "      <td>[LongArray]</td>\n",
       "      <td>True</td>\n",
       "    </tr>\n",
       "    <tr>\n",
       "      <th>6</th>\n",
       "      <td>:`PATH_Bogota_Undirected`</td>\n",
       "      <td>costs</td>\n",
       "      <td>[DoubleArray]</td>\n",
       "      <td>True</td>\n",
       "    </tr>\n",
       "  </tbody>\n",
       "</table>\n",
       "</div>"
      ],
      "text/plain": [
       "                     relType propertyName  propertyTypes  mandatory\n",
       "0                      :`TO`     distance       [Double]       True\n",
       "1    :`PATH_Bogota_Directed`    totalCost       [Double]       True\n",
       "2    :`PATH_Bogota_Directed`      nodeIds    [LongArray]       True\n",
       "3    :`PATH_Bogota_Directed`        costs  [DoubleArray]       True\n",
       "4  :`PATH_Bogota_Undirected`    totalCost       [Double]       True\n",
       "5  :`PATH_Bogota_Undirected`      nodeIds    [LongArray]       True\n",
       "6  :`PATH_Bogota_Undirected`        costs  [DoubleArray]       True"
      ]
     },
     "execution_count": 46,
     "metadata": {},
     "output_type": "execute_result"
    }
   ],
   "source": [
    "db.rel_attributes()"
   ]
  },
  {
   "cell_type": "markdown",
   "id": "14bb5972",
   "metadata": {},
   "source": [
    "# <font color= #5aafc1> **2. Centrality & Community Algorithms** </font>"
   ]
  },
  {
   "cell_type": "code",
   "execution_count": 47,
   "id": "2fffca1d",
   "metadata": {},
   "outputs": [
    {
     "data": {
      "text/plain": [
       "'Subgraph Directed_Airport already exists. Creation skipped.'"
      ]
     },
     "execution_count": 47,
     "metadata": {},
     "output_type": "execute_result"
    }
   ],
   "source": [
    "db.create_subgraph('Airport', 'TO', 'NATURAL','distance')"
   ]
  },
  {
   "cell_type": "code",
   "execution_count": 48,
   "id": "9c5b62ee",
   "metadata": {},
   "outputs": [
    {
     "data": {
      "text/plain": [
       "'Subgraph Undirected_Airport already exists. Creation skipped.'"
      ]
     },
     "execution_count": 48,
     "metadata": {},
     "output_type": "execute_result"
    }
   ],
   "source": [
    "db.create_subgraph('Airport', 'TO', 'UNDIRECTED','distance')"
   ]
  },
  {
   "cell_type": "markdown",
   "id": "f687f004",
   "metadata": {},
   "source": [
    "# <font color= #5aafc1> **3. Path Finding Algorithms** </font>"
   ]
  },
  {
   "cell_type": "code",
   "execution_count": 49,
   "id": "78167b4d",
   "metadata": {},
   "outputs": [
    {
     "name": "stdout",
     "output_type": "stream",
     "text": [
      "Directed Delta Pathing for Bogota added!\n"
     ]
    },
    {
     "data": {
      "text/html": [
       "<div>\n",
       "<style scoped>\n",
       "    .dataframe tbody tr th:only-of-type {\n",
       "        vertical-align: middle;\n",
       "    }\n",
       "\n",
       "    .dataframe tbody tr th {\n",
       "        vertical-align: top;\n",
       "    }\n",
       "\n",
       "    .dataframe thead th {\n",
       "        text-align: right;\n",
       "    }\n",
       "</style>\n",
       "<table border=\"1\" class=\"dataframe\">\n",
       "  <thead>\n",
       "    <tr style=\"text-align: right;\">\n",
       "      <th></th>\n",
       "      <th>Source</th>\n",
       "      <th>Bridges</th>\n",
       "      <th>Partial_Costs</th>\n",
       "      <th>Total_Cost</th>\n",
       "      <th>Target</th>\n",
       "    </tr>\n",
       "  </thead>\n",
       "  <tbody>\n",
       "    <tr>\n",
       "      <th>0</th>\n",
       "      <td>Bogota</td>\n",
       "      <td>[Goroka, Port Moresby, Goroka, Port Moresby, G...</td>\n",
       "      <td>[0.0, 755.8972047746067, 5606.6853979173375, 1...</td>\n",
       "      <td>18326.702070</td>\n",
       "      <td>Goroka</td>\n",
       "    </tr>\n",
       "    <tr>\n",
       "      <th>1</th>\n",
       "      <td>Bogota</td>\n",
       "      <td>[Madang, Port Moresby, Madang, Port Moresby, M...</td>\n",
       "      <td>[0.0, 755.8972047746067, 5606.6853979173375, 1...</td>\n",
       "      <td>18398.968325</td>\n",
       "      <td>Madang</td>\n",
       "    </tr>\n",
       "    <tr>\n",
       "      <th>2</th>\n",
       "      <td>Bogota</td>\n",
       "      <td>[Mount Hagen, Port Moresby, Mount Hagen, Port ...</td>\n",
       "      <td>[0.0, 755.8972047746067, 5606.6853979173375, 1...</td>\n",
       "      <td>18417.507717</td>\n",
       "      <td>Mount Hagen</td>\n",
       "    </tr>\n",
       "  </tbody>\n",
       "</table>\n",
       "</div>"
      ],
      "text/plain": [
       "   Source                                            Bridges  \\\n",
       "0  Bogota  [Goroka, Port Moresby, Goroka, Port Moresby, G...   \n",
       "1  Bogota  [Madang, Port Moresby, Madang, Port Moresby, M...   \n",
       "2  Bogota  [Mount Hagen, Port Moresby, Mount Hagen, Port ...   \n",
       "\n",
       "                                       Partial_Costs    Total_Cost  \\\n",
       "0  [0.0, 755.8972047746067, 5606.6853979173375, 1...  18326.702070   \n",
       "1  [0.0, 755.8972047746067, 5606.6853979173375, 1...  18398.968325   \n",
       "2  [0.0, 755.8972047746067, 5606.6853979173375, 1...  18417.507717   \n",
       "\n",
       "        Target  \n",
       "0       Goroka  \n",
       "1       Madang  \n",
       "2  Mount Hagen  "
      ]
     },
     "metadata": {},
     "output_type": "display_data"
    },
    {
     "name": "stdout",
     "output_type": "stream",
     "text": [
      "\n",
      "Undirected Delta Pathing for Bogota added!\n"
     ]
    },
    {
     "data": {
      "text/html": [
       "<div>\n",
       "<style scoped>\n",
       "    .dataframe tbody tr th:only-of-type {\n",
       "        vertical-align: middle;\n",
       "    }\n",
       "\n",
       "    .dataframe tbody tr th {\n",
       "        vertical-align: top;\n",
       "    }\n",
       "\n",
       "    .dataframe thead th {\n",
       "        text-align: right;\n",
       "    }\n",
       "</style>\n",
       "<table border=\"1\" class=\"dataframe\">\n",
       "  <thead>\n",
       "    <tr style=\"text-align: right;\">\n",
       "      <th></th>\n",
       "      <th>Source</th>\n",
       "      <th>Bridges</th>\n",
       "      <th>Partial_Costs</th>\n",
       "      <th>Total_Cost</th>\n",
       "      <th>Target</th>\n",
       "    </tr>\n",
       "  </thead>\n",
       "  <tbody>\n",
       "    <tr>\n",
       "      <th>0</th>\n",
       "      <td>Bogota</td>\n",
       "      <td>[Goroka, Port Moresby, Goroka, Port Moresby, G...</td>\n",
       "      <td>[0.0, 755.8972047746067, 5606.6853979173375, 1...</td>\n",
       "      <td>18326.702070</td>\n",
       "      <td>Goroka</td>\n",
       "    </tr>\n",
       "    <tr>\n",
       "      <th>1</th>\n",
       "      <td>Bogota</td>\n",
       "      <td>[Madang, Port Moresby, Madang, Port Moresby, M...</td>\n",
       "      <td>[0.0, 755.8972047746067, 5606.6853979173375, 1...</td>\n",
       "      <td>18398.968325</td>\n",
       "      <td>Madang</td>\n",
       "    </tr>\n",
       "    <tr>\n",
       "      <th>2</th>\n",
       "      <td>Bogota</td>\n",
       "      <td>[Mount Hagen, Port Moresby, Mount Hagen, Port ...</td>\n",
       "      <td>[0.0, 755.8972047746067, 5606.6853979173375, 1...</td>\n",
       "      <td>18417.507717</td>\n",
       "      <td>Mount Hagen</td>\n",
       "    </tr>\n",
       "  </tbody>\n",
       "</table>\n",
       "</div>"
      ],
      "text/plain": [
       "   Source                                            Bridges  \\\n",
       "0  Bogota  [Goroka, Port Moresby, Goroka, Port Moresby, G...   \n",
       "1  Bogota  [Madang, Port Moresby, Madang, Port Moresby, M...   \n",
       "2  Bogota  [Mount Hagen, Port Moresby, Mount Hagen, Port ...   \n",
       "\n",
       "                                       Partial_Costs    Total_Cost  \\\n",
       "0  [0.0, 755.8972047746067, 5606.6853979173375, 1...  18326.702070   \n",
       "1  [0.0, 755.8972047746067, 5606.6853979173375, 1...  18398.968325   \n",
       "2  [0.0, 755.8972047746067, 5606.6853979173375, 1...  18417.507717   \n",
       "\n",
       "        Target  \n",
       "0       Goroka  \n",
       "1       Madang  \n",
       "2  Mount Hagen  "
      ]
     },
     "metadata": {},
     "output_type": "display_data"
    },
    {
     "name": "stdout",
     "output_type": "stream",
     "text": [
      "\n"
     ]
    }
   ],
   "source": [
    "db.delta_pathing('Airport', 'Label', 'Bogota', 'distance')"
   ]
  }
 ],
 "metadata": {
  "kernelspec": {
   "display_name": "graph_mining",
   "language": "python",
   "name": "python3"
  },
  "language_info": {
   "codemirror_mode": {
    "name": "ipython",
    "version": 3
   },
   "file_extension": ".py",
   "mimetype": "text/x-python",
   "name": "python",
   "nbconvert_exporter": "python",
   "pygments_lexer": "ipython3",
   "version": "3.12.5"
  }
 },
 "nbformat": 4,
 "nbformat_minor": 5
}
