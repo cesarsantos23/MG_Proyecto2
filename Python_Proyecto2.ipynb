{
 "cells": [
  {
   "cell_type": "markdown",
   "id": "be00b0eb",
   "metadata": {},
   "source": [
    "<div style='text-align: center;'>\n",
    "    <img title=\"Banner\" alt=\"Logo ITESO\" src=\"https://oci02.img.iteso.mx/Identidades-De-Instancia/ITESO/Logos%20ITESO/Logo-ITESO-Principal-FondoAzul.png\" width=600 align='center'>\n",
    "</div>\n",
    "\n",
    "# Proyecto 2 - Minería de Grafos\n",
    "## Dr. Victor Hugo Ortega Guzmán\n",
    "\n",
    "* Sofía Maldonado García\n",
    "* Viviana Toledo De la Fuente\n",
    "* César Adrián Santos Santacruz\n",
    "\n",
    "\n"
   ]
  },
  {
   "cell_type": "code",
   "execution_count": 1,
   "id": "71f2ce0f",
   "metadata": {},
   "outputs": [],
   "source": [
    "# Imports"
   ]
  }
 ],
 "metadata": {
  "kernelspec": {
   "display_name": "Neo",
   "language": "python",
   "name": "python3"
  },
  "language_info": {
   "codemirror_mode": {
    "name": "ipython",
    "version": 3
   },
   "file_extension": ".py",
   "mimetype": "text/x-python",
   "name": "python",
   "nbconvert_exporter": "python",
   "pygments_lexer": "ipython3",
   "version": "3.11.13"
  }
 },
 "nbformat": 4,
 "nbformat_minor": 5
}
