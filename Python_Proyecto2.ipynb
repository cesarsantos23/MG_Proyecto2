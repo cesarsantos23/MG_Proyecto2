{
 "cells": [
  {
   "cell_type": "markdown",
   "id": "be00b0eb",
   "metadata": {},
   "source": [
    "<div style='text-align: center;'>\n",
    "    <img title=\"Banner\" alt=\"Logo ITESO\" src=\"https://oci02.img.iteso.mx/Identidades-De-Instancia/ITESO/Logos%20ITESO/Logo-ITESO-Principal-FondoAzul.png\" width=600 align='center'>\n",
    "</div>\n",
    "\n",
    "# Proyecto 2 - Minería de Grafos\n",
    "## Dr. Victor Hugo Ortega Guzmán\n",
    "\n",
    "* Sofía Maldonado García\n",
    "* Viviana Toledo De la Fuente\n",
    "* César Adrián Santos Santacruz\n",
    "\n",
    "\n"
   ]
  },
  {
   "cell_type": "code",
   "execution_count": 1,
   "id": "71f2ce0f",
   "metadata": {},
   "outputs": [
    {
     "ename": "ConfigurationError",
     "evalue": "URI scheme b'' is not supported. Supported URI schemes are ['bolt', 'bolt+ssc', 'bolt+s', 'neo4j', 'neo4j+ssc', 'neo4j+s']. Examples: bolt://host[:port] or neo4j://host[:port][?routing_context]",
     "output_type": "error",
     "traceback": [
      "\u001b[31m---------------------------------------------------------------------------\u001b[39m",
      "\u001b[31mConfigurationError\u001b[39m                        Traceback (most recent call last)",
      "\u001b[36mCell\u001b[39m\u001b[36m \u001b[39m\u001b[32mIn[1]\u001b[39m\u001b[32m, line 8\u001b[39m\n\u001b[32m      5\u001b[39m \u001b[38;5;28;01mfrom\u001b[39;00m\u001b[38;5;250m \u001b[39m\u001b[34;01mqueries\u001b[39;00m\u001b[38;5;250m \u001b[39m\u001b[38;5;28;01mimport\u001b[39;00m DB_Queries\n\u001b[32m      7\u001b[39m \u001b[38;5;66;03m# Establecer conexión\u001b[39;00m\n\u001b[32m----> \u001b[39m\u001b[32m8\u001b[39m db = \u001b[43mDB_Queries\u001b[49m\u001b[43m(\u001b[49m\u001b[43m)\u001b[49m\n",
      "\u001b[36mFile \u001b[39m\u001b[32mc:\\Users\\Vivienne\\apps\\graph_mining\\MG_Proyecto2\\queries.py:18\u001b[39m, in \u001b[36mDB_Queries.__init__\u001b[39m\u001b[34m(self)\u001b[39m\n\u001b[32m     16\u001b[39m \u001b[38;5;28mself\u001b[39m.password = os.getenv(\u001b[33m'\u001b[39m\u001b[33mPASSWORD\u001b[39m\u001b[33m'\u001b[39m)\n\u001b[32m     17\u001b[39m \u001b[38;5;66;03m# Autentificar\u001b[39;00m\n\u001b[32m---> \u001b[39m\u001b[32m18\u001b[39m \u001b[38;5;28mself\u001b[39m.driver = \u001b[43mGraphDatabase\u001b[49m\u001b[43m.\u001b[49m\u001b[43mdriver\u001b[49m\u001b[43m(\u001b[49m\u001b[38;5;28;43mself\u001b[39;49m\u001b[43m.\u001b[49m\u001b[43muri\u001b[49m\u001b[43m,\u001b[49m\u001b[43m \u001b[49m\u001b[43mauth\u001b[49m\u001b[43m \u001b[49m\u001b[43m=\u001b[49m\u001b[43m \u001b[49m\u001b[43m(\u001b[49m\u001b[38;5;28;43mself\u001b[39;49m\u001b[43m.\u001b[49m\u001b[43muser\u001b[49m\u001b[43m,\u001b[49m\u001b[43m \u001b[49m\u001b[38;5;28;43mself\u001b[39;49m\u001b[43m.\u001b[49m\u001b[43mpassword\u001b[49m\u001b[43m)\u001b[49m\u001b[43m)\u001b[49m\n\u001b[32m     20\u001b[39m \u001b[38;5;28;01mtry\u001b[39;00m: \n\u001b[32m     21\u001b[39m     \u001b[38;5;28mself\u001b[39m.driver.verify_connectivity()           \u001b[38;5;66;03m# Comprobar la conexión\u001b[39;00m\n",
      "\u001b[36mFile \u001b[39m\u001b[32mc:\\Users\\Vivienne\\anaconda3\\envs\\graph_mining\\Lib\\site-packages\\neo4j\\_sync\\driver.py:202\u001b[39m, in \u001b[36mGraphDatabase.driver\u001b[39m\u001b[34m(cls, uri, auth, **config)\u001b[39m\n\u001b[32m    183\u001b[39m \u001b[38;5;129m@classmethod\u001b[39m\n\u001b[32m    184\u001b[39m \u001b[38;5;28;01mdef\u001b[39;00m\u001b[38;5;250m \u001b[39m\u001b[34mdriver\u001b[39m(\n\u001b[32m    185\u001b[39m     \u001b[38;5;28mcls\u001b[39m,\n\u001b[32m   (...)\u001b[39m\u001b[32m    189\u001b[39m     **config,\n\u001b[32m    190\u001b[39m ) -> Driver:\n\u001b[32m    191\u001b[39m \u001b[38;5;250m    \u001b[39m\u001b[33;03m\"\"\"\u001b[39;00m\n\u001b[32m    192\u001b[39m \u001b[33;03m    Create a driver.\u001b[39;00m\n\u001b[32m    193\u001b[39m \n\u001b[32m   (...)\u001b[39m\u001b[32m    200\u001b[39m \u001b[33;03m        key-word arguments.\u001b[39;00m\n\u001b[32m    201\u001b[39m \u001b[33;03m    \"\"\"\u001b[39;00m\n\u001b[32m--> \u001b[39m\u001b[32m202\u001b[39m     driver_type, security_type, parsed = \u001b[43mparse_neo4j_uri\u001b[49m\u001b[43m(\u001b[49m\u001b[43muri\u001b[49m\u001b[43m)\u001b[49m\n\u001b[32m    204\u001b[39m     \u001b[38;5;28;01mif\u001b[39;00m \u001b[38;5;129;01mnot\u001b[39;00m \u001b[38;5;28misinstance\u001b[39m(auth, AuthManager):\n\u001b[32m    205\u001b[39m         auth = AuthManagers.static(auth)\n",
      "\u001b[36mFile \u001b[39m\u001b[32mc:\\Users\\Vivienne\\anaconda3\\envs\\graph_mining\\Lib\\site-packages\\neo4j\\api.py:595\u001b[39m, in \u001b[36mparse_neo4j_uri\u001b[39m\u001b[34m(uri)\u001b[39m\n\u001b[32m    586\u001b[39m \u001b[38;5;28;01melse\u001b[39;00m:\n\u001b[32m    587\u001b[39m     supported_schemes = [\n\u001b[32m    588\u001b[39m         URI_SCHEME_BOLT,\n\u001b[32m    589\u001b[39m         URI_SCHEME_BOLT_SELF_SIGNED_CERTIFICATE,\n\u001b[32m   (...)\u001b[39m\u001b[32m    593\u001b[39m         URI_SCHEME_NEO4J_SECURE,\n\u001b[32m    594\u001b[39m     ]\n\u001b[32m--> \u001b[39m\u001b[32m595\u001b[39m     \u001b[38;5;28;01mraise\u001b[39;00m ConfigurationError(\n\u001b[32m    596\u001b[39m         \u001b[33mf\u001b[39m\u001b[33m\"\u001b[39m\u001b[33mURI scheme \u001b[39m\u001b[38;5;132;01m{\u001b[39;00mparsed.scheme\u001b[38;5;132;01m!r}\u001b[39;00m\u001b[33m is not supported. \u001b[39m\u001b[33m\"\u001b[39m\n\u001b[32m    597\u001b[39m         \u001b[33mf\u001b[39m\u001b[33m\"\u001b[39m\u001b[33mSupported URI schemes are \u001b[39m\u001b[38;5;132;01m{\u001b[39;00msupported_schemes\u001b[38;5;132;01m}\u001b[39;00m\u001b[33m. \u001b[39m\u001b[33m\"\u001b[39m\n\u001b[32m    598\u001b[39m         \u001b[33m\"\u001b[39m\u001b[33mExamples: bolt://host[:port] or \u001b[39m\u001b[33m\"\u001b[39m\n\u001b[32m    599\u001b[39m         \u001b[33m\"\u001b[39m\u001b[33mneo4j://host[:port][?routing_context]\u001b[39m\u001b[33m\"\u001b[39m\n\u001b[32m    600\u001b[39m     )\n\u001b[32m    602\u001b[39m \u001b[38;5;28;01mreturn\u001b[39;00m driver_type, security_type, parsed\n",
      "\u001b[31mConfigurationError\u001b[39m: URI scheme b'' is not supported. Supported URI schemes are ['bolt', 'bolt+ssc', 'bolt+s', 'neo4j', 'neo4j+ssc', 'neo4j+s']. Examples: bolt://host[:port] or neo4j://host[:port][?routing_context]"
     ]
    }
   ],
   "source": [
    "# Actualizar \n",
    "import importlib\n",
    "import queries \n",
    "importlib.reload(queries)\n",
    "from queries import DB_Queries\n",
    "\n",
    "# Establecer conexión\n",
    "db = DB_Queries()"
   ]
  }
 ],
 "metadata": {
  "kernelspec": {
   "display_name": "graph_mining",
   "language": "python",
   "name": "python3"
  },
  "language_info": {
   "codemirror_mode": {
    "name": "ipython",
    "version": 3
   },
   "file_extension": ".py",
   "mimetype": "text/x-python",
   "name": "python",
   "nbconvert_exporter": "python",
   "pygments_lexer": "ipython3",
   "version": "3.12.5"
  }
 },
 "nbformat": 4,
 "nbformat_minor": 5
}
