{
 "cells": [
  {
   "cell_type": "markdown",
   "id": "40a467be",
   "metadata": {},
   "source": [
    "___\n",
    "<img style=\"float: right; margin: 15px 15px 15px 15px;\" src=\"https://cdn.brandfetch.io/idjblR01Uf/w/400/h/400/theme/dark/icon.jpeg?c=1dxbfHSJFAPEGdCLU4o5B\" width=\"200px\" height=\"180px\" />\n",
    "\n",
    "# <font color= #5aafc1> **PROYECTO FINAL** </font>\n",
    "#### <font color= #2E9AFE> `Red Aeroportuaria Internacional`</font>\n",
    "- <Strong> Sofía Maldonado, Viviana Toledo, César Adrián Santos </Strong>\n",
    "- <Strong> Fecha </Strong>: 17/07/2025\n",
    "\n",
    "___"
   ]
  },
  {
   "cell_type": "code",
   "execution_count": 4,
   "id": "71f2ce0f",
   "metadata": {},
   "outputs": [
    {
     "name": "stdout",
     "output_type": "stream",
     "text": [
      "Successfully Connected to Neo4j in neo4j database!\n",
      "Successfully Connected to GraphDataScience in neo4j database!\n"
     ]
    }
   ],
   "source": [
    "# Actualizar \n",
    "import importlib\n",
    "import queries \n",
    "importlib.reload(queries)\n",
    "from queries import DB_Queries\n",
    "\n",
    "# Establecer conexión\n",
    "db = DB_Queries()"
   ]
  },
  {
   "cell_type": "markdown",
   "id": "9f3ed0a8",
   "metadata": {},
   "source": [
    "Añadir atributos de Continente a cada nodo:"
   ]
  },
  {
   "cell_type": "code",
   "execution_count": 8,
   "id": "a6433904",
   "metadata": {},
   "outputs": [],
   "source": [
    "query1 = \"\"\"MATCH (a:Airport) \n",
    "WHERE a.country = 'Burma'\n",
    "SET a.country = 'Myanmar'\n",
    "\"\"\"\n",
    "\n",
    "query2 = \"\"\"MATCH (a:Airport) \n",
    "WHERE a.country = 'Congo (Kinshasa)'\n",
    "SET a.country = 'Democratic Republic of the Congo'\n",
    "\"\"\"\n",
    "\n",
    "query3 = \"\"\"MATCH (a:Airport) \n",
    "WHERE a.country = 'Congo (Brazzaville)'\n",
    "SET a.country = 'Republic of the Congo'\n",
    "\"\"\"\n",
    "\n",
    "query4 = f\"\"\"LOAD CSV WITH HEADERS FROM 'https://raw.githubusercontent.com/ch0fas/MG_PROYECTO2/main/data/countries.csv' AS row\n",
    "MATCH (a:Airport)\n",
    "WHERE a.country = row.Country\n",
    "SET a.continent = row.Continent\n",
    "\"\"\"\n",
    "\n",
    "db.custom_query(query4)"
   ]
  },
  {
   "cell_type": "markdown",
   "id": "6ffe27ca",
   "metadata": {},
   "source": [
    "# <font color= #5aafc1> **1. Exploratory Data Analysis** </font>"
   ]
  },
  {
   "cell_type": "markdown",
   "id": "fe946caa",
   "metadata": {},
   "source": [
    "Graph Schema:"
   ]
  },
  {
   "cell_type": "markdown",
   "id": "14a2d519",
   "metadata": {},
   "source": [
    "Node Count:"
   ]
  },
  {
   "cell_type": "code",
   "execution_count": 9,
   "id": "5cf3e923",
   "metadata": {},
   "outputs": [
    {
     "data": {
      "application/vnd.microsoft.datawrangler.viewer.v0+json": {
       "columns": [
        {
         "name": "index",
         "rawType": "int64",
         "type": "integer"
        },
        {
         "name": "Airports",
         "rawType": "int64",
         "type": "integer"
        }
       ],
       "ref": "8bb40ed7-ddbe-42b6-a537-3a5edda64386",
       "rows": [
        [
         "0",
         "3214"
        ]
       ],
       "shape": {
        "columns": 1,
        "rows": 1
       }
      },
      "text/html": [
       "<div>\n",
       "<style scoped>\n",
       "    .dataframe tbody tr th:only-of-type {\n",
       "        vertical-align: middle;\n",
       "    }\n",
       "\n",
       "    .dataframe tbody tr th {\n",
       "        vertical-align: top;\n",
       "    }\n",
       "\n",
       "    .dataframe thead th {\n",
       "        text-align: right;\n",
       "    }\n",
       "</style>\n",
       "<table border=\"1\" class=\"dataframe\">\n",
       "  <thead>\n",
       "    <tr style=\"text-align: right;\">\n",
       "      <th></th>\n",
       "      <th>Airports</th>\n",
       "    </tr>\n",
       "  </thead>\n",
       "  <tbody>\n",
       "    <tr>\n",
       "      <th>0</th>\n",
       "      <td>3214</td>\n",
       "    </tr>\n",
       "  </tbody>\n",
       "</table>\n",
       "</div>"
      ],
      "text/plain": [
       "   Airports\n",
       "0      3214"
      ]
     },
     "execution_count": 9,
     "metadata": {},
     "output_type": "execute_result"
    }
   ],
   "source": [
    "db.count_nodes('Airport')"
   ]
  },
  {
   "cell_type": "markdown",
   "id": "f4156215",
   "metadata": {},
   "source": [
    "Node Attributes:"
   ]
  },
  {
   "cell_type": "code",
   "execution_count": 10,
   "id": "a8c7959a",
   "metadata": {},
   "outputs": [
    {
     "data": {
      "application/vnd.microsoft.datawrangler.viewer.v0+json": {
       "columns": [
        {
         "name": "index",
         "rawType": "int64",
         "type": "integer"
        },
        {
         "name": "nodeType",
         "rawType": "object",
         "type": "string"
        },
        {
         "name": "nodeLabels",
         "rawType": "object",
         "type": "unknown"
        },
        {
         "name": "propertyName",
         "rawType": "object",
         "type": "string"
        },
        {
         "name": "propertyTypes",
         "rawType": "object",
         "type": "unknown"
        },
        {
         "name": "mandatory",
         "rawType": "bool",
         "type": "boolean"
        }
       ],
       "ref": "2273db3a-09df-4813-b833-963724aa7090",
       "rows": [
        [
         "0",
         ":`Airport`",
         "['Airport']",
         "Id",
         "['Long']",
         "True"
        ],
        [
         "1",
         ":`Airport`",
         "['Airport']",
         "latitude",
         "['Double']",
         "True"
        ],
        [
         "2",
         ":`Airport`",
         "['Airport']",
         "country",
         "['String']",
         "True"
        ],
        [
         "3",
         ":`Airport`",
         "['Airport']",
         "longitude",
         "['Double']",
         "True"
        ],
        [
         "4",
         ":`Airport`",
         "['Airport']",
         "Label",
         "['String']",
         "True"
        ],
        [
         "5",
         ":`Airport`",
         "['Airport']",
         "continent",
         "['String']",
         "True"
        ]
       ],
       "shape": {
        "columns": 5,
        "rows": 6
       }
      },
      "text/html": [
       "<div>\n",
       "<style scoped>\n",
       "    .dataframe tbody tr th:only-of-type {\n",
       "        vertical-align: middle;\n",
       "    }\n",
       "\n",
       "    .dataframe tbody tr th {\n",
       "        vertical-align: top;\n",
       "    }\n",
       "\n",
       "    .dataframe thead th {\n",
       "        text-align: right;\n",
       "    }\n",
       "</style>\n",
       "<table border=\"1\" class=\"dataframe\">\n",
       "  <thead>\n",
       "    <tr style=\"text-align: right;\">\n",
       "      <th></th>\n",
       "      <th>nodeType</th>\n",
       "      <th>nodeLabels</th>\n",
       "      <th>propertyName</th>\n",
       "      <th>propertyTypes</th>\n",
       "      <th>mandatory</th>\n",
       "    </tr>\n",
       "  </thead>\n",
       "  <tbody>\n",
       "    <tr>\n",
       "      <th>0</th>\n",
       "      <td>:`Airport`</td>\n",
       "      <td>[Airport]</td>\n",
       "      <td>Id</td>\n",
       "      <td>[Long]</td>\n",
       "      <td>True</td>\n",
       "    </tr>\n",
       "    <tr>\n",
       "      <th>1</th>\n",
       "      <td>:`Airport`</td>\n",
       "      <td>[Airport]</td>\n",
       "      <td>latitude</td>\n",
       "      <td>[Double]</td>\n",
       "      <td>True</td>\n",
       "    </tr>\n",
       "    <tr>\n",
       "      <th>2</th>\n",
       "      <td>:`Airport`</td>\n",
       "      <td>[Airport]</td>\n",
       "      <td>country</td>\n",
       "      <td>[String]</td>\n",
       "      <td>True</td>\n",
       "    </tr>\n",
       "    <tr>\n",
       "      <th>3</th>\n",
       "      <td>:`Airport`</td>\n",
       "      <td>[Airport]</td>\n",
       "      <td>longitude</td>\n",
       "      <td>[Double]</td>\n",
       "      <td>True</td>\n",
       "    </tr>\n",
       "    <tr>\n",
       "      <th>4</th>\n",
       "      <td>:`Airport`</td>\n",
       "      <td>[Airport]</td>\n",
       "      <td>Label</td>\n",
       "      <td>[String]</td>\n",
       "      <td>True</td>\n",
       "    </tr>\n",
       "    <tr>\n",
       "      <th>5</th>\n",
       "      <td>:`Airport`</td>\n",
       "      <td>[Airport]</td>\n",
       "      <td>continent</td>\n",
       "      <td>[String]</td>\n",
       "      <td>True</td>\n",
       "    </tr>\n",
       "  </tbody>\n",
       "</table>\n",
       "</div>"
      ],
      "text/plain": [
       "     nodeType nodeLabels propertyName propertyTypes  mandatory\n",
       "0  :`Airport`  [Airport]           Id        [Long]       True\n",
       "1  :`Airport`  [Airport]     latitude      [Double]       True\n",
       "2  :`Airport`  [Airport]      country      [String]       True\n",
       "3  :`Airport`  [Airport]    longitude      [Double]       True\n",
       "4  :`Airport`  [Airport]        Label      [String]       True\n",
       "5  :`Airport`  [Airport]    continent      [String]       True"
      ]
     },
     "execution_count": 10,
     "metadata": {},
     "output_type": "execute_result"
    }
   ],
   "source": [
    "db.node_attributes()"
   ]
  },
  {
   "cell_type": "markdown",
   "id": "95c877b0",
   "metadata": {},
   "source": [
    "Relationship Count:"
   ]
  },
  {
   "cell_type": "code",
   "execution_count": 11,
   "id": "aea4d88d",
   "metadata": {},
   "outputs": [
    {
     "data": {
      "application/vnd.microsoft.datawrangler.viewer.v0+json": {
       "columns": [
        {
         "name": "index",
         "rawType": "int64",
         "type": "integer"
        },
        {
         "name": "TO_Count",
         "rawType": "int64",
         "type": "integer"
        }
       ],
       "ref": "1da794b7-530e-4e28-bd3a-d556a5142d3e",
       "rows": [
        [
         "0",
         "36907"
        ]
       ],
       "shape": {
        "columns": 1,
        "rows": 1
       }
      },
      "text/html": [
       "<div>\n",
       "<style scoped>\n",
       "    .dataframe tbody tr th:only-of-type {\n",
       "        vertical-align: middle;\n",
       "    }\n",
       "\n",
       "    .dataframe tbody tr th {\n",
       "        vertical-align: top;\n",
       "    }\n",
       "\n",
       "    .dataframe thead th {\n",
       "        text-align: right;\n",
       "    }\n",
       "</style>\n",
       "<table border=\"1\" class=\"dataframe\">\n",
       "  <thead>\n",
       "    <tr style=\"text-align: right;\">\n",
       "      <th></th>\n",
       "      <th>TO_Count</th>\n",
       "    </tr>\n",
       "  </thead>\n",
       "  <tbody>\n",
       "    <tr>\n",
       "      <th>0</th>\n",
       "      <td>36907</td>\n",
       "    </tr>\n",
       "  </tbody>\n",
       "</table>\n",
       "</div>"
      ],
      "text/plain": [
       "   TO_Count\n",
       "0     36907"
      ]
     },
     "execution_count": 11,
     "metadata": {},
     "output_type": "execute_result"
    }
   ],
   "source": [
    "db.count_relationships('TO')"
   ]
  },
  {
   "cell_type": "markdown",
   "id": "291670f9",
   "metadata": {},
   "source": [
    "Relationship Attributes:"
   ]
  },
  {
   "cell_type": "code",
   "execution_count": 12,
   "id": "b4e0fdcf",
   "metadata": {},
   "outputs": [
    {
     "data": {
      "application/vnd.microsoft.datawrangler.viewer.v0+json": {
       "columns": [
        {
         "name": "index",
         "rawType": "int64",
         "type": "integer"
        },
        {
         "name": "relType",
         "rawType": "object",
         "type": "string"
        },
        {
         "name": "propertyName",
         "rawType": "object",
         "type": "string"
        },
        {
         "name": "propertyTypes",
         "rawType": "object",
         "type": "unknown"
        },
        {
         "name": "mandatory",
         "rawType": "bool",
         "type": "boolean"
        }
       ],
       "ref": "5c2ce46d-f45e-4cbb-be0d-a8e4dfe4aceb",
       "rows": [
        [
         "0",
         ":`TO`",
         "distance",
         "['Double']",
         "True"
        ]
       ],
       "shape": {
        "columns": 4,
        "rows": 1
       }
      },
      "text/html": [
       "<div>\n",
       "<style scoped>\n",
       "    .dataframe tbody tr th:only-of-type {\n",
       "        vertical-align: middle;\n",
       "    }\n",
       "\n",
       "    .dataframe tbody tr th {\n",
       "        vertical-align: top;\n",
       "    }\n",
       "\n",
       "    .dataframe thead th {\n",
       "        text-align: right;\n",
       "    }\n",
       "</style>\n",
       "<table border=\"1\" class=\"dataframe\">\n",
       "  <thead>\n",
       "    <tr style=\"text-align: right;\">\n",
       "      <th></th>\n",
       "      <th>relType</th>\n",
       "      <th>propertyName</th>\n",
       "      <th>propertyTypes</th>\n",
       "      <th>mandatory</th>\n",
       "    </tr>\n",
       "  </thead>\n",
       "  <tbody>\n",
       "    <tr>\n",
       "      <th>0</th>\n",
       "      <td>:`TO`</td>\n",
       "      <td>distance</td>\n",
       "      <td>[Double]</td>\n",
       "      <td>True</td>\n",
       "    </tr>\n",
       "  </tbody>\n",
       "</table>\n",
       "</div>"
      ],
      "text/plain": [
       "  relType propertyName propertyTypes  mandatory\n",
       "0   :`TO`     distance      [Double]       True"
      ]
     },
     "execution_count": 12,
     "metadata": {},
     "output_type": "execute_result"
    }
   ],
   "source": [
    "db.rel_attributes()"
   ]
  },
  {
   "cell_type": "markdown",
   "id": "14bb5972",
   "metadata": {},
   "source": [
    "# <font color= #5aafc1> **2. Centrality & Community Algorithms** </font>"
   ]
  },
  {
   "cell_type": "code",
   "execution_count": 13,
   "id": "2fffca1d",
   "metadata": {},
   "outputs": [
    {
     "name": "stdout",
     "output_type": "stream",
     "text": [
      "Successfully created Directed Subgraph with Airport nodes and TO relationships!\n"
     ]
    }
   ],
   "source": [
    "db.create_subgraph('Airport', 'TO', 'NATURAL','distance')"
   ]
  },
  {
   "cell_type": "code",
   "execution_count": 14,
   "id": "9c5b62ee",
   "metadata": {},
   "outputs": [
    {
     "name": "stdout",
     "output_type": "stream",
     "text": [
      "Successfully created Undirected Subgraph with Airport nodes and TO relationships!\n"
     ]
    }
   ],
   "source": [
    "db.create_subgraph('Airport', 'TO', 'UNDIRECTED','distance')"
   ]
  },
  {
   "cell_type": "markdown",
   "id": "f687f004",
   "metadata": {},
   "source": [
    "# <font color= #5aafc1> **3. Path Finding Algorithms** </font>"
   ]
  },
  {
   "cell_type": "code",
   "execution_count": 15,
   "id": "78167b4d",
   "metadata": {},
   "outputs": [
    {
     "name": "stdout",
     "output_type": "stream",
     "text": [
      "Directed Delta Pathing for Bogota added!\n"
     ]
    },
    {
     "data": {
      "application/vnd.microsoft.datawrangler.viewer.v0+json": {
       "columns": [
        {
         "name": "index",
         "rawType": "int64",
         "type": "integer"
        },
        {
         "name": "Source",
         "rawType": "object",
         "type": "string"
        },
        {
         "name": "Bridges",
         "rawType": "object",
         "type": "string"
        },
        {
         "name": "Partial_Costs",
         "rawType": "object",
         "type": "string"
        },
        {
         "name": "Total_Cost",
         "rawType": "object",
         "type": "string"
        },
        {
         "name": "Target",
         "rawType": "object",
         "type": "string"
        }
       ],
       "ref": "6f6c218c-b5e9-4e82-9f95-6bdf60c33faa",
       "rows": [],
       "shape": {
        "columns": 5,
        "rows": 0
       }
      },
      "text/html": [
       "<div>\n",
       "<style scoped>\n",
       "    .dataframe tbody tr th:only-of-type {\n",
       "        vertical-align: middle;\n",
       "    }\n",
       "\n",
       "    .dataframe tbody tr th {\n",
       "        vertical-align: top;\n",
       "    }\n",
       "\n",
       "    .dataframe thead th {\n",
       "        text-align: right;\n",
       "    }\n",
       "</style>\n",
       "<table border=\"1\" class=\"dataframe\">\n",
       "  <thead>\n",
       "    <tr style=\"text-align: right;\">\n",
       "      <th></th>\n",
       "      <th>Source</th>\n",
       "      <th>Bridges</th>\n",
       "      <th>Partial_Costs</th>\n",
       "      <th>Total_Cost</th>\n",
       "      <th>Target</th>\n",
       "    </tr>\n",
       "  </thead>\n",
       "  <tbody>\n",
       "  </tbody>\n",
       "</table>\n",
       "</div>"
      ],
      "text/plain": [
       "Empty DataFrame\n",
       "Columns: [Source, Bridges, Partial_Costs, Total_Cost, Target]\n",
       "Index: []"
      ]
     },
     "metadata": {},
     "output_type": "display_data"
    },
    {
     "name": "stdout",
     "output_type": "stream",
     "text": [
      "\n",
      "Undirected Delta Pathing for Bogota added!\n"
     ]
    },
    {
     "data": {
      "application/vnd.microsoft.datawrangler.viewer.v0+json": {
       "columns": [
        {
         "name": "index",
         "rawType": "int64",
         "type": "integer"
        },
        {
         "name": "Source",
         "rawType": "object",
         "type": "string"
        },
        {
         "name": "Bridges",
         "rawType": "object",
         "type": "string"
        },
        {
         "name": "Partial_Costs",
         "rawType": "object",
         "type": "string"
        },
        {
         "name": "Total_Cost",
         "rawType": "object",
         "type": "string"
        },
        {
         "name": "Target",
         "rawType": "object",
         "type": "string"
        }
       ],
       "ref": "42e35e8f-bff3-473c-8914-c7efb35d8416",
       "rows": [],
       "shape": {
        "columns": 5,
        "rows": 0
       }
      },
      "text/html": [
       "<div>\n",
       "<style scoped>\n",
       "    .dataframe tbody tr th:only-of-type {\n",
       "        vertical-align: middle;\n",
       "    }\n",
       "\n",
       "    .dataframe tbody tr th {\n",
       "        vertical-align: top;\n",
       "    }\n",
       "\n",
       "    .dataframe thead th {\n",
       "        text-align: right;\n",
       "    }\n",
       "</style>\n",
       "<table border=\"1\" class=\"dataframe\">\n",
       "  <thead>\n",
       "    <tr style=\"text-align: right;\">\n",
       "      <th></th>\n",
       "      <th>Source</th>\n",
       "      <th>Bridges</th>\n",
       "      <th>Partial_Costs</th>\n",
       "      <th>Total_Cost</th>\n",
       "      <th>Target</th>\n",
       "    </tr>\n",
       "  </thead>\n",
       "  <tbody>\n",
       "  </tbody>\n",
       "</table>\n",
       "</div>"
      ],
      "text/plain": [
       "Empty DataFrame\n",
       "Columns: [Source, Bridges, Partial_Costs, Total_Cost, Target]\n",
       "Index: []"
      ]
     },
     "metadata": {},
     "output_type": "display_data"
    },
    {
     "name": "stdout",
     "output_type": "stream",
     "text": [
      "\n"
     ]
    }
   ],
   "source": [
    "db.delta_pathing('Airport', 'Label', 'Bogota', 'distance')"
   ]
  }
 ],
 "metadata": {
  "kernelspec": {
   "display_name": "Neo",
   "language": "python",
   "name": "python3"
  },
  "language_info": {
   "codemirror_mode": {
    "name": "ipython",
    "version": 3
   },
   "file_extension": ".py",
   "mimetype": "text/x-python",
   "name": "python",
   "nbconvert_exporter": "python",
   "pygments_lexer": "ipython3",
   "version": "3.11.13"
  }
 },
 "nbformat": 4,
 "nbformat_minor": 5
}
