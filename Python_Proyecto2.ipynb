{
 "cells": [
  {
   "cell_type": "markdown",
   "id": "40a467be",
   "metadata": {},
   "source": [
    "___\n",
    "<img style=\"float: right; margin: 15px 15px 15px 15px;\" src=\"https://cdn.brandfetch.io/idjblR01Uf/w/400/h/400/theme/dark/icon.jpeg?c=1dxbfHSJFAPEGdCLU4o5B\" width=\"200px\" height=\"180px\" />\n",
    "\n",
    "# <font color= #5aafc1> **PROYECTO FINAL** </font>\n",
    "#### <font color= #2E9AFE> `Red Aeroportuaria Internacional`</font>\n",
    "- <Strong> Sofía Maldonado, Viviana Toledo, César Adrián Santos </Strong>\n",
    "- <Strong> Fecha </Strong>: 17/07/2025\n",
    "\n",
    "___"
   ]
  },
  {
   "cell_type": "code",
   "execution_count": 40,
   "id": "71f2ce0f",
   "metadata": {},
   "outputs": [
    {
     "name": "stdout",
     "output_type": "stream",
     "text": [
      "Successfully Connected to Neo4j in neo5j database!\n",
      "Successfully Connected to GraphDataScience in neo5j database!\n"
     ]
    }
   ],
   "source": [
    "# Actualizar \n",
    "import importlib\n",
    "import queries \n",
    "importlib.reload(queries)\n",
    "from queries import DB_Queries\n",
    "\n",
    "# Establecer conexión\n",
    "db = DB_Queries('neo5j')"
   ]
  },
  {
   "cell_type": "markdown",
   "id": "6ffe27ca",
   "metadata": {},
   "source": [
    "# <font color= #5aafc1> **1. Exploratory Data Analysis** </font>"
   ]
  },
  {
   "cell_type": "markdown",
   "id": "14a2d519",
   "metadata": {},
   "source": [
    "Node Count:"
   ]
  },
  {
   "cell_type": "code",
   "execution_count": 38,
   "id": "5cf3e923",
   "metadata": {},
   "outputs": [
    {
     "name": "stdout",
     "output_type": "stream",
     "text": [
      "[{'Airports': 3214}]\n"
     ]
    }
   ],
   "source": [
    "db.count_nodes('Airport')"
   ]
  },
  {
   "cell_type": "markdown",
   "id": "95c877b0",
   "metadata": {},
   "source": [
    "Relationship Count:"
   ]
  },
  {
   "cell_type": "code",
   "execution_count": null,
   "id": "aea4d88d",
   "metadata": {},
   "outputs": [],
   "source": [
    "db.count_relationships('TO')"
   ]
  }
 ],
 "metadata": {
  "kernelspec": {
   "display_name": "Neo",
   "language": "python",
   "name": "python3"
  },
  "language_info": {
   "codemirror_mode": {
    "name": "ipython",
    "version": 3
   },
   "file_extension": ".py",
   "mimetype": "text/x-python",
   "name": "python",
   "nbconvert_exporter": "python",
   "pygments_lexer": "ipython3",
   "version": "3.12.11"
  }
 },
 "nbformat": 4,
 "nbformat_minor": 5
}
