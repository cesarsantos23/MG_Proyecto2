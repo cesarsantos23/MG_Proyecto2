{
 "cells": [
  {
   "cell_type": "markdown",
   "id": "40a467be",
   "metadata": {},
   "source": [
    "___\n",
    "<img style=\"float: right; margin: 15px 15px 15px 15px;\" src=\"https://cdn.brandfetch.io/idjblR01Uf/w/400/h/400/theme/dark/icon.jpeg?c=1dxbfHSJFAPEGdCLU4o5B\" width=\"200px\" height=\"180px\" />\n",
    "\n",
    "# <font color= #5aafc1> **PROYECTO FINAL** </font>\n",
    "#### <font color= #2E9AFE> `Red Aeroportuaria Internacional`</font>\n",
    "- <Strong> Sofía Maldonado, Viviana Toledo, César Adrián Santos </Strong>\n",
    "- <Strong> Fecha </Strong>: 17/07/2025\n",
    "\n",
    "___"
   ]
  },
  {
   "cell_type": "code",
   "execution_count": null,
   "id": "71f2ce0f",
   "metadata": {},
   "outputs": [],
   "source": [
    "# Actualizar \n",
    "import importlib\n",
    "import queries \n",
    "importlib.reload(queries)\n",
    "from queries import DB_Queries\n",
    "\n",
    "# Establecer conexión\n",
    "db = DB_Queries('neo5j')"
   ]
  },
  {
   "cell_type": "markdown",
   "id": "9f3ed0a8",
   "metadata": {},
   "source": [
    "Añadir atributos de Continente a cada nodo:"
   ]
  },
  {
   "cell_type": "code",
   "execution_count": 8,
   "id": "a6433904",
   "metadata": {},
   "outputs": [],
   "source": [
    "query1 = \"\"\"MATCH (a:Airport) \n",
    "WHERE a.country = 'Burma'\n",
    "SET a.country = 'Myanmar'\n",
    "\"\"\"\n",
    "\n",
    "query2 = \"\"\"MATCH (a:Airport) \n",
    "WHERE a.country = 'Congo (Kinshasa)'\n",
    "SET a.country = 'Democratic Republic of the Congo'\n",
    "\"\"\"\n",
    "\n",
    "query3 = \"\"\"MATCH (a:Airport) \n",
    "WHERE a.country = 'Congo (Brazzaville)'\n",
    "SET a.country = 'Republic of the Congo'\n",
    "\"\"\"\n",
    "\n",
    "query4 = f\"\"\"LOAD CSV WITH HEADERS FROM 'https://raw.githubusercontent.com/ch0fas/MG_PROYECTO2/main/data/countries.csv' AS row\n",
    "MATCH (a:Airport)\n",
    "WHERE a.country = row.Country\n",
    "SET a.continent = row.Continent\n",
    "\"\"\"\n",
    "\n",
    "db.custom_query(query4)"
   ]
  },
  {
   "cell_type": "markdown",
   "id": "7ae2f8cd",
   "metadata": {},
   "source": [
    "# <font color= #5aafc1> **Exploratory Data Analysis** </font>"
   ]
  },
  {
   "cell_type": "markdown",
   "id": "6ffe27ca",
   "metadata": {},
   "source": [
    "#### <font color= #5aafc1> **4.2** </font>"
   ]
  },
  {
   "cell_type": "markdown",
   "id": "fe946caa",
   "metadata": {},
   "source": [
    "Graph Schema:"
   ]
  },
  {
   "cell_type": "markdown",
   "id": "14a2d519",
   "metadata": {},
   "source": [
    "Node Count:"
   ]
  },
  {
   "cell_type": "code",
   "execution_count": null,
   "id": "5cf3e923",
   "metadata": {},
   "outputs": [
    {
     "data": {
      "application/vnd.microsoft.datawrangler.viewer.v0+json": {
       "columns": [
        {
         "name": "index",
         "rawType": "int64",
         "type": "integer"
        },
        {
         "name": "Airports",
         "rawType": "int64",
         "type": "integer"
        }
       ],
       "ref": "8bb40ed7-ddbe-42b6-a537-3a5edda64386",
       "rows": [
        [
         "0",
         "3214"
        ]
       ],
       "shape": {
        "columns": 1,
        "rows": 1
       }
      },
      "text/html": [
       "<div>\n",
       "<style scoped>\n",
       "    .dataframe tbody tr th:only-of-type {\n",
       "        vertical-align: middle;\n",
       "    }\n",
       "\n",
       "    .dataframe tbody tr th {\n",
       "        vertical-align: top;\n",
       "    }\n",
       "\n",
       "    .dataframe thead th {\n",
       "        text-align: right;\n",
       "    }\n",
       "</style>\n",
       "<table border=\"1\" class=\"dataframe\">\n",
       "  <thead>\n",
       "    <tr style=\"text-align: right;\">\n",
       "      <th></th>\n",
       "      <th>Airports</th>\n",
       "    </tr>\n",
       "  </thead>\n",
       "  <tbody>\n",
       "    <tr>\n",
       "      <th>0</th>\n",
       "      <td>3214</td>\n",
       "    </tr>\n",
       "  </tbody>\n",
       "</table>\n",
       "</div>"
      ],
      "text/plain": [
       "   Airports\n",
       "0      3214"
      ]
     },
     "execution_count": 9,
     "metadata": {},
     "output_type": "execute_result"
    }
   ],
   "source": [
    "# 4.2.2\n",
    "db.count_nodes('Airport')"
   ]
  },
  {
   "cell_type": "markdown",
   "id": "f4156215",
   "metadata": {},
   "source": [
    "Node Attributes:"
   ]
  },
  {
   "cell_type": "code",
   "execution_count": 10,
   "id": "a8c7959a",
   "metadata": {},
   "outputs": [
    {
     "data": {
      "application/vnd.microsoft.datawrangler.viewer.v0+json": {
       "columns": [
        {
         "name": "index",
         "rawType": "int64",
         "type": "integer"
        },
        {
         "name": "nodeType",
         "rawType": "object",
         "type": "string"
        },
        {
         "name": "nodeLabels",
         "rawType": "object",
         "type": "unknown"
        },
        {
         "name": "propertyName",
         "rawType": "object",
         "type": "string"
        },
        {
         "name": "propertyTypes",
         "rawType": "object",
         "type": "unknown"
        },
        {
         "name": "mandatory",
         "rawType": "bool",
         "type": "boolean"
        }
       ],
       "ref": "2273db3a-09df-4813-b833-963724aa7090",
       "rows": [
        [
         "0",
         ":`Airport`",
         "['Airport']",
         "Id",
         "['Long']",
         "True"
        ],
        [
         "1",
         ":`Airport`",
         "['Airport']",
         "latitude",
         "['Double']",
         "True"
        ],
        [
         "2",
         ":`Airport`",
         "['Airport']",
         "country",
         "['String']",
         "True"
        ],
        [
         "3",
         ":`Airport`",
         "['Airport']",
         "longitude",
         "['Double']",
         "True"
        ],
        [
         "4",
         ":`Airport`",
         "['Airport']",
         "Label",
         "['String']",
         "True"
        ],
        [
         "5",
         ":`Airport`",
         "['Airport']",
         "continent",
         "['String']",
         "True"
        ]
       ],
       "shape": {
        "columns": 5,
        "rows": 6
       }
      },
      "text/html": [
       "<div>\n",
       "<style scoped>\n",
       "    .dataframe tbody tr th:only-of-type {\n",
       "        vertical-align: middle;\n",
       "    }\n",
       "\n",
       "    .dataframe tbody tr th {\n",
       "        vertical-align: top;\n",
       "    }\n",
       "\n",
       "    .dataframe thead th {\n",
       "        text-align: right;\n",
       "    }\n",
       "</style>\n",
       "<table border=\"1\" class=\"dataframe\">\n",
       "  <thead>\n",
       "    <tr style=\"text-align: right;\">\n",
       "      <th></th>\n",
       "      <th>nodeType</th>\n",
       "      <th>nodeLabels</th>\n",
       "      <th>propertyName</th>\n",
       "      <th>propertyTypes</th>\n",
       "      <th>mandatory</th>\n",
       "    </tr>\n",
       "  </thead>\n",
       "  <tbody>\n",
       "    <tr>\n",
       "      <th>0</th>\n",
       "      <td>:`Airport`</td>\n",
       "      <td>[Airport]</td>\n",
       "      <td>Id</td>\n",
       "      <td>[Long]</td>\n",
       "      <td>True</td>\n",
       "    </tr>\n",
       "    <tr>\n",
       "      <th>1</th>\n",
       "      <td>:`Airport`</td>\n",
       "      <td>[Airport]</td>\n",
       "      <td>latitude</td>\n",
       "      <td>[Double]</td>\n",
       "      <td>True</td>\n",
       "    </tr>\n",
       "    <tr>\n",
       "      <th>2</th>\n",
       "      <td>:`Airport`</td>\n",
       "      <td>[Airport]</td>\n",
       "      <td>country</td>\n",
       "      <td>[String]</td>\n",
       "      <td>True</td>\n",
       "    </tr>\n",
       "    <tr>\n",
       "      <th>3</th>\n",
       "      <td>:`Airport`</td>\n",
       "      <td>[Airport]</td>\n",
       "      <td>longitude</td>\n",
       "      <td>[Double]</td>\n",
       "      <td>True</td>\n",
       "    </tr>\n",
       "    <tr>\n",
       "      <th>4</th>\n",
       "      <td>:`Airport`</td>\n",
       "      <td>[Airport]</td>\n",
       "      <td>Label</td>\n",
       "      <td>[String]</td>\n",
       "      <td>True</td>\n",
       "    </tr>\n",
       "    <tr>\n",
       "      <th>5</th>\n",
       "      <td>:`Airport`</td>\n",
       "      <td>[Airport]</td>\n",
       "      <td>continent</td>\n",
       "      <td>[String]</td>\n",
       "      <td>True</td>\n",
       "    </tr>\n",
       "  </tbody>\n",
       "</table>\n",
       "</div>"
      ],
      "text/plain": [
       "     nodeType nodeLabels propertyName propertyTypes  mandatory\n",
       "0  :`Airport`  [Airport]           Id        [Long]       True\n",
       "1  :`Airport`  [Airport]     latitude      [Double]       True\n",
       "2  :`Airport`  [Airport]      country      [String]       True\n",
       "3  :`Airport`  [Airport]    longitude      [Double]       True\n",
       "4  :`Airport`  [Airport]        Label      [String]       True\n",
       "5  :`Airport`  [Airport]    continent      [String]       True"
      ]
     },
     "execution_count": 10,
     "metadata": {},
     "output_type": "execute_result"
    }
   ],
   "source": [
    "db.node_attributes()"
   ]
  },
  {
   "cell_type": "markdown",
   "id": "95c877b0",
   "metadata": {},
   "source": [
    "Relationship Count:"
   ]
  },
  {
   "cell_type": "code",
   "execution_count": 11,
   "id": "aea4d88d",
   "metadata": {},
   "outputs": [
    {
     "data": {
      "application/vnd.microsoft.datawrangler.viewer.v0+json": {
       "columns": [
        {
         "name": "index",
         "rawType": "int64",
         "type": "integer"
        },
        {
         "name": "TO_Count",
         "rawType": "int64",
         "type": "integer"
        }
       ],
       "ref": "1da794b7-530e-4e28-bd3a-d556a5142d3e",
       "rows": [
        [
         "0",
         "36907"
        ]
       ],
       "shape": {
        "columns": 1,
        "rows": 1
       }
      },
      "text/html": [
       "<div>\n",
       "<style scoped>\n",
       "    .dataframe tbody tr th:only-of-type {\n",
       "        vertical-align: middle;\n",
       "    }\n",
       "\n",
       "    .dataframe tbody tr th {\n",
       "        vertical-align: top;\n",
       "    }\n",
       "\n",
       "    .dataframe thead th {\n",
       "        text-align: right;\n",
       "    }\n",
       "</style>\n",
       "<table border=\"1\" class=\"dataframe\">\n",
       "  <thead>\n",
       "    <tr style=\"text-align: right;\">\n",
       "      <th></th>\n",
       "      <th>TO_Count</th>\n",
       "    </tr>\n",
       "  </thead>\n",
       "  <tbody>\n",
       "    <tr>\n",
       "      <th>0</th>\n",
       "      <td>36907</td>\n",
       "    </tr>\n",
       "  </tbody>\n",
       "</table>\n",
       "</div>"
      ],
      "text/plain": [
       "   TO_Count\n",
       "0     36907"
      ]
     },
     "execution_count": 11,
     "metadata": {},
     "output_type": "execute_result"
    }
   ],
   "source": [
    "db.count_relationships('TO')"
   ]
  },
  {
   "cell_type": "markdown",
   "id": "291670f9",
   "metadata": {},
   "source": [
    "Relationship Attributes:"
   ]
  },
  {
   "cell_type": "code",
   "execution_count": 12,
   "id": "b4e0fdcf",
   "metadata": {},
   "outputs": [
    {
     "data": {
      "application/vnd.microsoft.datawrangler.viewer.v0+json": {
       "columns": [
        {
         "name": "index",
         "rawType": "int64",
         "type": "integer"
        },
        {
         "name": "relType",
         "rawType": "object",
         "type": "string"
        },
        {
         "name": "propertyName",
         "rawType": "object",
         "type": "string"
        },
        {
         "name": "propertyTypes",
         "rawType": "object",
         "type": "unknown"
        },
        {
         "name": "mandatory",
         "rawType": "bool",
         "type": "boolean"
        }
       ],
       "ref": "5c2ce46d-f45e-4cbb-be0d-a8e4dfe4aceb",
       "rows": [
        [
         "0",
         ":`TO`",
         "distance",
         "['Double']",
         "True"
        ]
       ],
       "shape": {
        "columns": 4,
        "rows": 1
       }
      },
      "text/html": [
       "<div>\n",
       "<style scoped>\n",
       "    .dataframe tbody tr th:only-of-type {\n",
       "        vertical-align: middle;\n",
       "    }\n",
       "\n",
       "    .dataframe tbody tr th {\n",
       "        vertical-align: top;\n",
       "    }\n",
       "\n",
       "    .dataframe thead th {\n",
       "        text-align: right;\n",
       "    }\n",
       "</style>\n",
       "<table border=\"1\" class=\"dataframe\">\n",
       "  <thead>\n",
       "    <tr style=\"text-align: right;\">\n",
       "      <th></th>\n",
       "      <th>relType</th>\n",
       "      <th>propertyName</th>\n",
       "      <th>propertyTypes</th>\n",
       "      <th>mandatory</th>\n",
       "    </tr>\n",
       "  </thead>\n",
       "  <tbody>\n",
       "    <tr>\n",
       "      <th>0</th>\n",
       "      <td>:`TO`</td>\n",
       "      <td>distance</td>\n",
       "      <td>[Double]</td>\n",
       "      <td>True</td>\n",
       "    </tr>\n",
       "  </tbody>\n",
       "</table>\n",
       "</div>"
      ],
      "text/plain": [
       "  relType propertyName propertyTypes  mandatory\n",
       "0   :`TO`     distance      [Double]       True"
      ]
     },
     "execution_count": 12,
     "metadata": {},
     "output_type": "execute_result"
    }
   ],
   "source": [
    "db.rel_attributes()"
   ]
  },
  {
   "cell_type": "markdown",
   "id": "14bb5972",
   "metadata": {},
   "source": [
    "# <font color= #5aafc1> **Centrality & Community Algorithms** </font>"
   ]
  },
  {
   "cell_type": "markdown",
   "id": "cc2fed25",
   "metadata": {},
   "source": [
    "Subgraphs:"
   ]
  },
  {
   "cell_type": "code",
   "execution_count": 3,
   "id": "2fffca1d",
   "metadata": {},
   "outputs": [
    {
     "name": "stdout",
     "output_type": "stream",
     "text": [
      "Successfully created Directed Subgraph with Airport nodes and TO relationships!\n"
     ]
    }
   ],
   "source": [
    "db.create_subgraph('Airport', 'TO', 'NATURAL','distance')"
   ]
  },
  {
   "cell_type": "code",
   "execution_count": 4,
   "id": "9c5b62ee",
   "metadata": {},
   "outputs": [
    {
     "name": "stdout",
     "output_type": "stream",
     "text": [
      "Successfully created Undirected Subgraph with Airport nodes and TO relationships!\n"
     ]
    }
   ],
   "source": [
    "db.create_subgraph('Airport', 'TO', 'UNDIRECTED','distance')"
   ]
  },
  {
   "cell_type": "markdown",
   "id": "5c6aa9ae",
   "metadata": {},
   "source": [
    "Centrality Algorithms:"
   ]
  },
  {
   "cell_type": "code",
   "execution_count": 6,
   "id": "20bf2ac4",
   "metadata": {},
   "outputs": [
    {
     "name": "stdout",
     "output_type": "stream",
     "text": [
      "Degree Attribute added Successfully!\n",
      "In_Degree Attribute added Successfully!\n",
      "Page Rank Attribute added Successfully!\n",
      "Betweenness Attribute added Successfully!\n",
      "Closeness Attribute added Successfully!\n"
     ]
    }
   ],
   "source": [
    "db.degrees('Airport')\n",
    "db.page_rank('Airport')\n",
    "db.betwenness('Airport')\n",
    "db.closeness('Airport')"
   ]
  },
  {
   "cell_type": "markdown",
   "id": "f687f004",
   "metadata": {},
   "source": [
    "# <font color= #5aafc1> **Path Finding Algorithms** </font>"
   ]
  },
  {
   "cell_type": "markdown",
   "id": "aa9b08d3",
   "metadata": {},
   "source": [
    "#### <font color= #5aafc1> **4.3** </font>"
   ]
  },
  {
   "cell_type": "code",
   "execution_count": 4,
   "id": "806ea62a",
   "metadata": {},
   "outputs": [
    {
     "data": {
      "application/vnd.microsoft.datawrangler.viewer.v0+json": {
       "columns": [
        {
         "name": "index",
         "rawType": "int64",
         "type": "integer"
        }
       ],
       "ref": "a31cbe88-d414-48f5-a8af-0bce7d4cf24d",
       "rows": [],
       "shape": {
        "columns": 0,
        "rows": 0
       }
      },
      "text/html": [
       "<div>\n",
       "<style scoped>\n",
       "    .dataframe tbody tr th:only-of-type {\n",
       "        vertical-align: middle;\n",
       "    }\n",
       "\n",
       "    .dataframe tbody tr th {\n",
       "        vertical-align: top;\n",
       "    }\n",
       "\n",
       "    .dataframe thead th {\n",
       "        text-align: right;\n",
       "    }\n",
       "</style>\n",
       "<table border=\"1\" class=\"dataframe\">\n",
       "  <thead>\n",
       "    <tr style=\"text-align: right;\">\n",
       "      <th></th>\n",
       "    </tr>\n",
       "  </thead>\n",
       "  <tbody>\n",
       "  </tbody>\n",
       "</table>\n",
       "</div>"
      ],
      "text/plain": [
       "Empty DataFrame\n",
       "Columns: []\n",
       "Index: []"
      ]
     },
     "execution_count": 4,
     "metadata": {},
     "output_type": "execute_result"
    }
   ],
   "source": [
    "# Le voy a agregar atributos de latitud y longitud en integer para poder meterlo a Gephi \n",
    "\n",
    "query4_3 = f\"\"\"\n",
    "    MATCH (n)\n",
    "    SET n.latInt = toInteger(n.latitude)\n",
    "    SET n.longInt = toInteger(n.longitude)\n",
    "\"\"\"\n",
    "\n",
    "db.custom_query(query4_3)"
   ]
  },
  {
   "cell_type": "markdown",
   "id": "a7f0215d",
   "metadata": {},
   "source": [
    "#### <font color= #5aafc1> **4.5** </font>"
   ]
  },
  {
   "cell_type": "code",
   "execution_count": 35,
   "id": "3606cb1b",
   "metadata": {},
   "outputs": [
    {
     "data": {
      "application/vnd.microsoft.datawrangler.viewer.v0+json": {
       "columns": [
        {
         "name": "index",
         "rawType": "int64",
         "type": "integer"
        },
        {
         "name": "a.Label",
         "rawType": "object",
         "type": "string"
        },
        {
         "name": "Dist1",
         "rawType": "float64",
         "type": "float"
        },
        {
         "name": "b.Label",
         "rawType": "object",
         "type": "string"
        },
        {
         "name": "Dist2",
         "rawType": "float64",
         "type": "float"
        },
        {
         "name": "c.Label",
         "rawType": "object",
         "type": "string"
        },
        {
         "name": "Dist3",
         "rawType": "float64",
         "type": "float"
        },
        {
         "name": "m.Label",
         "rawType": "object",
         "type": "string"
        }
       ],
       "ref": "3044d89f-02c2-4dd2-adb5-3bb5a74b2559",
       "rows": [
        [
         "0",
         "Villahermosa",
         "1358.7555818279272",
         "Houston",
         "10681.30509242476",
         "Tokyo",
         "5915.45964525304",
         "Delhi"
        ],
        [
         "1",
         "Villahermosa",
         "1358.7555818279272",
         "Houston",
         "11358.55858372722",
         "Seoul",
         "4657.687447673518",
         "Delhi"
        ],
        [
         "2",
         "Villahermosa",
         "1358.7555818279272",
         "Houston",
         "12947.031366570916",
         "Doha",
         "2552.0692546208597",
         "Delhi"
        ],
        [
         "3",
         "Villahermosa",
         "1358.7555818279272",
         "Houston",
         "11569.256010330377",
         "Beijing",
         "3813.207294121455",
         "Delhi"
        ],
        [
         "4",
         "Villahermosa",
         "1358.7555818279272",
         "Houston",
         "13139.523542273777",
         "Dubai",
         "2186.045809741201",
         "Delhi"
        ],
        [
         "5",
         "Villahermosa",
         "678.5790846555666",
         "Mexico City",
         "9209.229376642708",
         "Paris",
         "6572.730383173758",
         "Delhi"
        ],
        [
         "6",
         "Villahermosa",
         "678.5790846555666",
         "Mexico City",
         "9855.892993563742",
         "Munich",
         "5906.062232949768",
         "Delhi"
        ],
        [
         "7",
         "Villahermosa",
         "678.5790846555666",
         "Mexico City",
         "9562.676617098685",
         "Frankfurt",
         "6127.480195924872",
         "Delhi"
        ],
        [
         "8",
         "Villahermosa",
         "678.5790846555666",
         "Mexico City",
         "8913.836258152825",
         "London",
         "6738.831316062844",
         "Delhi"
        ],
        [
         "9",
         "Villahermosa",
         "678.5790846555666",
         "Mexico City",
         "9216.60246312769",
         "Amsterdam",
         "6370.585848137894",
         "Delhi"
        ]
       ],
       "shape": {
        "columns": 7,
        "rows": 10
       }
      },
      "text/html": [
       "<div>\n",
       "<style scoped>\n",
       "    .dataframe tbody tr th:only-of-type {\n",
       "        vertical-align: middle;\n",
       "    }\n",
       "\n",
       "    .dataframe tbody tr th {\n",
       "        vertical-align: top;\n",
       "    }\n",
       "\n",
       "    .dataframe thead th {\n",
       "        text-align: right;\n",
       "    }\n",
       "</style>\n",
       "<table border=\"1\" class=\"dataframe\">\n",
       "  <thead>\n",
       "    <tr style=\"text-align: right;\">\n",
       "      <th></th>\n",
       "      <th>a.Label</th>\n",
       "      <th>Dist1</th>\n",
       "      <th>b.Label</th>\n",
       "      <th>Dist2</th>\n",
       "      <th>c.Label</th>\n",
       "      <th>Dist3</th>\n",
       "      <th>m.Label</th>\n",
       "    </tr>\n",
       "  </thead>\n",
       "  <tbody>\n",
       "    <tr>\n",
       "      <th>0</th>\n",
       "      <td>Villahermosa</td>\n",
       "      <td>1358.755582</td>\n",
       "      <td>Houston</td>\n",
       "      <td>10681.305092</td>\n",
       "      <td>Tokyo</td>\n",
       "      <td>5915.459645</td>\n",
       "      <td>Delhi</td>\n",
       "    </tr>\n",
       "    <tr>\n",
       "      <th>1</th>\n",
       "      <td>Villahermosa</td>\n",
       "      <td>1358.755582</td>\n",
       "      <td>Houston</td>\n",
       "      <td>11358.558584</td>\n",
       "      <td>Seoul</td>\n",
       "      <td>4657.687448</td>\n",
       "      <td>Delhi</td>\n",
       "    </tr>\n",
       "    <tr>\n",
       "      <th>2</th>\n",
       "      <td>Villahermosa</td>\n",
       "      <td>1358.755582</td>\n",
       "      <td>Houston</td>\n",
       "      <td>12947.031367</td>\n",
       "      <td>Doha</td>\n",
       "      <td>2552.069255</td>\n",
       "      <td>Delhi</td>\n",
       "    </tr>\n",
       "    <tr>\n",
       "      <th>3</th>\n",
       "      <td>Villahermosa</td>\n",
       "      <td>1358.755582</td>\n",
       "      <td>Houston</td>\n",
       "      <td>11569.256010</td>\n",
       "      <td>Beijing</td>\n",
       "      <td>3813.207294</td>\n",
       "      <td>Delhi</td>\n",
       "    </tr>\n",
       "    <tr>\n",
       "      <th>4</th>\n",
       "      <td>Villahermosa</td>\n",
       "      <td>1358.755582</td>\n",
       "      <td>Houston</td>\n",
       "      <td>13139.523542</td>\n",
       "      <td>Dubai</td>\n",
       "      <td>2186.045810</td>\n",
       "      <td>Delhi</td>\n",
       "    </tr>\n",
       "    <tr>\n",
       "      <th>5</th>\n",
       "      <td>Villahermosa</td>\n",
       "      <td>678.579085</td>\n",
       "      <td>Mexico City</td>\n",
       "      <td>9209.229377</td>\n",
       "      <td>Paris</td>\n",
       "      <td>6572.730383</td>\n",
       "      <td>Delhi</td>\n",
       "    </tr>\n",
       "    <tr>\n",
       "      <th>6</th>\n",
       "      <td>Villahermosa</td>\n",
       "      <td>678.579085</td>\n",
       "      <td>Mexico City</td>\n",
       "      <td>9855.892994</td>\n",
       "      <td>Munich</td>\n",
       "      <td>5906.062233</td>\n",
       "      <td>Delhi</td>\n",
       "    </tr>\n",
       "    <tr>\n",
       "      <th>7</th>\n",
       "      <td>Villahermosa</td>\n",
       "      <td>678.579085</td>\n",
       "      <td>Mexico City</td>\n",
       "      <td>9562.676617</td>\n",
       "      <td>Frankfurt</td>\n",
       "      <td>6127.480196</td>\n",
       "      <td>Delhi</td>\n",
       "    </tr>\n",
       "    <tr>\n",
       "      <th>8</th>\n",
       "      <td>Villahermosa</td>\n",
       "      <td>678.579085</td>\n",
       "      <td>Mexico City</td>\n",
       "      <td>8913.836258</td>\n",
       "      <td>London</td>\n",
       "      <td>6738.831316</td>\n",
       "      <td>Delhi</td>\n",
       "    </tr>\n",
       "    <tr>\n",
       "      <th>9</th>\n",
       "      <td>Villahermosa</td>\n",
       "      <td>678.579085</td>\n",
       "      <td>Mexico City</td>\n",
       "      <td>9216.602463</td>\n",
       "      <td>Amsterdam</td>\n",
       "      <td>6370.585848</td>\n",
       "      <td>Delhi</td>\n",
       "    </tr>\n",
       "  </tbody>\n",
       "</table>\n",
       "</div>"
      ],
      "text/plain": [
       "        a.Label        Dist1      b.Label         Dist2    c.Label  \\\n",
       "0  Villahermosa  1358.755582      Houston  10681.305092      Tokyo   \n",
       "1  Villahermosa  1358.755582      Houston  11358.558584      Seoul   \n",
       "2  Villahermosa  1358.755582      Houston  12947.031367       Doha   \n",
       "3  Villahermosa  1358.755582      Houston  11569.256010    Beijing   \n",
       "4  Villahermosa  1358.755582      Houston  13139.523542      Dubai   \n",
       "5  Villahermosa   678.579085  Mexico City   9209.229377      Paris   \n",
       "6  Villahermosa   678.579085  Mexico City   9855.892994     Munich   \n",
       "7  Villahermosa   678.579085  Mexico City   9562.676617  Frankfurt   \n",
       "8  Villahermosa   678.579085  Mexico City   8913.836258     London   \n",
       "9  Villahermosa   678.579085  Mexico City   9216.602463  Amsterdam   \n",
       "\n",
       "         Dist3 m.Label  \n",
       "0  5915.459645   Delhi  \n",
       "1  4657.687448   Delhi  \n",
       "2  2552.069255   Delhi  \n",
       "3  3813.207294   Delhi  \n",
       "4  2186.045810   Delhi  \n",
       "5  6572.730383   Delhi  \n",
       "6  5906.062233   Delhi  \n",
       "7  6127.480196   Delhi  \n",
       "8  6738.831316   Delhi  \n",
       "9  6370.585848   Delhi  "
      ]
     },
     "execution_count": 35,
     "metadata": {},
     "output_type": "execute_result"
    }
   ],
   "source": [
    "query4_5 = f\"\"\" \n",
    "    MATCH(a:Airport {{Label:'Villahermosa'}})-[r1]->(b)-[r2]->(c)-[r3]->(m:Airport {{Label:'Delhi'}})\n",
    "    WHERE r3.distance IS NOT NULL\n",
    "    RETURN a.Label,r1.distance AS Dist1,b.Label,r2.distance AS Dist2,c.Label,r3.distance AS Dist3,m.Label\n",
    "    ORDER BY Dist1+Dist2+Dist3 DESC\n",
    "    LIMIT 10;\n",
    "\"\"\"\n",
    "\n",
    "db.custom_query(query4_5)"
   ]
  },
  {
   "cell_type": "markdown",
   "id": "9160d24e",
   "metadata": {},
   "source": [
    "#### <font color= #5aafc1> **4.8. Imagina que vives en el país que elegiste en el punto 4.7 (Colombia) y tienes la posibilidad de viajar a cualquier parte del mundo desde su aeropuerto más importante.** </font>"
   ]
  },
  {
   "cell_type": "markdown",
   "id": "30329352",
   "metadata": {},
   "source": [
    "Primero encontraremos el aeropuerto más importante de Colombia en base a la medida de centralidad _Page Rank_, que evalúa las conexiones que salen del nodo y les asigna una relevancia."
   ]
  },
  {
   "cell_type": "code",
   "execution_count": 14,
   "id": "a230f010",
   "metadata": {},
   "outputs": [
    {
     "data": {
      "text/html": [
       "<div>\n",
       "<style scoped>\n",
       "    .dataframe tbody tr th:only-of-type {\n",
       "        vertical-align: middle;\n",
       "    }\n",
       "\n",
       "    .dataframe tbody tr th {\n",
       "        vertical-align: top;\n",
       "    }\n",
       "\n",
       "    .dataframe thead th {\n",
       "        text-align: right;\n",
       "    }\n",
       "</style>\n",
       "<table border=\"1\" class=\"dataframe\">\n",
       "  <thead>\n",
       "    <tr style=\"text-align: right;\">\n",
       "      <th></th>\n",
       "      <th>Airport</th>\n",
       "      <th>Country</th>\n",
       "      <th>Page_Rank</th>\n",
       "    </tr>\n",
       "  </thead>\n",
       "  <tbody>\n",
       "    <tr>\n",
       "      <th>0</th>\n",
       "      <td>Bogota</td>\n",
       "      <td>Colombia</td>\n",
       "      <td>9.420864</td>\n",
       "    </tr>\n",
       "  </tbody>\n",
       "</table>\n",
       "</div>"
      ],
      "text/plain": [
       "  Airport   Country  Page_Rank\n",
       "0  Bogota  Colombia   9.420864"
      ]
     },
     "execution_count": 14,
     "metadata": {},
     "output_type": "execute_result"
    }
   ],
   "source": [
    "query1 = \"\"\"MATCH (a:Airport)\n",
    "WHERE a.country = 'Colombia'\n",
    "RETURN a.Label AS Airport, a.country AS Country, a.Page_Rank AS Page_Rank\n",
    "ORDER BY Page_Rank DESC\n",
    "LIMIT 1\n",
    "\"\"\"\n",
    "\n",
    "db.custom_query(query1)"
   ]
  },
  {
   "cell_type": "markdown",
   "id": "cfb97aa3",
   "metadata": {},
   "source": [
    "El aeropuerto más importante de Colombia es el de Bogotá, que se ubica en la capital."
   ]
  },
  {
   "cell_type": "markdown",
   "id": "1f6457d8",
   "metadata": {},
   "source": [
    "#### <font color= #5aafc1> &nbsp; &nbsp; **4.8.1. ¿Cuántos kilómetros se requieren para visitar las 7 maravillas del mundo?** </font>"
   ]
  },
  {
   "cell_type": "markdown",
   "id": "a5701dfb",
   "metadata": {},
   "source": [
    "#### <font color= #5aafc1> &nbsp; &nbsp; **4.8.2. ¿Cuál sería la mejor ruta para visitarlas todas, en qué orden y por qué?** </font>"
   ]
  },
  {
   "cell_type": "markdown",
   "id": "7e139c5b",
   "metadata": {},
   "source": [
    "#### <font color= #5aafc1> &nbsp; &nbsp; **4.8.3. Aeropuertos visitables desde el Aeropuerto más importante de Colombia en menos de 20,000km** </font>"
   ]
  },
  {
   "cell_type": "markdown",
   "id": "0f239750",
   "metadata": {},
   "source": [
    "Crearemos un atributo que nos permita evaluar todas las rutas posibles desde Bogotá:"
   ]
  },
  {
   "cell_type": "code",
   "execution_count": null,
   "id": "e4486fe5",
   "metadata": {},
   "outputs": [],
   "source": [
    "db.delta_pathing('Airport', 'Label', 'Bogota', 'distance')"
   ]
  },
  {
   "cell_type": "markdown",
   "id": "422c90a2",
   "metadata": {},
   "source": [
    "Los aeropuertos y rutas visitables que sumen menos de 20,000 km:"
   ]
  },
  {
   "cell_type": "code",
   "execution_count": null,
   "id": "ea9e79fa",
   "metadata": {},
   "outputs": [],
   "source": [
    "query2 = \"\"\"MATCH (source:Airport) -[r:PATH_Bogota_Directed]-> (target:Airport)\n",
    "WHERE r.totalCost <= 20_000\n",
    "RETURN source.Label AS Source, target.Label AS Target, r.totalCost AS Kilometers\n",
    "\"\"\"\n",
    "\n",
    "db.custom_query(query2)"
   ]
  }
 ],
 "metadata": {
  "kernelspec": {
   "display_name": "graph_mining",
   "language": "python",
   "name": "python3"
  },
  "language_info": {
   "codemirror_mode": {
    "name": "ipython",
    "version": 3
   },
   "file_extension": ".py",
   "mimetype": "text/x-python",
   "name": "python",
   "nbconvert_exporter": "python",
   "pygments_lexer": "ipython3",
   "version": "3.12.5"
  }
 },
 "nbformat": 4,
 "nbformat_minor": 5
}
