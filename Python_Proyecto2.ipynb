{
 "cells": [
  {
   "cell_type": "markdown",
   "id": "40a467be",
   "metadata": {},
   "source": [
    "___\n",
    "<img style=\"float: right; margin: 15px 15px 15px 15px;\" src=\"https://cdn.brandfetch.io/idjblR01Uf/w/400/h/400/theme/dark/icon.jpeg?c=1dxbfHSJFAPEGdCLU4o5B\" width=\"180px\" height=\"180px\" />\n",
    "\n",
    "# <font color= #5aafc1> **PROYECTO FINAL** </font>\n",
    "#### <font color= #2E9AFE> `Red Aeroportuaria Internacional`</font>\n",
    "- <Strong> Sofía Maldonado, Viviana Toledo, César Adrián Santos </Strong>\n",
    "- <Strong> Fecha </Strong>: 17/07/2025\n",
    "\n",
    "___"
   ]
  },
  {
   "cell_type": "code",
   "execution_count": 36,
   "id": "71f2ce0f",
   "metadata": {},
   "outputs": [
    {
     "name": "stdout",
     "output_type": "stream",
     "text": [
      "Successfully Connected to Neo4j in neo5j database!\n",
      "Successfully Connected to GraphDataScience in neo5j database!\n"
     ]
    }
   ],
   "source": [
    "# Actualizar \n",
    "import importlib\n",
    "import queries \n",
    "importlib.reload(queries)\n",
    "from queries import DB_Queries\n",
    "\n",
    "# Establecer conexión\n",
    "db = DB_Queries('neo5j')"
   ]
  },
  {
   "cell_type": "markdown",
   "id": "7ae2f8cd",
   "metadata": {},
   "source": [
    "# <font color= #5aafc1> **Desarrollo** </font>"
   ]
  },
  {
   "cell_type": "markdown",
   "id": "9f3ed0a8",
   "metadata": {},
   "source": [
    "Añadir atributos de Continente a cada nodo:"
   ]
  },
  {
   "cell_type": "code",
   "execution_count": null,
   "id": "a6433904",
   "metadata": {},
   "outputs": [],
   "source": [
    "query1 = \"\"\"MATCH (a:Airport) \n",
    "WHERE a.country = 'Burma'\n",
    "SET a.country = 'Myanmar'\n",
    "\"\"\"\n",
    "\n",
    "query2 = \"\"\"MATCH (a:Airport) \n",
    "WHERE a.country = 'Congo (Kinshasa)'\n",
    "SET a.country = 'Democratic Republic of the Congo'\n",
    "\"\"\"\n",
    "\n",
    "query3 = \"\"\"MATCH (a:Airport) \n",
    "WHERE a.country = 'Congo (Brazzaville)'\n",
    "SET a.country = 'Republic of the Congo'\n",
    "\"\"\"\n",
    "\n",
    "query4 = f\"\"\"LOAD CSV WITH HEADERS FROM 'https://raw.githubusercontent.com/ch0fas/MG_PROYECTO2/main/data/countries.csv' AS row\n",
    "MATCH (a:Airport)\n",
    "WHERE a.country = row.Country\n",
    "SET a.continent = row.Continent\n",
    "\"\"\"\n",
    "\n",
    "db.custom_query(query1)\n",
    "db.custom_query(query2)\n",
    "db.custom_query(query3)\n",
    "db.custom_query(query4)"
   ]
  },
  {
   "cell_type": "markdown",
   "id": "2a813342",
   "metadata": {},
   "source": [
    "Crear subgrafos:"
   ]
  },
  {
   "cell_type": "code",
   "execution_count": 6,
   "id": "cf72737b",
   "metadata": {},
   "outputs": [
    {
     "name": "stdout",
     "output_type": "stream",
     "text": [
      "Successfully created Directed Subgraph with Airport nodes and TO relationships!\n",
      "Successfully created Reversed Subgraph with Airport nodes and TO relationships!\n",
      "Successfully created Undirected Subgraph with Airport nodes and TO relationships!\n"
     ]
    }
   ],
   "source": [
    "db.create_subgraph('Airport', 'TO', 'NATURAL', 'distance')\n",
    "db.create_subgraph('Airport', 'TO', 'REVERSE', 'distance')\n",
    "db.create_subgraph('Airport', 'TO', 'UNDIRECTED', 'distance')"
   ]
  },
  {
   "cell_type": "markdown",
   "id": "7f1197b9",
   "metadata": {},
   "source": [
    "Centrality Algorithms:"
   ]
  },
  {
   "cell_type": "code",
   "execution_count": 6,
   "id": "aa3632ba",
   "metadata": {},
   "outputs": [
    {
     "name": "stdout",
     "output_type": "stream",
     "text": [
      "Degree Attribute added Successfully!\n",
      "In_Degree Attribute added Successfully!\n",
      "Out_Degree Attribute added Successfully!\n",
      "Page Rank Attribute added Successfully!\n",
      "Betweenness Attribute added Successfully!\n",
      "Closeness Attribute added Successfully!\n"
     ]
    }
   ],
   "source": [
    "db.degrees('Airport')\n",
    "db.page_rank('Airport')\n",
    "db.betwenness('Airport')\n",
    "db.closeness('Airport')"
   ]
  },
  {
   "cell_type": "markdown",
   "id": "6ffe27ca",
   "metadata": {},
   "source": [
    "#### <font color= #5aafc1> **4.2 Exploratory Data Analysis** </font>"
   ]
  },
  {
   "cell_type": "markdown",
   "id": "fe946caa",
   "metadata": {},
   "source": [
    "Graph Schema:"
   ]
  },
  {
   "cell_type": "markdown",
   "id": "14a2d519",
   "metadata": {},
   "source": [
    "Node Count:"
   ]
  },
  {
   "cell_type": "code",
   "execution_count": null,
   "id": "5cf3e923",
   "metadata": {},
   "outputs": [
    {
     "data": {
      "application/vnd.microsoft.datawrangler.viewer.v0+json": {
       "columns": [
        {
         "name": "index",
         "rawType": "int64",
         "type": "integer"
        },
        {
         "name": "Airports",
         "rawType": "int64",
         "type": "integer"
        }
       ],
       "ref": "8bb40ed7-ddbe-42b6-a537-3a5edda64386",
       "rows": [
        [
         "0",
         "3214"
        ]
       ],
       "shape": {
        "columns": 1,
        "rows": 1
       }
      },
      "text/html": [
       "<div>\n",
       "<style scoped>\n",
       "    .dataframe tbody tr th:only-of-type {\n",
       "        vertical-align: middle;\n",
       "    }\n",
       "\n",
       "    .dataframe tbody tr th {\n",
       "        vertical-align: top;\n",
       "    }\n",
       "\n",
       "    .dataframe thead th {\n",
       "        text-align: right;\n",
       "    }\n",
       "</style>\n",
       "<table border=\"1\" class=\"dataframe\">\n",
       "  <thead>\n",
       "    <tr style=\"text-align: right;\">\n",
       "      <th></th>\n",
       "      <th>Airports</th>\n",
       "    </tr>\n",
       "  </thead>\n",
       "  <tbody>\n",
       "    <tr>\n",
       "      <th>0</th>\n",
       "      <td>3214</td>\n",
       "    </tr>\n",
       "  </tbody>\n",
       "</table>\n",
       "</div>"
      ],
      "text/plain": [
       "   Airports\n",
       "0      3214"
      ]
     },
     "execution_count": 9,
     "metadata": {},
     "output_type": "execute_result"
    }
   ],
   "source": [
    "# 4.2.2\n",
    "db.count_nodes('Airport')"
   ]
  },
  {
   "cell_type": "markdown",
   "id": "f4156215",
   "metadata": {},
   "source": [
    "Node Attributes:"
   ]
  },
  {
   "cell_type": "code",
   "execution_count": 10,
   "id": "a8c7959a",
   "metadata": {},
   "outputs": [
    {
     "data": {
      "application/vnd.microsoft.datawrangler.viewer.v0+json": {
       "columns": [
        {
         "name": "index",
         "rawType": "int64",
         "type": "integer"
        },
        {
         "name": "nodeType",
         "rawType": "object",
         "type": "string"
        },
        {
         "name": "nodeLabels",
         "rawType": "object",
         "type": "unknown"
        },
        {
         "name": "propertyName",
         "rawType": "object",
         "type": "string"
        },
        {
         "name": "propertyTypes",
         "rawType": "object",
         "type": "unknown"
        },
        {
         "name": "mandatory",
         "rawType": "bool",
         "type": "boolean"
        }
       ],
       "ref": "2273db3a-09df-4813-b833-963724aa7090",
       "rows": [
        [
         "0",
         ":`Airport`",
         "['Airport']",
         "Id",
         "['Long']",
         "True"
        ],
        [
         "1",
         ":`Airport`",
         "['Airport']",
         "latitude",
         "['Double']",
         "True"
        ],
        [
         "2",
         ":`Airport`",
         "['Airport']",
         "country",
         "['String']",
         "True"
        ],
        [
         "3",
         ":`Airport`",
         "['Airport']",
         "longitude",
         "['Double']",
         "True"
        ],
        [
         "4",
         ":`Airport`",
         "['Airport']",
         "Label",
         "['String']",
         "True"
        ],
        [
         "5",
         ":`Airport`",
         "['Airport']",
         "continent",
         "['String']",
         "True"
        ]
       ],
       "shape": {
        "columns": 5,
        "rows": 6
       }
      },
      "text/html": [
       "<div>\n",
       "<style scoped>\n",
       "    .dataframe tbody tr th:only-of-type {\n",
       "        vertical-align: middle;\n",
       "    }\n",
       "\n",
       "    .dataframe tbody tr th {\n",
       "        vertical-align: top;\n",
       "    }\n",
       "\n",
       "    .dataframe thead th {\n",
       "        text-align: right;\n",
       "    }\n",
       "</style>\n",
       "<table border=\"1\" class=\"dataframe\">\n",
       "  <thead>\n",
       "    <tr style=\"text-align: right;\">\n",
       "      <th></th>\n",
       "      <th>nodeType</th>\n",
       "      <th>nodeLabels</th>\n",
       "      <th>propertyName</th>\n",
       "      <th>propertyTypes</th>\n",
       "      <th>mandatory</th>\n",
       "    </tr>\n",
       "  </thead>\n",
       "  <tbody>\n",
       "    <tr>\n",
       "      <th>0</th>\n",
       "      <td>:`Airport`</td>\n",
       "      <td>[Airport]</td>\n",
       "      <td>Id</td>\n",
       "      <td>[Long]</td>\n",
       "      <td>True</td>\n",
       "    </tr>\n",
       "    <tr>\n",
       "      <th>1</th>\n",
       "      <td>:`Airport`</td>\n",
       "      <td>[Airport]</td>\n",
       "      <td>latitude</td>\n",
       "      <td>[Double]</td>\n",
       "      <td>True</td>\n",
       "    </tr>\n",
       "    <tr>\n",
       "      <th>2</th>\n",
       "      <td>:`Airport`</td>\n",
       "      <td>[Airport]</td>\n",
       "      <td>country</td>\n",
       "      <td>[String]</td>\n",
       "      <td>True</td>\n",
       "    </tr>\n",
       "    <tr>\n",
       "      <th>3</th>\n",
       "      <td>:`Airport`</td>\n",
       "      <td>[Airport]</td>\n",
       "      <td>longitude</td>\n",
       "      <td>[Double]</td>\n",
       "      <td>True</td>\n",
       "    </tr>\n",
       "    <tr>\n",
       "      <th>4</th>\n",
       "      <td>:`Airport`</td>\n",
       "      <td>[Airport]</td>\n",
       "      <td>Label</td>\n",
       "      <td>[String]</td>\n",
       "      <td>True</td>\n",
       "    </tr>\n",
       "    <tr>\n",
       "      <th>5</th>\n",
       "      <td>:`Airport`</td>\n",
       "      <td>[Airport]</td>\n",
       "      <td>continent</td>\n",
       "      <td>[String]</td>\n",
       "      <td>True</td>\n",
       "    </tr>\n",
       "  </tbody>\n",
       "</table>\n",
       "</div>"
      ],
      "text/plain": [
       "     nodeType nodeLabels propertyName propertyTypes  mandatory\n",
       "0  :`Airport`  [Airport]           Id        [Long]       True\n",
       "1  :`Airport`  [Airport]     latitude      [Double]       True\n",
       "2  :`Airport`  [Airport]      country      [String]       True\n",
       "3  :`Airport`  [Airport]    longitude      [Double]       True\n",
       "4  :`Airport`  [Airport]        Label      [String]       True\n",
       "5  :`Airport`  [Airport]    continent      [String]       True"
      ]
     },
     "execution_count": 10,
     "metadata": {},
     "output_type": "execute_result"
    }
   ],
   "source": [
    "db.node_attributes()"
   ]
  },
  {
   "cell_type": "markdown",
   "id": "95c877b0",
   "metadata": {},
   "source": [
    "Relationship Count:"
   ]
  },
  {
   "cell_type": "code",
   "execution_count": 11,
   "id": "aea4d88d",
   "metadata": {},
   "outputs": [
    {
     "data": {
      "application/vnd.microsoft.datawrangler.viewer.v0+json": {
       "columns": [
        {
         "name": "index",
         "rawType": "int64",
         "type": "integer"
        },
        {
         "name": "TO_Count",
         "rawType": "int64",
         "type": "integer"
        }
       ],
       "ref": "1da794b7-530e-4e28-bd3a-d556a5142d3e",
       "rows": [
        [
         "0",
         "36907"
        ]
       ],
       "shape": {
        "columns": 1,
        "rows": 1
       }
      },
      "text/html": [
       "<div>\n",
       "<style scoped>\n",
       "    .dataframe tbody tr th:only-of-type {\n",
       "        vertical-align: middle;\n",
       "    }\n",
       "\n",
       "    .dataframe tbody tr th {\n",
       "        vertical-align: top;\n",
       "    }\n",
       "\n",
       "    .dataframe thead th {\n",
       "        text-align: right;\n",
       "    }\n",
       "</style>\n",
       "<table border=\"1\" class=\"dataframe\">\n",
       "  <thead>\n",
       "    <tr style=\"text-align: right;\">\n",
       "      <th></th>\n",
       "      <th>TO_Count</th>\n",
       "    </tr>\n",
       "  </thead>\n",
       "  <tbody>\n",
       "    <tr>\n",
       "      <th>0</th>\n",
       "      <td>36907</td>\n",
       "    </tr>\n",
       "  </tbody>\n",
       "</table>\n",
       "</div>"
      ],
      "text/plain": [
       "   TO_Count\n",
       "0     36907"
      ]
     },
     "execution_count": 11,
     "metadata": {},
     "output_type": "execute_result"
    }
   ],
   "source": [
    "db.count_relationships('TO')"
   ]
  },
  {
   "cell_type": "markdown",
   "id": "291670f9",
   "metadata": {},
   "source": [
    "Relationship Attributes:"
   ]
  },
  {
   "cell_type": "code",
   "execution_count": 12,
   "id": "b4e0fdcf",
   "metadata": {},
   "outputs": [
    {
     "data": {
      "application/vnd.microsoft.datawrangler.viewer.v0+json": {
       "columns": [
        {
         "name": "index",
         "rawType": "int64",
         "type": "integer"
        },
        {
         "name": "relType",
         "rawType": "object",
         "type": "string"
        },
        {
         "name": "propertyName",
         "rawType": "object",
         "type": "string"
        },
        {
         "name": "propertyTypes",
         "rawType": "object",
         "type": "unknown"
        },
        {
         "name": "mandatory",
         "rawType": "bool",
         "type": "boolean"
        }
       ],
       "ref": "5c2ce46d-f45e-4cbb-be0d-a8e4dfe4aceb",
       "rows": [
        [
         "0",
         ":`TO`",
         "distance",
         "['Double']",
         "True"
        ]
       ],
       "shape": {
        "columns": 4,
        "rows": 1
       }
      },
      "text/html": [
       "<div>\n",
       "<style scoped>\n",
       "    .dataframe tbody tr th:only-of-type {\n",
       "        vertical-align: middle;\n",
       "    }\n",
       "\n",
       "    .dataframe tbody tr th {\n",
       "        vertical-align: top;\n",
       "    }\n",
       "\n",
       "    .dataframe thead th {\n",
       "        text-align: right;\n",
       "    }\n",
       "</style>\n",
       "<table border=\"1\" class=\"dataframe\">\n",
       "  <thead>\n",
       "    <tr style=\"text-align: right;\">\n",
       "      <th></th>\n",
       "      <th>relType</th>\n",
       "      <th>propertyName</th>\n",
       "      <th>propertyTypes</th>\n",
       "      <th>mandatory</th>\n",
       "    </tr>\n",
       "  </thead>\n",
       "  <tbody>\n",
       "    <tr>\n",
       "      <th>0</th>\n",
       "      <td>:`TO`</td>\n",
       "      <td>distance</td>\n",
       "      <td>[Double]</td>\n",
       "      <td>True</td>\n",
       "    </tr>\n",
       "  </tbody>\n",
       "</table>\n",
       "</div>"
      ],
      "text/plain": [
       "  relType propertyName propertyTypes  mandatory\n",
       "0   :`TO`     distance      [Double]       True"
      ]
     },
     "execution_count": 12,
     "metadata": {},
     "output_type": "execute_result"
    }
   ],
   "source": [
    "db.rel_attributes()"
   ]
  },
  {
   "cell_type": "markdown",
   "id": "aa9b08d3",
   "metadata": {},
   "source": [
    "#### <font color= #5aafc1> **4.3** </font>"
   ]
  },
  {
   "cell_type": "code",
   "execution_count": 4,
   "id": "806ea62a",
   "metadata": {},
   "outputs": [
    {
     "data": {
      "application/vnd.microsoft.datawrangler.viewer.v0+json": {
       "columns": [
        {
         "name": "index",
         "rawType": "int64",
         "type": "integer"
        }
       ],
       "ref": "a31cbe88-d414-48f5-a8af-0bce7d4cf24d",
       "rows": [],
       "shape": {
        "columns": 0,
        "rows": 0
       }
      },
      "text/html": [
       "<div>\n",
       "<style scoped>\n",
       "    .dataframe tbody tr th:only-of-type {\n",
       "        vertical-align: middle;\n",
       "    }\n",
       "\n",
       "    .dataframe tbody tr th {\n",
       "        vertical-align: top;\n",
       "    }\n",
       "\n",
       "    .dataframe thead th {\n",
       "        text-align: right;\n",
       "    }\n",
       "</style>\n",
       "<table border=\"1\" class=\"dataframe\">\n",
       "  <thead>\n",
       "    <tr style=\"text-align: right;\">\n",
       "      <th></th>\n",
       "    </tr>\n",
       "  </thead>\n",
       "  <tbody>\n",
       "  </tbody>\n",
       "</table>\n",
       "</div>"
      ],
      "text/plain": [
       "Empty DataFrame\n",
       "Columns: []\n",
       "Index: []"
      ]
     },
     "execution_count": 4,
     "metadata": {},
     "output_type": "execute_result"
    }
   ],
   "source": [
    "# Le voy a agregar atributos de latitud y longitud en integer para poder meterlo a Gephi \n",
    "\n",
    "query4_3 = f\"\"\"\n",
    "    MATCH (n)\n",
    "    SET n.latInt = toInteger(n.latitude)\n",
    "    SET n.longInt = toInteger(n.longitude)\n",
    "\"\"\"\n",
    "\n",
    "db.custom_query(query4_3)"
   ]
  },
  {
   "cell_type": "markdown",
   "id": "b5c973cf",
   "metadata": {},
   "source": [
    "#### <font color= #5aafc1> **4.4** </font>"
   ]
  },
  {
   "cell_type": "markdown",
   "id": "a7f0215d",
   "metadata": {},
   "source": [
    "#### <font color= #5aafc1> **4.5 Elige el nodo de la pregunta 4.4 como origen y uno de los posibles aeropuertos alcanzables de la misma pregunta como destino, muestra la ruta completa del origen al destino en un mapa.** </font>"
   ]
  },
  {
   "cell_type": "code",
   "execution_count": 35,
   "id": "3606cb1b",
   "metadata": {},
   "outputs": [
    {
     "data": {
      "application/vnd.microsoft.datawrangler.viewer.v0+json": {
       "columns": [
        {
         "name": "index",
         "rawType": "int64",
         "type": "integer"
        },
        {
         "name": "a.Label",
         "rawType": "object",
         "type": "string"
        },
        {
         "name": "Dist1",
         "rawType": "float64",
         "type": "float"
        },
        {
         "name": "b.Label",
         "rawType": "object",
         "type": "string"
        },
        {
         "name": "Dist2",
         "rawType": "float64",
         "type": "float"
        },
        {
         "name": "c.Label",
         "rawType": "object",
         "type": "string"
        },
        {
         "name": "Dist3",
         "rawType": "float64",
         "type": "float"
        },
        {
         "name": "m.Label",
         "rawType": "object",
         "type": "string"
        }
       ],
       "ref": "3044d89f-02c2-4dd2-adb5-3bb5a74b2559",
       "rows": [
        [
         "0",
         "Villahermosa",
         "1358.7555818279272",
         "Houston",
         "10681.30509242476",
         "Tokyo",
         "5915.45964525304",
         "Delhi"
        ],
        [
         "1",
         "Villahermosa",
         "1358.7555818279272",
         "Houston",
         "11358.55858372722",
         "Seoul",
         "4657.687447673518",
         "Delhi"
        ],
        [
         "2",
         "Villahermosa",
         "1358.7555818279272",
         "Houston",
         "12947.031366570916",
         "Doha",
         "2552.0692546208597",
         "Delhi"
        ],
        [
         "3",
         "Villahermosa",
         "1358.7555818279272",
         "Houston",
         "11569.256010330377",
         "Beijing",
         "3813.207294121455",
         "Delhi"
        ],
        [
         "4",
         "Villahermosa",
         "1358.7555818279272",
         "Houston",
         "13139.523542273777",
         "Dubai",
         "2186.045809741201",
         "Delhi"
        ],
        [
         "5",
         "Villahermosa",
         "678.5790846555666",
         "Mexico City",
         "9209.229376642708",
         "Paris",
         "6572.730383173758",
         "Delhi"
        ],
        [
         "6",
         "Villahermosa",
         "678.5790846555666",
         "Mexico City",
         "9855.892993563742",
         "Munich",
         "5906.062232949768",
         "Delhi"
        ],
        [
         "7",
         "Villahermosa",
         "678.5790846555666",
         "Mexico City",
         "9562.676617098685",
         "Frankfurt",
         "6127.480195924872",
         "Delhi"
        ],
        [
         "8",
         "Villahermosa",
         "678.5790846555666",
         "Mexico City",
         "8913.836258152825",
         "London",
         "6738.831316062844",
         "Delhi"
        ],
        [
         "9",
         "Villahermosa",
         "678.5790846555666",
         "Mexico City",
         "9216.60246312769",
         "Amsterdam",
         "6370.585848137894",
         "Delhi"
        ]
       ],
       "shape": {
        "columns": 7,
        "rows": 10
       }
      },
      "text/html": [
       "<div>\n",
       "<style scoped>\n",
       "    .dataframe tbody tr th:only-of-type {\n",
       "        vertical-align: middle;\n",
       "    }\n",
       "\n",
       "    .dataframe tbody tr th {\n",
       "        vertical-align: top;\n",
       "    }\n",
       "\n",
       "    .dataframe thead th {\n",
       "        text-align: right;\n",
       "    }\n",
       "</style>\n",
       "<table border=\"1\" class=\"dataframe\">\n",
       "  <thead>\n",
       "    <tr style=\"text-align: right;\">\n",
       "      <th></th>\n",
       "      <th>a.Label</th>\n",
       "      <th>Dist1</th>\n",
       "      <th>b.Label</th>\n",
       "      <th>Dist2</th>\n",
       "      <th>c.Label</th>\n",
       "      <th>Dist3</th>\n",
       "      <th>m.Label</th>\n",
       "    </tr>\n",
       "  </thead>\n",
       "  <tbody>\n",
       "    <tr>\n",
       "      <th>0</th>\n",
       "      <td>Villahermosa</td>\n",
       "      <td>1358.755582</td>\n",
       "      <td>Houston</td>\n",
       "      <td>10681.305092</td>\n",
       "      <td>Tokyo</td>\n",
       "      <td>5915.459645</td>\n",
       "      <td>Delhi</td>\n",
       "    </tr>\n",
       "    <tr>\n",
       "      <th>1</th>\n",
       "      <td>Villahermosa</td>\n",
       "      <td>1358.755582</td>\n",
       "      <td>Houston</td>\n",
       "      <td>11358.558584</td>\n",
       "      <td>Seoul</td>\n",
       "      <td>4657.687448</td>\n",
       "      <td>Delhi</td>\n",
       "    </tr>\n",
       "    <tr>\n",
       "      <th>2</th>\n",
       "      <td>Villahermosa</td>\n",
       "      <td>1358.755582</td>\n",
       "      <td>Houston</td>\n",
       "      <td>12947.031367</td>\n",
       "      <td>Doha</td>\n",
       "      <td>2552.069255</td>\n",
       "      <td>Delhi</td>\n",
       "    </tr>\n",
       "    <tr>\n",
       "      <th>3</th>\n",
       "      <td>Villahermosa</td>\n",
       "      <td>1358.755582</td>\n",
       "      <td>Houston</td>\n",
       "      <td>11569.256010</td>\n",
       "      <td>Beijing</td>\n",
       "      <td>3813.207294</td>\n",
       "      <td>Delhi</td>\n",
       "    </tr>\n",
       "    <tr>\n",
       "      <th>4</th>\n",
       "      <td>Villahermosa</td>\n",
       "      <td>1358.755582</td>\n",
       "      <td>Houston</td>\n",
       "      <td>13139.523542</td>\n",
       "      <td>Dubai</td>\n",
       "      <td>2186.045810</td>\n",
       "      <td>Delhi</td>\n",
       "    </tr>\n",
       "    <tr>\n",
       "      <th>5</th>\n",
       "      <td>Villahermosa</td>\n",
       "      <td>678.579085</td>\n",
       "      <td>Mexico City</td>\n",
       "      <td>9209.229377</td>\n",
       "      <td>Paris</td>\n",
       "      <td>6572.730383</td>\n",
       "      <td>Delhi</td>\n",
       "    </tr>\n",
       "    <tr>\n",
       "      <th>6</th>\n",
       "      <td>Villahermosa</td>\n",
       "      <td>678.579085</td>\n",
       "      <td>Mexico City</td>\n",
       "      <td>9855.892994</td>\n",
       "      <td>Munich</td>\n",
       "      <td>5906.062233</td>\n",
       "      <td>Delhi</td>\n",
       "    </tr>\n",
       "    <tr>\n",
       "      <th>7</th>\n",
       "      <td>Villahermosa</td>\n",
       "      <td>678.579085</td>\n",
       "      <td>Mexico City</td>\n",
       "      <td>9562.676617</td>\n",
       "      <td>Frankfurt</td>\n",
       "      <td>6127.480196</td>\n",
       "      <td>Delhi</td>\n",
       "    </tr>\n",
       "    <tr>\n",
       "      <th>8</th>\n",
       "      <td>Villahermosa</td>\n",
       "      <td>678.579085</td>\n",
       "      <td>Mexico City</td>\n",
       "      <td>8913.836258</td>\n",
       "      <td>London</td>\n",
       "      <td>6738.831316</td>\n",
       "      <td>Delhi</td>\n",
       "    </tr>\n",
       "    <tr>\n",
       "      <th>9</th>\n",
       "      <td>Villahermosa</td>\n",
       "      <td>678.579085</td>\n",
       "      <td>Mexico City</td>\n",
       "      <td>9216.602463</td>\n",
       "      <td>Amsterdam</td>\n",
       "      <td>6370.585848</td>\n",
       "      <td>Delhi</td>\n",
       "    </tr>\n",
       "  </tbody>\n",
       "</table>\n",
       "</div>"
      ],
      "text/plain": [
       "        a.Label        Dist1      b.Label         Dist2    c.Label  \\\n",
       "0  Villahermosa  1358.755582      Houston  10681.305092      Tokyo   \n",
       "1  Villahermosa  1358.755582      Houston  11358.558584      Seoul   \n",
       "2  Villahermosa  1358.755582      Houston  12947.031367       Doha   \n",
       "3  Villahermosa  1358.755582      Houston  11569.256010    Beijing   \n",
       "4  Villahermosa  1358.755582      Houston  13139.523542      Dubai   \n",
       "5  Villahermosa   678.579085  Mexico City   9209.229377      Paris   \n",
       "6  Villahermosa   678.579085  Mexico City   9855.892994     Munich   \n",
       "7  Villahermosa   678.579085  Mexico City   9562.676617  Frankfurt   \n",
       "8  Villahermosa   678.579085  Mexico City   8913.836258     London   \n",
       "9  Villahermosa   678.579085  Mexico City   9216.602463  Amsterdam   \n",
       "\n",
       "         Dist3 m.Label  \n",
       "0  5915.459645   Delhi  \n",
       "1  4657.687448   Delhi  \n",
       "2  2552.069255   Delhi  \n",
       "3  3813.207294   Delhi  \n",
       "4  2186.045810   Delhi  \n",
       "5  6572.730383   Delhi  \n",
       "6  5906.062233   Delhi  \n",
       "7  6127.480196   Delhi  \n",
       "8  6738.831316   Delhi  \n",
       "9  6370.585848   Delhi  "
      ]
     },
     "execution_count": 35,
     "metadata": {},
     "output_type": "execute_result"
    }
   ],
   "source": [
    "query4_5 = f\"\"\" \n",
    "    MATCH(a:Airport {{Label:'Villahermosa'}})-[r1]->(b)-[r2]->(c)-[r3]->(m:Airport {{Label:'Delhi'}})\n",
    "    WHERE r3.distance IS NOT NULL\n",
    "    RETURN a.Label,r1.distance AS Dist1,b.Label,r2.distance AS Dist2,c.Label,r3.distance AS Dist3,m.Label\n",
    "    ORDER BY Dist1+Dist2+Dist3 DESC\n",
    "    LIMIT 10;\n",
    "\"\"\"\n",
    "\n",
    "db.custom_query(query4_5)"
   ]
  },
  {
   "cell_type": "markdown",
   "id": "a8e3aab3",
   "metadata": {},
   "source": [
    "#### <font color= #5aafc1> **4.6** </font>"
   ]
  },
  {
   "cell_type": "markdown",
   "id": "62d513eb",
   "metadata": {},
   "source": [
    "#### <font color= #5aafc1> **4.7** </font>"
   ]
  },
  {
   "cell_type": "markdown",
   "id": "9160d24e",
   "metadata": {},
   "source": [
    "#### <font color= #5aafc1> **4.8. Imagina que vives en el país que elegiste en el punto 4.7 (Colombia) y tienes la posibilidad de viajar a cualquier parte del mundo desde su aeropuerto más importante.** </font>"
   ]
  },
  {
   "cell_type": "markdown",
   "id": "30329352",
   "metadata": {},
   "source": [
    "Primero encontraremos el aeropuerto más importante de Colombia en base a la medida de centralidad _Page Rank_, que evalúa las conexiones que salen del nodo y les asigna una relevancia."
   ]
  },
  {
   "cell_type": "code",
   "execution_count": 14,
   "id": "a230f010",
   "metadata": {},
   "outputs": [
    {
     "data": {
      "text/html": [
       "<div>\n",
       "<style scoped>\n",
       "    .dataframe tbody tr th:only-of-type {\n",
       "        vertical-align: middle;\n",
       "    }\n",
       "\n",
       "    .dataframe tbody tr th {\n",
       "        vertical-align: top;\n",
       "    }\n",
       "\n",
       "    .dataframe thead th {\n",
       "        text-align: right;\n",
       "    }\n",
       "</style>\n",
       "<table border=\"1\" class=\"dataframe\">\n",
       "  <thead>\n",
       "    <tr style=\"text-align: right;\">\n",
       "      <th></th>\n",
       "      <th>Airport</th>\n",
       "      <th>Country</th>\n",
       "      <th>Page_Rank</th>\n",
       "    </tr>\n",
       "  </thead>\n",
       "  <tbody>\n",
       "    <tr>\n",
       "      <th>0</th>\n",
       "      <td>Bogota</td>\n",
       "      <td>Colombia</td>\n",
       "      <td>9.420864</td>\n",
       "    </tr>\n",
       "  </tbody>\n",
       "</table>\n",
       "</div>"
      ],
      "text/plain": [
       "  Airport   Country  Page_Rank\n",
       "0  Bogota  Colombia   9.420864"
      ]
     },
     "execution_count": 14,
     "metadata": {},
     "output_type": "execute_result"
    }
   ],
   "source": [
    "query1 = \"\"\"MATCH (a:Airport)\n",
    "WHERE a.country = 'Colombia'\n",
    "RETURN a.Label AS Airport, a.country AS Country, a.Page_Rank AS Page_Rank\n",
    "ORDER BY Page_Rank DESC\n",
    "LIMIT 1\n",
    "\"\"\"\n",
    "\n",
    "db.custom_query(query1)"
   ]
  },
  {
   "cell_type": "markdown",
   "id": "cfb97aa3",
   "metadata": {},
   "source": [
    "El aeropuerto más importante de Colombia es el de Bogotá, que se ubica en la capital."
   ]
  },
  {
   "cell_type": "markdown",
   "id": "1f6457d8",
   "metadata": {},
   "source": [
    "#### <font color= #5aafc1> &nbsp; &nbsp; **4.8.1. ¿Cuántos kilómetros se requieren para visitar las 7 maravillas del mundo?** </font>\n",
    "#### <font color= #5aafc1> &nbsp; &nbsp; **4.8.2. ¿Cuál sería la mejor ruta para visitarlas todas, en qué orden y por qué?** </font>"
   ]
  },
  {
   "cell_type": "markdown",
   "id": "f8a9bcf3",
   "metadata": {},
   "source": [
    "Decidimos trabajar con las siguientes 7 maravillas del mundo modernas:\n",
    "\n",
    "- Giza Pyramids: Cairo\n",
    "- Great Wall of China: Beijing\n",
    "- Colosseum: Rome\n",
    "- Chichen Itzá: Mérida\n",
    "- Machu Picchu: Cuzco\n",
    "- Taj Mahal: Lucknow\n",
    "- Christ the Redeemer: Rio de Janeiro"
   ]
  },
  {
   "cell_type": "markdown",
   "id": "6282fd3a",
   "metadata": {},
   "source": [
    "Para dar respuesta a las preguntas, se analizaron todas las combinaciones posibles desde Bogotá hacia los destinos mencionados. Entonces, a partir de Bogotá, la mejor ruta para recorrer las 7 maravillas del mundo moderno es:"
   ]
  },
  {
   "cell_type": "code",
   "execution_count": 12,
   "id": "740fab89",
   "metadata": {},
   "outputs": [
    {
     "data": {
      "text/html": [
       "<div>\n",
       "<style scoped>\n",
       "    .dataframe tbody tr th:only-of-type {\n",
       "        vertical-align: middle;\n",
       "    }\n",
       "\n",
       "    .dataframe tbody tr th {\n",
       "        vertical-align: top;\n",
       "    }\n",
       "\n",
       "    .dataframe thead th {\n",
       "        text-align: right;\n",
       "    }\n",
       "</style>\n",
       "<table border=\"1\" class=\"dataframe\">\n",
       "  <thead>\n",
       "    <tr style=\"text-align: right;\">\n",
       "      <th></th>\n",
       "      <th>order</th>\n",
       "      <th>distance</th>\n",
       "    </tr>\n",
       "  </thead>\n",
       "  <tbody>\n",
       "    <tr>\n",
       "      <th>0</th>\n",
       "      <td>(Bogota, Merida, Cuzco, Rio De Janeiro, Rome, Cairo, Lucknow, Beijing)</td>\n",
       "      <td>29588.070071</td>\n",
       "    </tr>\n",
       "  </tbody>\n",
       "</table>\n",
       "</div>"
      ],
      "text/plain": [
       "                                                                    order  \\\n",
       "0  (Bogota, Merida, Cuzco, Rio De Janeiro, Rome, Cairo, Lucknow, Beijing)   \n",
       "\n",
       "       distance  \n",
       "0  29588.070071  "
      ]
     },
     "execution_count": 12,
     "metadata": {},
     "output_type": "execute_result"
    }
   ],
   "source": [
    "db.seven_wonders_best_route('Airport','Label','Bogota','distance')"
   ]
  },
  {
   "cell_type": "code",
   "execution_count": 37,
   "id": "a5ae74ff",
   "metadata": {},
   "outputs": [
    {
     "data": {
      "text/html": [
       "<div>\n",
       "<style scoped>\n",
       "    .dataframe tbody tr th:only-of-type {\n",
       "        vertical-align: middle;\n",
       "    }\n",
       "\n",
       "    .dataframe tbody tr th {\n",
       "        vertical-align: top;\n",
       "    }\n",
       "\n",
       "    .dataframe thead th {\n",
       "        text-align: right;\n",
       "    }\n",
       "</style>\n",
       "<table border=\"1\" class=\"dataframe\">\n",
       "  <thead>\n",
       "    <tr style=\"text-align: right;\">\n",
       "      <th></th>\n",
       "      <th>Source</th>\n",
       "      <th>Target</th>\n",
       "      <th>Bridges</th>\n",
       "      <th>Distance</th>\n",
       "    </tr>\n",
       "  </thead>\n",
       "  <tbody>\n",
       "    <tr>\n",
       "      <th>0</th>\n",
       "      <td>Bogota</td>\n",
       "      <td>Merida</td>\n",
       "      <td>[Bogota, Panama City, San Pedro Sula, Belize City, Merida]</td>\n",
       "      <td>2564.717484</td>\n",
       "    </tr>\n",
       "    <tr>\n",
       "      <th>1</th>\n",
       "      <td>Bogota</td>\n",
       "      <td>Merida</td>\n",
       "      <td>[Bogota, Caracas, Merida]</td>\n",
       "      <td>1536.516855</td>\n",
       "    </tr>\n",
       "  </tbody>\n",
       "</table>\n",
       "</div>"
      ],
      "text/plain": [
       "   Source  Target                                                     Bridges  \\\n",
       "0  Bogota  Merida  [Bogota, Panama City, San Pedro Sula, Belize City, Merida]   \n",
       "1  Bogota  Merida                                   [Bogota, Caracas, Merida]   \n",
       "\n",
       "      Distance  \n",
       "0  2564.717484  \n",
       "1  1536.516855  "
      ]
     },
     "execution_count": 37,
     "metadata": {},
     "output_type": "execute_result"
    }
   ],
   "source": [
    "db.temp_dijkstra_directed('Airport', 'Label', 'Bogota', 'Merida', 'distance')"
   ]
  },
  {
   "cell_type": "markdown",
   "id": "00328443",
   "metadata": {},
   "source": [
    "Esto requiere alrededor de 29,588 km."
   ]
  },
  {
   "cell_type": "markdown",
   "id": "7e139c5b",
   "metadata": {},
   "source": [
    "#### <font color= #5aafc1> &nbsp; &nbsp; **4.8.3. Aeropuertos visitables desde el Aeropuerto más importante de Colombia en menos de 20,000km** </font>"
   ]
  },
  {
   "cell_type": "markdown",
   "id": "0f239750",
   "metadata": {},
   "source": [
    "Crearemos un atributo que nos permita evaluar todas las rutas posibles desde Bogotá:"
   ]
  },
  {
   "cell_type": "code",
   "execution_count": 58,
   "id": "e4486fe5",
   "metadata": {},
   "outputs": [
    {
     "name": "stdout",
     "output_type": "stream",
     "text": [
      "Directed Delta Pathing for Bogota already exists. Creation skipped.\n"
     ]
    },
    {
     "data": {
      "text/html": [
       "<div>\n",
       "<style scoped>\n",
       "    .dataframe tbody tr th:only-of-type {\n",
       "        vertical-align: middle;\n",
       "    }\n",
       "\n",
       "    .dataframe tbody tr th {\n",
       "        vertical-align: top;\n",
       "    }\n",
       "\n",
       "    .dataframe thead th {\n",
       "        text-align: right;\n",
       "    }\n",
       "</style>\n",
       "<table border=\"1\" class=\"dataframe\">\n",
       "  <thead>\n",
       "    <tr style=\"text-align: right;\">\n",
       "      <th></th>\n",
       "      <th>Source</th>\n",
       "      <th>Bridges</th>\n",
       "      <th>Partial_Costs</th>\n",
       "      <th>Total_Cost</th>\n",
       "      <th>Target</th>\n",
       "    </tr>\n",
       "  </thead>\n",
       "  <tbody>\n",
       "    <tr>\n",
       "      <th>0</th>\n",
       "      <td>Bogota</td>\n",
       "      <td>[Goroka, Port Moresby, Panama City, Nandi, Bogota, Los Angeles]</td>\n",
       "      <td>[0.0, 755.8972047746067, 5606.6853979173375, 14508.500729366064, 17901.63346808019, 18326.70207030612]</td>\n",
       "      <td>18326.702070</td>\n",
       "      <td>Goroka</td>\n",
       "    </tr>\n",
       "    <tr>\n",
       "      <th>1</th>\n",
       "      <td>Bogota</td>\n",
       "      <td>[Madang, Port Moresby, Panama City, Nandi, Bogota, Los Angeles]</td>\n",
       "      <td>[0.0, 755.8972047746067, 5606.6853979173375, 14508.500729366064, 17901.63346808019, 18398.968325213587]</td>\n",
       "      <td>18398.968325</td>\n",
       "      <td>Madang</td>\n",
       "    </tr>\n",
       "    <tr>\n",
       "      <th>2</th>\n",
       "      <td>Bogota</td>\n",
       "      <td>[Mount Hagen, Port Moresby, Panama City, Nandi, Bogota, Los Angeles]</td>\n",
       "      <td>[0.0, 755.8972047746067, 5606.6853979173375, 14508.500729366064, 17901.63346808019, 18417.507717458266]</td>\n",
       "      <td>18417.507717</td>\n",
       "      <td>Mount Hagen</td>\n",
       "    </tr>\n",
       "  </tbody>\n",
       "</table>\n",
       "</div>"
      ],
      "text/plain": [
       "   Source  \\\n",
       "0  Bogota   \n",
       "1  Bogota   \n",
       "2  Bogota   \n",
       "\n",
       "                                                                Bridges  \\\n",
       "0       [Goroka, Port Moresby, Panama City, Nandi, Bogota, Los Angeles]   \n",
       "1       [Madang, Port Moresby, Panama City, Nandi, Bogota, Los Angeles]   \n",
       "2  [Mount Hagen, Port Moresby, Panama City, Nandi, Bogota, Los Angeles]   \n",
       "\n",
       "                                                                                             Partial_Costs  \\\n",
       "0   [0.0, 755.8972047746067, 5606.6853979173375, 14508.500729366064, 17901.63346808019, 18326.70207030612]   \n",
       "1  [0.0, 755.8972047746067, 5606.6853979173375, 14508.500729366064, 17901.63346808019, 18398.968325213587]   \n",
       "2  [0.0, 755.8972047746067, 5606.6853979173375, 14508.500729366064, 17901.63346808019, 18417.507717458266]   \n",
       "\n",
       "     Total_Cost       Target  \n",
       "0  18326.702070       Goroka  \n",
       "1  18398.968325       Madang  \n",
       "2  18417.507717  Mount Hagen  "
      ]
     },
     "metadata": {},
     "output_type": "display_data"
    },
    {
     "name": "stdout",
     "output_type": "stream",
     "text": [
      "Undirected Delta Pathing for Bogota already exists. Creation skipped.\n"
     ]
    },
    {
     "data": {
      "text/html": [
       "<div>\n",
       "<style scoped>\n",
       "    .dataframe tbody tr th:only-of-type {\n",
       "        vertical-align: middle;\n",
       "    }\n",
       "\n",
       "    .dataframe tbody tr th {\n",
       "        vertical-align: top;\n",
       "    }\n",
       "\n",
       "    .dataframe thead th {\n",
       "        text-align: right;\n",
       "    }\n",
       "</style>\n",
       "<table border=\"1\" class=\"dataframe\">\n",
       "  <thead>\n",
       "    <tr style=\"text-align: right;\">\n",
       "      <th></th>\n",
       "      <th>Source</th>\n",
       "      <th>Bridges</th>\n",
       "      <th>Partial_Costs</th>\n",
       "      <th>Total_Cost</th>\n",
       "      <th>Target</th>\n",
       "    </tr>\n",
       "  </thead>\n",
       "  <tbody>\n",
       "    <tr>\n",
       "      <th>0</th>\n",
       "      <td>Bogota</td>\n",
       "      <td>[Goroka, Port Moresby, Panama City, Nandi, Bogota, Los Angeles]</td>\n",
       "      <td>[0.0, 755.8972047746067, 5606.6853979173375, 14508.500729366064, 17901.63346808019, 18326.70207030612]</td>\n",
       "      <td>18326.702070</td>\n",
       "      <td>Goroka</td>\n",
       "    </tr>\n",
       "    <tr>\n",
       "      <th>1</th>\n",
       "      <td>Bogota</td>\n",
       "      <td>[Madang, Port Moresby, Panama City, Nandi, Bogota, Los Angeles]</td>\n",
       "      <td>[0.0, 755.8972047746067, 5606.6853979173375, 14508.500729366064, 17901.63346808019, 18398.968325213587]</td>\n",
       "      <td>18398.968325</td>\n",
       "      <td>Madang</td>\n",
       "    </tr>\n",
       "    <tr>\n",
       "      <th>2</th>\n",
       "      <td>Bogota</td>\n",
       "      <td>[Mount Hagen, Port Moresby, Panama City, Nandi, Bogota, Los Angeles]</td>\n",
       "      <td>[0.0, 755.8972047746067, 5606.6853979173375, 14508.500729366064, 17901.63346808019, 18417.507717458266]</td>\n",
       "      <td>18417.507717</td>\n",
       "      <td>Mount Hagen</td>\n",
       "    </tr>\n",
       "  </tbody>\n",
       "</table>\n",
       "</div>"
      ],
      "text/plain": [
       "   Source  \\\n",
       "0  Bogota   \n",
       "1  Bogota   \n",
       "2  Bogota   \n",
       "\n",
       "                                                                Bridges  \\\n",
       "0       [Goroka, Port Moresby, Panama City, Nandi, Bogota, Los Angeles]   \n",
       "1       [Madang, Port Moresby, Panama City, Nandi, Bogota, Los Angeles]   \n",
       "2  [Mount Hagen, Port Moresby, Panama City, Nandi, Bogota, Los Angeles]   \n",
       "\n",
       "                                                                                             Partial_Costs  \\\n",
       "0   [0.0, 755.8972047746067, 5606.6853979173375, 14508.500729366064, 17901.63346808019, 18326.70207030612]   \n",
       "1  [0.0, 755.8972047746067, 5606.6853979173375, 14508.500729366064, 17901.63346808019, 18398.968325213587]   \n",
       "2  [0.0, 755.8972047746067, 5606.6853979173375, 14508.500729366064, 17901.63346808019, 18417.507717458266]   \n",
       "\n",
       "     Total_Cost       Target  \n",
       "0  18326.702070       Goroka  \n",
       "1  18398.968325       Madang  \n",
       "2  18417.507717  Mount Hagen  "
      ]
     },
     "metadata": {},
     "output_type": "display_data"
    }
   ],
   "source": [
    "db.delta_pathing('Airport', 'Label', 'Bogota', 'distance')"
   ]
  },
  {
   "cell_type": "markdown",
   "id": "422c90a2",
   "metadata": {},
   "source": [
    "Los aeropuertos y rutas visitables que sumen menos de 20,000 km:"
   ]
  },
  {
   "cell_type": "code",
   "execution_count": 11,
   "id": "c80bef46",
   "metadata": {},
   "outputs": [
    {
     "data": {
      "text/html": [
       "<div>\n",
       "<style scoped>\n",
       "    .dataframe tbody tr th:only-of-type {\n",
       "        vertical-align: middle;\n",
       "    }\n",
       "\n",
       "    .dataframe tbody tr th {\n",
       "        vertical-align: top;\n",
       "    }\n",
       "\n",
       "    .dataframe thead th {\n",
       "        text-align: right;\n",
       "    }\n",
       "</style>\n",
       "<table border=\"1\" class=\"dataframe\">\n",
       "  <thead>\n",
       "    <tr style=\"text-align: right;\">\n",
       "      <th></th>\n",
       "      <th>Distinct_Visitable_Airports</th>\n",
       "    </tr>\n",
       "  </thead>\n",
       "  <tbody>\n",
       "    <tr>\n",
       "      <th>0</th>\n",
       "      <td>3001</td>\n",
       "    </tr>\n",
       "  </tbody>\n",
       "</table>\n",
       "</div>"
      ],
      "text/plain": [
       "   Distinct_Visitable_Airports\n",
       "0                         3001"
      ]
     },
     "execution_count": 11,
     "metadata": {},
     "output_type": "execute_result"
    }
   ],
   "source": [
    "query2 = \"\"\"MATCH (source:Airport) -[r:PATH_Bogota_Directed]-> (target:Airport)\n",
    "WHERE r.totalCost <= 20_000 \n",
    "RETURN COUNT(DISTINCT target.Label) AS Distinct_Visitable_Airports\n",
    "\"\"\"\n",
    " \n",
    "db.custom_query(query2)"
   ]
  },
  {
   "cell_type": "code",
   "execution_count": 55,
   "id": "ea9e79fa",
   "metadata": {},
   "outputs": [
    {
     "data": {
      "text/html": [
       "<div>\n",
       "<style scoped>\n",
       "    .dataframe tbody tr th:only-of-type {\n",
       "        vertical-align: middle;\n",
       "    }\n",
       "\n",
       "    .dataframe tbody tr th {\n",
       "        vertical-align: top;\n",
       "    }\n",
       "\n",
       "    .dataframe thead th {\n",
       "        text-align: right;\n",
       "    }\n",
       "</style>\n",
       "<table border=\"1\" class=\"dataframe\">\n",
       "  <thead>\n",
       "    <tr style=\"text-align: right;\">\n",
       "      <th></th>\n",
       "      <th>Source</th>\n",
       "      <th>Target</th>\n",
       "      <th>Bridges</th>\n",
       "      <th>Target_Country</th>\n",
       "      <th>Kilometers</th>\n",
       "    </tr>\n",
       "  </thead>\n",
       "  <tbody>\n",
       "    <tr>\n",
       "      <th>0</th>\n",
       "      <td>Bogota</td>\n",
       "      <td>Goroka</td>\n",
       "      <td>[Goroka, Port Moresby, Panama City, Nandi, Bogota, Los Angeles]</td>\n",
       "      <td>Papua New Guinea</td>\n",
       "      <td>18326.702070</td>\n",
       "    </tr>\n",
       "    <tr>\n",
       "      <th>1</th>\n",
       "      <td>Bogota</td>\n",
       "      <td>Madang</td>\n",
       "      <td>[Madang, Port Moresby, Panama City, Nandi, Bogota, Los Angeles]</td>\n",
       "      <td>Papua New Guinea</td>\n",
       "      <td>18398.968325</td>\n",
       "    </tr>\n",
       "    <tr>\n",
       "      <th>2</th>\n",
       "      <td>Bogota</td>\n",
       "      <td>Mount Hagen</td>\n",
       "      <td>[Mount Hagen, Port Moresby, Panama City, Nandi, Bogota, Los Angeles]</td>\n",
       "      <td>Papua New Guinea</td>\n",
       "      <td>18417.507717</td>\n",
       "    </tr>\n",
       "    <tr>\n",
       "      <th>3</th>\n",
       "      <td>Bogota</td>\n",
       "      <td>Nadzab</td>\n",
       "      <td>[Nadzab, Port Moresby, Panama City, Nandi, Bogota, Los Angeles]</td>\n",
       "      <td>Papua New Guinea</td>\n",
       "      <td>18226.120224</td>\n",
       "    </tr>\n",
       "    <tr>\n",
       "      <th>4</th>\n",
       "      <td>Bogota</td>\n",
       "      <td>Port Moresby</td>\n",
       "      <td>[Port Moresby, Panama City, Nandi, Bogota, Los Angeles]</td>\n",
       "      <td>Papua New Guinea</td>\n",
       "      <td>17901.633468</td>\n",
       "    </tr>\n",
       "    <tr>\n",
       "      <th>5</th>\n",
       "      <td>Bogota</td>\n",
       "      <td>Wewak</td>\n",
       "      <td>[Port Moresby, Wewak, Panama City, Nandi, Bogota, Los Angeles]</td>\n",
       "      <td>Papua New Guinea</td>\n",
       "      <td>18662.934623</td>\n",
       "    </tr>\n",
       "    <tr>\n",
       "      <th>6</th>\n",
       "      <td>Bogota</td>\n",
       "      <td>Narssarssuaq</td>\n",
       "      <td>[Narssarssuaq, Godthaab, Keflavik, Santo Domingo, Bogota, Boston]</td>\n",
       "      <td>Greenland</td>\n",
       "      <td>10016.244656</td>\n",
       "    </tr>\n",
       "    <tr>\n",
       "      <th>7</th>\n",
       "      <td>Bogota</td>\n",
       "      <td>Godthaab</td>\n",
       "      <td>[Godthaab, Keflavik, Santo Domingo, Bogota, Boston]</td>\n",
       "      <td>Greenland</td>\n",
       "      <td>9552.032638</td>\n",
       "    </tr>\n",
       "    <tr>\n",
       "      <th>8</th>\n",
       "      <td>Bogota</td>\n",
       "      <td>Sondrestrom</td>\n",
       "      <td>[Godthaab, Sondrestrom, Keflavik, Santo Domingo, Bogota, Boston]</td>\n",
       "      <td>Greenland</td>\n",
       "      <td>9869.219679</td>\n",
       "    </tr>\n",
       "    <tr>\n",
       "      <th>9</th>\n",
       "      <td>Bogota</td>\n",
       "      <td>Thule</td>\n",
       "      <td>[Godthaab, Thule, Keflavik, Santo Domingo, Bogota, Boston, Ilulissat, Qaanaaq, Upernavik]</td>\n",
       "      <td>Greenland</td>\n",
       "      <td>11300.657141</td>\n",
       "    </tr>\n",
       "    <tr>\n",
       "      <th>10</th>\n",
       "      <td>Bogota</td>\n",
       "      <td>Akureyri</td>\n",
       "      <td>[Godthaab, Akureyri, Keflavik, Reykjavik, Santo Domingo, Bogota, Boston]</td>\n",
       "      <td>Iceland</td>\n",
       "      <td>11231.414101</td>\n",
       "    </tr>\n",
       "    <tr>\n",
       "      <th>11</th>\n",
       "      <td>Bogota</td>\n",
       "      <td>Egilsstadir</td>\n",
       "      <td>[Godthaab, Egilsstadir, Keflavik, Reykjavik, Santo Domingo, Bogota, Boston]</td>\n",
       "      <td>Iceland</td>\n",
       "      <td>11362.315578</td>\n",
       "    </tr>\n",
       "    <tr>\n",
       "      <th>12</th>\n",
       "      <td>Bogota</td>\n",
       "      <td>Isafjordur</td>\n",
       "      <td>[Godthaab, Isafjordur, Keflavik, Reykjavik, Santo Domingo, Bogota, Boston]</td>\n",
       "      <td>Iceland</td>\n",
       "      <td>11203.541950</td>\n",
       "    </tr>\n",
       "    <tr>\n",
       "      <th>13</th>\n",
       "      <td>Bogota</td>\n",
       "      <td>Keflavik</td>\n",
       "      <td>[Keflavik, Santo Domingo, Bogota, Boston]</td>\n",
       "      <td>Iceland</td>\n",
       "      <td>8149.907903</td>\n",
       "    </tr>\n",
       "    <tr>\n",
       "      <th>14</th>\n",
       "      <td>Bogota</td>\n",
       "      <td>Reykjavik</td>\n",
       "      <td>[Godthaab, Keflavik, Reykjavik, Santo Domingo, Bogota, Boston]</td>\n",
       "      <td>Iceland</td>\n",
       "      <td>10981.729726</td>\n",
       "    </tr>\n",
       "    <tr>\n",
       "      <th>15</th>\n",
       "      <td>Bogota</td>\n",
       "      <td>Sault Sainte Marie</td>\n",
       "      <td>[Sault Sainte Marie, Toronto, Bogota]</td>\n",
       "      <td>Canada</td>\n",
       "      <td>4866.658445</td>\n",
       "    </tr>\n",
       "    <tr>\n",
       "      <th>16</th>\n",
       "      <td>Bogota</td>\n",
       "      <td>St. Anthony</td>\n",
       "      <td>[St. Anthony, Halifax, Goose Bay, Punta Cana, Bogota]</td>\n",
       "      <td>Canada</td>\n",
       "      <td>5960.885142</td>\n",
       "    </tr>\n",
       "    <tr>\n",
       "      <th>17</th>\n",
       "      <td>Bogota</td>\n",
       "      <td>Baie Comeau</td>\n",
       "      <td>[Baie Comeau, Quebec, Bogota, Newark]</td>\n",
       "      <td>Canada</td>\n",
       "      <td>5073.708911</td>\n",
       "    </tr>\n",
       "    <tr>\n",
       "      <th>18</th>\n",
       "      <td>Bogota</td>\n",
       "      <td>Bagotville</td>\n",
       "      <td>[Bagotville, Montreal, Bogota, New York]</td>\n",
       "      <td>Canada</td>\n",
       "      <td>4919.210857</td>\n",
       "    </tr>\n",
       "    <tr>\n",
       "      <th>19</th>\n",
       "      <td>Bogota</td>\n",
       "      <td>Baker Lake</td>\n",
       "      <td>[Baker Lake, Rankin Inlet, Winnipeg, Bogota, Atlanta, Minneapolis]</td>\n",
       "      <td>Canada</td>\n",
       "      <td>7216.236215</td>\n",
       "    </tr>\n",
       "  </tbody>\n",
       "</table>\n",
       "</div>"
      ],
      "text/plain": [
       "    Source              Target  \\\n",
       "0   Bogota              Goroka   \n",
       "1   Bogota              Madang   \n",
       "2   Bogota         Mount Hagen   \n",
       "3   Bogota              Nadzab   \n",
       "4   Bogota        Port Moresby   \n",
       "5   Bogota               Wewak   \n",
       "6   Bogota        Narssarssuaq   \n",
       "7   Bogota            Godthaab   \n",
       "8   Bogota         Sondrestrom   \n",
       "9   Bogota               Thule   \n",
       "10  Bogota            Akureyri   \n",
       "11  Bogota         Egilsstadir   \n",
       "12  Bogota          Isafjordur   \n",
       "13  Bogota            Keflavik   \n",
       "14  Bogota           Reykjavik   \n",
       "15  Bogota  Sault Sainte Marie   \n",
       "16  Bogota         St. Anthony   \n",
       "17  Bogota         Baie Comeau   \n",
       "18  Bogota          Bagotville   \n",
       "19  Bogota          Baker Lake   \n",
       "\n",
       "                                                                                      Bridges  \\\n",
       "0                             [Goroka, Port Moresby, Panama City, Nandi, Bogota, Los Angeles]   \n",
       "1                             [Madang, Port Moresby, Panama City, Nandi, Bogota, Los Angeles]   \n",
       "2                        [Mount Hagen, Port Moresby, Panama City, Nandi, Bogota, Los Angeles]   \n",
       "3                             [Nadzab, Port Moresby, Panama City, Nandi, Bogota, Los Angeles]   \n",
       "4                                     [Port Moresby, Panama City, Nandi, Bogota, Los Angeles]   \n",
       "5                              [Port Moresby, Wewak, Panama City, Nandi, Bogota, Los Angeles]   \n",
       "6                           [Narssarssuaq, Godthaab, Keflavik, Santo Domingo, Bogota, Boston]   \n",
       "7                                         [Godthaab, Keflavik, Santo Domingo, Bogota, Boston]   \n",
       "8                            [Godthaab, Sondrestrom, Keflavik, Santo Domingo, Bogota, Boston]   \n",
       "9   [Godthaab, Thule, Keflavik, Santo Domingo, Bogota, Boston, Ilulissat, Qaanaaq, Upernavik]   \n",
       "10                   [Godthaab, Akureyri, Keflavik, Reykjavik, Santo Domingo, Bogota, Boston]   \n",
       "11                [Godthaab, Egilsstadir, Keflavik, Reykjavik, Santo Domingo, Bogota, Boston]   \n",
       "12                 [Godthaab, Isafjordur, Keflavik, Reykjavik, Santo Domingo, Bogota, Boston]   \n",
       "13                                                  [Keflavik, Santo Domingo, Bogota, Boston]   \n",
       "14                             [Godthaab, Keflavik, Reykjavik, Santo Domingo, Bogota, Boston]   \n",
       "15                                                      [Sault Sainte Marie, Toronto, Bogota]   \n",
       "16                                      [St. Anthony, Halifax, Goose Bay, Punta Cana, Bogota]   \n",
       "17                                                      [Baie Comeau, Quebec, Bogota, Newark]   \n",
       "18                                                   [Bagotville, Montreal, Bogota, New York]   \n",
       "19                         [Baker Lake, Rankin Inlet, Winnipeg, Bogota, Atlanta, Minneapolis]   \n",
       "\n",
       "      Target_Country    Kilometers  \n",
       "0   Papua New Guinea  18326.702070  \n",
       "1   Papua New Guinea  18398.968325  \n",
       "2   Papua New Guinea  18417.507717  \n",
       "3   Papua New Guinea  18226.120224  \n",
       "4   Papua New Guinea  17901.633468  \n",
       "5   Papua New Guinea  18662.934623  \n",
       "6          Greenland  10016.244656  \n",
       "7          Greenland   9552.032638  \n",
       "8          Greenland   9869.219679  \n",
       "9          Greenland  11300.657141  \n",
       "10           Iceland  11231.414101  \n",
       "11           Iceland  11362.315578  \n",
       "12           Iceland  11203.541950  \n",
       "13           Iceland   8149.907903  \n",
       "14           Iceland  10981.729726  \n",
       "15            Canada   4866.658445  \n",
       "16            Canada   5960.885142  \n",
       "17            Canada   5073.708911  \n",
       "18            Canada   4919.210857  \n",
       "19            Canada   7216.236215  "
      ]
     },
     "execution_count": 55,
     "metadata": {},
     "output_type": "execute_result"
    }
   ],
   "source": [
    "query3 = \"\"\"MATCH (source:Airport) -[r:PATH_Bogota_Directed]-> (target:Airport)\n",
    "MATCH (v:Airport)\n",
    "WHERE r.totalCost <= 20_000 AND id(v) IN r.nodeIds\n",
    "RETURN source.Label AS Source, target.Label AS Target, COLLECT(v.Label) AS Bridges, \n",
    "target.country AS Target_Country, r.totalCost AS Kilometers\n",
    "LIMIT 20\n",
    "\"\"\"\n",
    " \n",
    "db.custom_query(query3)"
   ]
  },
  {
   "cell_type": "markdown",
   "id": "8431d26b",
   "metadata": {},
   "source": [
    "Algunos de los destinos visitables desde Bogotá a menos de 20,000 km de distancia son Papua New Guinea, Greenland, Iceland y Canada. Las rutas para llegar a cada destino están especificadas en la tabla de arriba, mostrando los países a recorrer."
   ]
  },
  {
   "cell_type": "markdown",
   "id": "6162a906",
   "metadata": {},
   "source": [
    "## <font color= #5aafc1> **Tours** </font>"
   ]
  },
  {
   "cell_type": "markdown",
   "id": "1e8645ac",
   "metadata": {},
   "source": [
    "## <font color= #EEF4ED> **Tour 1: The Grand Tour (Europa)** </font>"
   ]
  },
  {
   "cell_type": "code",
   "execution_count": 2,
   "id": "72ecb31f",
   "metadata": {},
   "outputs": [
    {
     "name": "stdout",
     "output_type": "stream",
     "text": [
      "Successfully created Airport_Europe Subgraph with Airport nodes and TO relationships!\n"
     ]
    }
   ],
   "source": [
    "# Subgrafo específico de aeropuertos en Europa\n",
    "db.create_subgraph_continent('Airport','TO','Europe')"
   ]
  },
  {
   "cell_type": "code",
   "execution_count": 3,
   "id": "237ccf6b",
   "metadata": {},
   "outputs": [
    {
     "data": {
      "application/vnd.microsoft.datawrangler.viewer.v0+json": {
       "columns": [
        {
         "name": "index",
         "rawType": "int64",
         "type": "integer"
        },
        {
         "name": "minimumScore",
         "rawType": "float64",
         "type": "float"
        },
        {
         "name": "meanScore",
         "rawType": "float64",
         "type": "float"
        },
        {
         "name": "nodePropertiesWritten",
         "rawType": "int64",
         "type": "integer"
        }
       ],
       "ref": "be403f79-8140-4ee9-b3e1-cd5c0fec1756",
       "rows": [
        [
         "0",
         "0.0",
         "19.437430228201105",
         "503"
        ]
       ],
       "shape": {
        "columns": 3,
        "rows": 1
       }
      },
      "text/html": [
       "<div>\n",
       "<style scoped>\n",
       "    .dataframe tbody tr th:only-of-type {\n",
       "        vertical-align: middle;\n",
       "    }\n",
       "\n",
       "    .dataframe tbody tr th {\n",
       "        vertical-align: top;\n",
       "    }\n",
       "\n",
       "    .dataframe thead th {\n",
       "        text-align: right;\n",
       "    }\n",
       "</style>\n",
       "<table border=\"1\" class=\"dataframe\">\n",
       "  <thead>\n",
       "    <tr style=\"text-align: right;\">\n",
       "      <th></th>\n",
       "      <th>minimumScore</th>\n",
       "      <th>meanScore</th>\n",
       "      <th>nodePropertiesWritten</th>\n",
       "    </tr>\n",
       "  </thead>\n",
       "  <tbody>\n",
       "    <tr>\n",
       "      <th>0</th>\n",
       "      <td>0.0</td>\n",
       "      <td>19.43743</td>\n",
       "      <td>503</td>\n",
       "    </tr>\n",
       "  </tbody>\n",
       "</table>\n",
       "</div>"
      ],
      "text/plain": [
       "   minimumScore  meanScore  nodePropertiesWritten\n",
       "0           0.0   19.43743                    503"
      ]
     },
     "execution_count": 3,
     "metadata": {},
     "output_type": "execute_result"
    }
   ],
   "source": [
    "# 1\n",
    "db.custom_query(f\"\"\"\n",
    "    CALL gds.degree.write('Airport_Europe', {{writeProperty: 'Out_Degree_Europe'}} )\n",
    "    YIELD centralityDistribution, nodePropertiesWritten\n",
    "    RETURN centralityDistribution.min AS minimumScore, \n",
    "    centralityDistribution.mean AS meanScore, \n",
    "    nodePropertiesWritten;\n",
    "\"\"\")"
   ]
  },
  {
   "cell_type": "code",
   "execution_count": 4,
   "id": "a2ff5468",
   "metadata": {},
   "outputs": [
    {
     "data": {
      "application/vnd.microsoft.datawrangler.viewer.v0+json": {
       "columns": [
        {
         "name": "index",
         "rawType": "int64",
         "type": "integer"
        },
        {
         "name": "Name",
         "rawType": "object",
         "type": "string"
        },
        {
         "name": "ODE",
         "rawType": "float64",
         "type": "float"
        }
       ],
       "ref": "ca43d76c-2d92-4840-a0e1-3db479958b3d",
       "rows": [
        [
         "0",
         "London",
         "145.0"
        ],
        [
         "1",
         "Amsterdam",
         "141.0"
        ],
        [
         "2",
         "Munich",
         "133.0"
        ],
        [
         "3",
         "Barcelona",
         "131.0"
        ],
        [
         "4",
         "Dublin",
         "128.0"
        ],
        [
         "5",
         "Palma de Mallorca",
         "123.0"
        ],
        [
         "6",
         "London",
         "123.0"
        ],
        [
         "7",
         "Frankfurt",
         "120.0"
        ],
        [
         "8",
         "Paris",
         "113.0"
        ],
        [
         "9",
         "Duesseldorf",
         "109.0"
        ]
       ],
       "shape": {
        "columns": 2,
        "rows": 10
       }
      },
      "text/html": [
       "<div>\n",
       "<style scoped>\n",
       "    .dataframe tbody tr th:only-of-type {\n",
       "        vertical-align: middle;\n",
       "    }\n",
       "\n",
       "    .dataframe tbody tr th {\n",
       "        vertical-align: top;\n",
       "    }\n",
       "\n",
       "    .dataframe thead th {\n",
       "        text-align: right;\n",
       "    }\n",
       "</style>\n",
       "<table border=\"1\" class=\"dataframe\">\n",
       "  <thead>\n",
       "    <tr style=\"text-align: right;\">\n",
       "      <th></th>\n",
       "      <th>Name</th>\n",
       "      <th>ODE</th>\n",
       "    </tr>\n",
       "  </thead>\n",
       "  <tbody>\n",
       "    <tr>\n",
       "      <th>0</th>\n",
       "      <td>London</td>\n",
       "      <td>145.0</td>\n",
       "    </tr>\n",
       "    <tr>\n",
       "      <th>1</th>\n",
       "      <td>Amsterdam</td>\n",
       "      <td>141.0</td>\n",
       "    </tr>\n",
       "    <tr>\n",
       "      <th>2</th>\n",
       "      <td>Munich</td>\n",
       "      <td>133.0</td>\n",
       "    </tr>\n",
       "    <tr>\n",
       "      <th>3</th>\n",
       "      <td>Barcelona</td>\n",
       "      <td>131.0</td>\n",
       "    </tr>\n",
       "    <tr>\n",
       "      <th>4</th>\n",
       "      <td>Dublin</td>\n",
       "      <td>128.0</td>\n",
       "    </tr>\n",
       "    <tr>\n",
       "      <th>5</th>\n",
       "      <td>Palma de Mallorca</td>\n",
       "      <td>123.0</td>\n",
       "    </tr>\n",
       "    <tr>\n",
       "      <th>6</th>\n",
       "      <td>London</td>\n",
       "      <td>123.0</td>\n",
       "    </tr>\n",
       "    <tr>\n",
       "      <th>7</th>\n",
       "      <td>Frankfurt</td>\n",
       "      <td>120.0</td>\n",
       "    </tr>\n",
       "    <tr>\n",
       "      <th>8</th>\n",
       "      <td>Paris</td>\n",
       "      <td>113.0</td>\n",
       "    </tr>\n",
       "    <tr>\n",
       "      <th>9</th>\n",
       "      <td>Duesseldorf</td>\n",
       "      <td>109.0</td>\n",
       "    </tr>\n",
       "  </tbody>\n",
       "</table>\n",
       "</div>"
      ],
      "text/plain": [
       "                Name    ODE\n",
       "0             London  145.0\n",
       "1          Amsterdam  141.0\n",
       "2             Munich  133.0\n",
       "3          Barcelona  131.0\n",
       "4             Dublin  128.0\n",
       "5  Palma de Mallorca  123.0\n",
       "6             London  123.0\n",
       "7          Frankfurt  120.0\n",
       "8              Paris  113.0\n",
       "9        Duesseldorf  109.0"
      ]
     },
     "execution_count": 4,
     "metadata": {},
     "output_type": "execute_result"
    }
   ],
   "source": [
    "db.custom_query(\"\"\"MATCH (a:Airport {continent:'Europe'})\n",
    "                WHERE a.Out_Degree_Europe IS NOT null\n",
    "                RETURN a.Label AS Name, a.Out_Degree_Europe AS ODE\n",
    "                ORDER BY ODE DESC\n",
    "                LIMIT 10;\"\"\")"
   ]
  },
  {
   "cell_type": "code",
   "execution_count": 5,
   "id": "5be3b815",
   "metadata": {},
   "outputs": [
    {
     "data": {
      "application/vnd.microsoft.datawrangler.viewer.v0+json": {
       "columns": [
        {
         "name": "index",
         "rawType": "int64",
         "type": "integer"
        },
        {
         "name": "nodePropertiesWritten",
         "rawType": "int64",
         "type": "integer"
        },
        {
         "name": "ranIterations",
         "rawType": "int64",
         "type": "integer"
        }
       ],
       "ref": "8f1fd433-f8f5-4210-8eac-53b2574e7abe",
       "rows": [
        [
         "0",
         "503",
         "20"
        ]
       ],
       "shape": {
        "columns": 2,
        "rows": 1
       }
      },
      "text/html": [
       "<div>\n",
       "<style scoped>\n",
       "    .dataframe tbody tr th:only-of-type {\n",
       "        vertical-align: middle;\n",
       "    }\n",
       "\n",
       "    .dataframe tbody tr th {\n",
       "        vertical-align: top;\n",
       "    }\n",
       "\n",
       "    .dataframe thead th {\n",
       "        text-align: right;\n",
       "    }\n",
       "</style>\n",
       "<table border=\"1\" class=\"dataframe\">\n",
       "  <thead>\n",
       "    <tr style=\"text-align: right;\">\n",
       "      <th></th>\n",
       "      <th>nodePropertiesWritten</th>\n",
       "      <th>ranIterations</th>\n",
       "    </tr>\n",
       "  </thead>\n",
       "  <tbody>\n",
       "    <tr>\n",
       "      <th>0</th>\n",
       "      <td>503</td>\n",
       "      <td>20</td>\n",
       "    </tr>\n",
       "  </tbody>\n",
       "</table>\n",
       "</div>"
      ],
      "text/plain": [
       "   nodePropertiesWritten  ranIterations\n",
       "0                    503             20"
      ]
     },
     "execution_count": 5,
     "metadata": {},
     "output_type": "execute_result"
    }
   ],
   "source": [
    "# 2\n",
    "db.custom_query(f\"\"\"\n",
    "    CALL gds.pageRank.write(\n",
    "        'Airport_Europe',\n",
    "        {{writeProperty: 'Page_Rank_Europe'}} )\n",
    "        YIELD nodePropertiesWritten, ranIterations;\n",
    "\"\"\")"
   ]
  },
  {
   "cell_type": "code",
   "execution_count": 10,
   "id": "09f88ed2",
   "metadata": {},
   "outputs": [
    {
     "name": "stdout",
     "output_type": "stream",
     "text": [
      "Germany: 0    Munich\n",
      "Name: Airport, dtype: object\n",
      "United Kingdom: 0    London\n",
      "Name: Airport, dtype: object\n",
      "France: 0    Paris\n",
      "Name: Airport, dtype: object\n",
      "Italy: 0    Rome\n",
      "Name: Airport, dtype: object\n",
      "Spain: 0    Barcelona\n",
      "Name: Airport, dtype: object\n",
      "Ukraine: 0    Kiev\n",
      "Name: Airport, dtype: object\n",
      "Poland: 0    Warsaw\n",
      "Name: Airport, dtype: object\n",
      "Romania: 0    Bucharest\n",
      "Name: Airport, dtype: object\n",
      "Netherlands: 0    Amsterdam\n",
      "Name: Airport, dtype: object\n",
      "Belgium: 0    Brussels\n",
      "Name: Airport, dtype: object\n"
     ]
    }
   ],
   "source": [
    "top_europe_countries = ['Germany','United Kingdom','France','Italy','Spain','Ukraine','Poland','Romania','Netherlands','Belgium']\n",
    "\n",
    "for i in top_europe_countries:\n",
    "    result = db.custom_query(f\"\"\"\n",
    "    MATCH (a:Airport {{country: '{i}'}})\n",
    "    WHERE a.Page_Rank_Europe IS NOT NULL\n",
    "    RETURN a.Label AS Airport, a.Page_Rank_Europe AS PR\n",
    "    ORDER BY PR DESC\n",
    "    LIMIT 1;\n",
    "    \"\"\")\n",
    "\n",
    "    print(f\"{i}: {result['Airport']}\")\n"
   ]
  },
  {
   "cell_type": "code",
   "execution_count": 35,
   "id": "c8b37112",
   "metadata": {},
   "outputs": [
    {
     "name": "stdout",
     "output_type": "stream",
     "text": [
      "\n",
      "    Ruta GDL-Munich: 0    10031.953936\n",
      "Name: Distance, dtype: float64 \n",
      "\n",
      "    Middle Airports: 0    [818, 1744, 196]\n",
      "Name: Middle, dtype: object\n",
      "\n",
      "\n",
      "    Ruta GDL-London: 0    3358.698645\n",
      "1    9086.463951\n",
      "2    9126.420797\n",
      "3    9131.317161\n",
      "4    9094.852864\n",
      "5    9123.639416\n",
      "Name: Distance, dtype: float64 \n",
      "\n",
      "    Middle Airports: 0              [818, 1885, 109]\n",
      "1    [818, 1744, 125, 288, 247]\n",
      "2          [818, 1744, 89, 253]\n",
      "3    [818, 1744, 125, 288, 254]\n",
      "4              [818, 1744, 255]\n",
      "5    [818, 1744, 125, 288, 279]\n",
      "Name: Middle, dtype: object\n",
      "\n",
      "\n",
      "    Ruta GDL-Paris: 0    9403.563969\n",
      "1    9407.824968\n",
      "Name: Distance, dtype: float64 \n",
      "\n",
      "    Middle Airports: 0        [818, 1744, 628]\n",
      "1    [818, 1744, 89, 629]\n",
      "Name: Middle, dtype: object\n",
      "\n",
      "\n",
      "    Ruta GDL-Rome: 0    10517.777807\n",
      "1    10460.905875\n",
      "Name: Distance, dtype: float64 \n",
      "\n",
      "    Middle Airports: 0    [818, 1744, 89, 618, 705]\n",
      "1             [818, 1809, 706]\n",
      "Name: Middle, dtype: object\n",
      "\n",
      "\n",
      "    Ruta GDL-Barcelona: 0    9746.264626\n",
      "1    4296.911075\n",
      "Name: Distance, dtype: float64 \n",
      "\n",
      "    Middle Airports: 0    [818, 1809, 1854, 570]\n",
      "1    [818, 832, 1340, 1329]\n",
      "Name: Middle, dtype: object\n",
      "\n",
      "\n",
      "    Ruta GDL-Kiev: 0    10979.090423\n",
      "1    10955.689394\n",
      "Name: Distance, dtype: float64 \n",
      "\n",
      "    Middle Airports: 0    [818, 1885, 368, 1965, 1401]\n",
      "1    [818, 1885, 368, 1965, 1405]\n",
      "Name: Middle, dtype: object\n",
      "\n",
      "\n",
      "    Ruta GDL-Warsaw: 0    10319.829047\n",
      "1    10308.471303\n",
      "Name: Distance, dtype: float64 \n",
      "\n",
      "    Middle Airports: 0               [818, 1885, 340]\n",
      "1    [818, 1885, 295, 334, 3141]\n",
      "Name: Middle, dtype: object\n",
      "\n",
      "\n",
      "    Ruta GDL-Bucharest: 0    11166.687239\n",
      "Name: Distance, dtype: float64 \n",
      "\n",
      "    Middle Airports: 0    [818, 1744, 282, 750]\n",
      "Name: Middle, dtype: object\n",
      "\n",
      "\n",
      "    Ruta GDL-Amsterdam: 0    9381.485099\n",
      "Name: Distance, dtype: float64 \n",
      "\n",
      "    Middle Airports: 0    [818, 1744, 282]\n",
      "Name: Middle, dtype: object\n",
      "\n",
      "\n",
      "    Ruta GDL-Brussels: 0    9434.875604\n",
      "Name: Distance, dtype: float64 \n",
      "\n",
      "    Middle Airports: 0    [818, 1744, 89, 184]\n",
      "Name: Middle, dtype: object\n",
      "\n"
     ]
    }
   ],
   "source": [
    "# 3\n",
    "cities = ['Munich','London','Paris','Rome','Barcelona','Kiev','Warsaw','Bucharest','Amsterdam','Brussels']\n",
    "\n",
    "for i in cities:\n",
    "    result = db.temp_dijkstra_directed('Airport','Label','Guadalajara',i,'distance')\n",
    "    print(f\"\"\"\n",
    "    Ruta GDL-{i}: {result[\"Distance\"]} \\n\n",
    "    Middle Airports: {result['Middle']}\n",
    "\"\"\")"
   ]
  },
  {
   "cell_type": "markdown",
   "id": "13f4380f",
   "metadata": {},
   "source": [
    "Estas rutas son complejas y difíciles de tratar para una persona turista, por ende se propone la ruta de GDL a Londres via la CDMX, la cuál es apenas 300 km más larga pero es logísticamente más sencilla"
   ]
  },
  {
   "cell_type": "code",
   "execution_count": 44,
   "id": "37a6290a",
   "metadata": {},
   "outputs": [
    {
     "data": {
      "application/vnd.microsoft.datawrangler.viewer.v0+json": {
       "columns": [
        {
         "name": "index",
         "rawType": "int64",
         "type": "integer"
        },
        {
         "name": "r.distance + r2.distance",
         "rawType": "float64",
         "type": "float"
        },
        {
         "name": "a3.Id",
         "rawType": "int64",
         "type": "integer"
        }
       ],
       "ref": "b2c48a05-a40c-4d90-9352-f57878fba746",
       "rows": [
        [
         "0",
         "9373.457895766884",
         "507"
        ]
       ],
       "shape": {
        "columns": 2,
        "rows": 1
       }
      },
      "text/html": [
       "<div>\n",
       "<style scoped>\n",
       "    .dataframe tbody tr th:only-of-type {\n",
       "        vertical-align: middle;\n",
       "    }\n",
       "\n",
       "    .dataframe tbody tr th {\n",
       "        vertical-align: top;\n",
       "    }\n",
       "\n",
       "    .dataframe thead th {\n",
       "        text-align: right;\n",
       "    }\n",
       "</style>\n",
       "<table border=\"1\" class=\"dataframe\">\n",
       "  <thead>\n",
       "    <tr style=\"text-align: right;\">\n",
       "      <th></th>\n",
       "      <th>r.distance + r2.distance</th>\n",
       "      <th>a3.Id</th>\n",
       "    </tr>\n",
       "  </thead>\n",
       "  <tbody>\n",
       "    <tr>\n",
       "      <th>0</th>\n",
       "      <td>9373.457896</td>\n",
       "      <td>507</td>\n",
       "    </tr>\n",
       "  </tbody>\n",
       "</table>\n",
       "</div>"
      ],
      "text/plain": [
       "   r.distance + r2.distance  a3.Id\n",
       "0               9373.457896    507"
      ]
     },
     "execution_count": 44,
     "metadata": {},
     "output_type": "execute_result"
    }
   ],
   "source": [
    "db.custom_query(f\"MATCH (a:Airport {{Label:'Guadalajara'}})-[r:TO]->(a2:Airport {{Label: 'Mexico City'}})-[r2:TO]->(a3:Airport {{Label: 'London'}}) RETURN r.distance + r2.distance, a3.Id\")"
   ]
  },
  {
   "cell_type": "markdown",
   "id": "8dde2d08",
   "metadata": {},
   "source": [
    "De forma similar, para el retorno, se propone la siguiente ruta: Barcelona-GDL via Londres y CDMX"
   ]
  },
  {
   "cell_type": "code",
   "execution_count": null,
   "id": "5b322248",
   "metadata": {},
   "outputs": [
    {
     "data": {
      "application/vnd.microsoft.datawrangler.viewer.v0+json": {
       "columns": [
        {
         "name": "index",
         "rawType": "int64",
         "type": "integer"
        },
        {
         "name": "r.distance",
         "rawType": "float64",
         "type": "float"
        },
        {
         "name": "a2.Id",
         "rawType": "int64",
         "type": "integer"
        }
       ],
       "ref": "743680e1-5912-4fff-b904-84dc30b26a09",
       "rows": [
        [
         "0",
         "1192.0972728944823",
         "492"
        ],
        [
         "1",
         "1110.296837269539",
         "502"
        ],
        [
         "2",
         "1148.9991081544574",
         "507"
        ],
        [
         "3",
         "1186.9421881696337",
         "548"
        ]
       ],
       "shape": {
        "columns": 2,
        "rows": 4
       }
      },
      "text/html": [
       "<div>\n",
       "<style scoped>\n",
       "    .dataframe tbody tr th:only-of-type {\n",
       "        vertical-align: middle;\n",
       "    }\n",
       "\n",
       "    .dataframe tbody tr th {\n",
       "        vertical-align: top;\n",
       "    }\n",
       "\n",
       "    .dataframe thead th {\n",
       "        text-align: right;\n",
       "    }\n",
       "</style>\n",
       "<table border=\"1\" class=\"dataframe\">\n",
       "  <thead>\n",
       "    <tr style=\"text-align: right;\">\n",
       "      <th></th>\n",
       "      <th>r.distance</th>\n",
       "      <th>a2.Id</th>\n",
       "    </tr>\n",
       "  </thead>\n",
       "  <tbody>\n",
       "    <tr>\n",
       "      <th>0</th>\n",
       "      <td>1192.097273</td>\n",
       "      <td>492</td>\n",
       "    </tr>\n",
       "    <tr>\n",
       "      <th>1</th>\n",
       "      <td>1110.296837</td>\n",
       "      <td>502</td>\n",
       "    </tr>\n",
       "    <tr>\n",
       "      <th>2</th>\n",
       "      <td>1148.999108</td>\n",
       "      <td>507</td>\n",
       "    </tr>\n",
       "    <tr>\n",
       "      <th>3</th>\n",
       "      <td>1186.942188</td>\n",
       "      <td>548</td>\n",
       "    </tr>\n",
       "  </tbody>\n",
       "</table>\n",
       "</div>"
      ],
      "text/plain": [
       "    r.distance  a2.Id\n",
       "0  1192.097273    492\n",
       "1  1110.296837    502\n",
       "2  1148.999108    507\n",
       "3  1186.942188    548"
      ]
     },
     "execution_count": 43,
     "metadata": {},
     "output_type": "execute_result"
    }
   ],
   "source": [
    "db.custom_query(f\"MATCH (a:Airport {{Label:'Barcelona'}})-[r:TO]->(a2:Airport {{Label: 'London'}})RETURN r.distance, a2.Id\") # se va a tomar el aeropuerto con id=507"
   ]
  },
  {
   "cell_type": "code",
   "execution_count": 45,
   "id": "75a2f8c1",
   "metadata": {},
   "outputs": [
    {
     "name": "stdout",
     "output_type": "stream",
     "text": [
      "\n",
      "    Grand Tour Report: \n",
      "\n",
      "    Total Distance: 0    23536.266188\n",
      "1             NaN\n",
      "Name: Dist, dtype: float64\n",
      "    Cost Per Leg: \n",
      "\n"
     ]
    }
   ],
   "source": [
    "# 4\n",
    "grand_1 = db.custom_query(f\"\"\"\n",
    "    MATCH (a:Airport {{Id:507}})-[r:TO]->(a2:Airport {{Label:'Munich'}}) \n",
    "    RETURN r.distance AS Dist;\n",
    "\"\"\") # En este caso, identifico a Londres con su Id específico ya que hay varios aeropuertos con el Label:\"Londres\". Este es el mismo aeropuerto en el que llegamos\n",
    "\n",
    "grand_2 = db.custom_query(f\"\"\"\n",
    "    MATCH (a:Airport {{Label:'Munich'}})-[r:TO]->(a2:Airport {{Label:'Paris'}}) \n",
    "    RETURN r.distance AS Dist;\n",
    "\"\"\")\n",
    "\n",
    "grand_3 = db.custom_query(f\"\"\"\n",
    "    MATCH (a:Airport {{Label:'Paris'}})-[r:TO]->(a2:Airport {{Label:'Rome'}}) \n",
    "    RETURN r.distance AS Dist;\n",
    "\"\"\")\n",
    "\n",
    "grand_4 = db.custom_query(f\"\"\"\n",
    "    MATCH (a:Airport {{Label:'Rome'}})-[r:TO]->(a2:Airport {{Label:'Barcelona'}}) \n",
    "    RETURN r.distance AS Dist;\n",
    "\"\"\")\n",
    "\n",
    "grand_f = db.temp_dijkstra_directed('Airport','Label','Barcelona','Guadalajara','distance')\n",
    "\n",
    "print(f\"\"\"\n",
    "    Grand Tour Report: \\n\n",
    "    Total Distance: {9373+grand_1['Dist']+grand_2['Dist']+grand_3['Dist']+grand_4['Dist']+(1186+9373)}\n",
    "    Cost Per Leg: \n",
    "\"\"\")"
   ]
  },
  {
   "cell_type": "code",
   "execution_count": 39,
   "id": "37b323ce",
   "metadata": {},
   "outputs": [
    {
     "data": {
      "application/vnd.microsoft.datawrangler.viewer.v0+json": {
       "columns": [
        {
         "name": "index",
         "rawType": "int64",
         "type": "integer"
        },
        {
         "name": "Source",
         "rawType": "object",
         "type": "string"
        },
        {
         "name": "Target",
         "rawType": "object",
         "type": "string"
        },
        {
         "name": "Middle",
         "rawType": "object",
         "type": "unknown"
        },
        {
         "name": "Distance",
         "rawType": "float64",
         "type": "float"
        }
       ],
       "ref": "e50ff296-fa8e-4242-a78a-b1184f753ef8",
       "rows": [
        [
         "0",
         "Barcelona",
         "Guadalajara",
         "[570, 1854, 1809, 818]",
         "9746.264625621985"
        ],
        [
         "1",
         "Barcelona",
         "Guadalajara",
         "[1329, 1340, 832, 818]",
         "4296.911075219556"
        ]
       ],
       "shape": {
        "columns": 4,
        "rows": 2
       }
      },
      "text/html": [
       "<div>\n",
       "<style scoped>\n",
       "    .dataframe tbody tr th:only-of-type {\n",
       "        vertical-align: middle;\n",
       "    }\n",
       "\n",
       "    .dataframe tbody tr th {\n",
       "        vertical-align: top;\n",
       "    }\n",
       "\n",
       "    .dataframe thead th {\n",
       "        text-align: right;\n",
       "    }\n",
       "</style>\n",
       "<table border=\"1\" class=\"dataframe\">\n",
       "  <thead>\n",
       "    <tr style=\"text-align: right;\">\n",
       "      <th></th>\n",
       "      <th>Source</th>\n",
       "      <th>Target</th>\n",
       "      <th>Middle</th>\n",
       "      <th>Distance</th>\n",
       "    </tr>\n",
       "  </thead>\n",
       "  <tbody>\n",
       "    <tr>\n",
       "      <th>0</th>\n",
       "      <td>Barcelona</td>\n",
       "      <td>Guadalajara</td>\n",
       "      <td>[570, 1854, 1809, 818]</td>\n",
       "      <td>9746.264626</td>\n",
       "    </tr>\n",
       "    <tr>\n",
       "      <th>1</th>\n",
       "      <td>Barcelona</td>\n",
       "      <td>Guadalajara</td>\n",
       "      <td>[1329, 1340, 832, 818]</td>\n",
       "      <td>4296.911075</td>\n",
       "    </tr>\n",
       "  </tbody>\n",
       "</table>\n",
       "</div>"
      ],
      "text/plain": [
       "      Source       Target                  Middle     Distance\n",
       "0  Barcelona  Guadalajara  [570, 1854, 1809, 818]  9746.264626\n",
       "1  Barcelona  Guadalajara  [1329, 1340, 832, 818]  4296.911075"
      ]
     },
     "execution_count": 39,
     "metadata": {},
     "output_type": "execute_result"
    }
   ],
   "source": [
    "db.temp_dijkstra_directed('Airport','Label','Barcelona','Guadalajara','distance')"
   ]
  },
  {
   "cell_type": "code",
   "execution_count": 48,
   "id": "3d82d172",
   "metadata": {},
   "outputs": [
    {
     "data": {
      "application/vnd.microsoft.datawrangler.viewer.v0+json": {
       "columns": [
        {
         "name": "index",
         "rawType": "int64",
         "type": "integer"
        },
        {
         "name": "communityCount",
         "rawType": "int64",
         "type": "integer"
        },
        {
         "name": "modularity",
         "rawType": "float64",
         "type": "float"
        },
        {
         "name": "modularities",
         "rawType": "object",
         "type": "unknown"
        }
       ],
       "ref": "0002a0a8-c816-47b2-b0e2-6cd7a364ac6e",
       "rows": [
        [
         "0",
         "8",
         "0.26782181796958543",
         "[0.2541399296152414, 0.26615043547199513, 0.26782181796958543]"
        ]
       ],
       "shape": {
        "columns": 3,
        "rows": 1
       }
      },
      "text/html": [
       "<div>\n",
       "<style scoped>\n",
       "    .dataframe tbody tr th:only-of-type {\n",
       "        vertical-align: middle;\n",
       "    }\n",
       "\n",
       "    .dataframe tbody tr th {\n",
       "        vertical-align: top;\n",
       "    }\n",
       "\n",
       "    .dataframe thead th {\n",
       "        text-align: right;\n",
       "    }\n",
       "</style>\n",
       "<table border=\"1\" class=\"dataframe\">\n",
       "  <thead>\n",
       "    <tr style=\"text-align: right;\">\n",
       "      <th></th>\n",
       "      <th>communityCount</th>\n",
       "      <th>modularity</th>\n",
       "      <th>modularities</th>\n",
       "    </tr>\n",
       "  </thead>\n",
       "  <tbody>\n",
       "    <tr>\n",
       "      <th>0</th>\n",
       "      <td>8</td>\n",
       "      <td>0.267822</td>\n",
       "      <td>[0.2541399296152414, 0.26615043547199513, 0.26782181796958543]</td>\n",
       "    </tr>\n",
       "  </tbody>\n",
       "</table>\n",
       "</div>"
      ],
      "text/plain": [
       "   communityCount  modularity  \\\n",
       "0               8    0.267822   \n",
       "\n",
       "                                                     modularities  \n",
       "0  [0.2541399296152414, 0.26615043547199513, 0.26782181796958543]  "
      ]
     },
     "execution_count": 48,
     "metadata": {},
     "output_type": "execute_result"
    }
   ],
   "source": [
    "# 5\n",
    "db.custom_query(f\"\"\"CALL gds.louvain.write(\n",
    "            'Airport_Europe',\n",
    "            {{writeProperty: 'Louvain_Europe'}} )\n",
    "            YIELD communityCount, modularity, modularities;\n",
    "            \"\"\")"
   ]
  },
  {
   "cell_type": "code",
   "execution_count": 49,
   "id": "00cae362",
   "metadata": {},
   "outputs": [
    {
     "data": {
      "application/vnd.microsoft.datawrangler.viewer.v0+json": {
       "columns": [
        {
         "name": "index",
         "rawType": "int64",
         "type": "integer"
        },
        {
         "name": "LV",
         "rawType": "float64",
         "type": "float"
        },
        {
         "name": "Countries",
         "rawType": "object",
         "type": "unknown"
        }
       ],
       "ref": "7a7bccfe-04b3-44ac-8b40-1eab238cfc5d",
       "rows": [
        [
         "0",
         "1.0",
         "['Iceland']"
        ],
        [
         "1",
         "45.0",
         "['Iceland', 'Estonia', 'Finland', 'United Kingdom', 'Netherlands', 'Denmark', 'Faroe Islands', 'Norway', 'Poland', 'Sweden', 'Bulgaria', 'Cyprus', 'Azerbaijan', 'Ukraine', 'Belarus', 'Latvia', 'Lithuania', 'Armenia', 'Georgia']"
        ],
        [
         "2",
         "66.0",
         "['Belgium', 'Germany', 'United Kingdom', 'Netherlands', 'Spain', 'Albania', 'France', 'Greece', 'Italy', 'Czech Republic', 'Portugal', 'Switzerland', 'Montenegro']"
        ],
        [
         "3",
         "135.0",
         "['Belgium', 'Germany', 'Finland', 'United Kingdom', 'Netherlands', 'Norway', 'Poland', 'Sweden', 'Bulgaria', 'Croatia', 'Spain', 'France', 'Greece', 'Hungary', 'Italy', 'Czech Republic', 'Bosnia and Herzegovina', 'Romania', 'Moldova', 'Macedonia', 'Slovakia', 'Ukraine']"
        ],
        [
         "4",
         "128.0",
         "['Germany', 'United Kingdom', 'Guernsey', 'Jersey', 'Isle of Man', 'Ireland', 'Poland', 'Sweden', 'Spain', 'Cyprus', 'France', 'Malta', 'Portugal', 'Gibraltar', 'Lithuania']"
        ],
        [
         "5",
         "457.0",
         "['Germany', 'Luxembourg', 'Spain', 'Bulgaria', 'Croatia', 'Greece', 'Italy', 'Slovenia', 'Austria', 'Bosnia and Herzegovina', 'Romania', 'Switzerland', 'Serbia', 'Montenegro', 'Slovakia', 'Portugal']"
        ],
        [
         "6",
         "314.0",
         "['United Kingdom']"
        ],
        [
         "7",
         null,
         "['Italy', 'Czech Republic', 'Romania', 'Armenia', 'Cyprus', 'France', 'Ukraine', 'Azerbaijan']"
        ],
        [
         "8",
         "477.0",
         "['Portugal']"
        ]
       ],
       "shape": {
        "columns": 2,
        "rows": 9
       }
      },
      "text/html": [
       "<div>\n",
       "<style scoped>\n",
       "    .dataframe tbody tr th:only-of-type {\n",
       "        vertical-align: middle;\n",
       "    }\n",
       "\n",
       "    .dataframe tbody tr th {\n",
       "        vertical-align: top;\n",
       "    }\n",
       "\n",
       "    .dataframe thead th {\n",
       "        text-align: right;\n",
       "    }\n",
       "</style>\n",
       "<table border=\"1\" class=\"dataframe\">\n",
       "  <thead>\n",
       "    <tr style=\"text-align: right;\">\n",
       "      <th></th>\n",
       "      <th>LV</th>\n",
       "      <th>Countries</th>\n",
       "    </tr>\n",
       "  </thead>\n",
       "  <tbody>\n",
       "    <tr>\n",
       "      <th>0</th>\n",
       "      <td>1.0</td>\n",
       "      <td>[Iceland]</td>\n",
       "    </tr>\n",
       "    <tr>\n",
       "      <th>1</th>\n",
       "      <td>45.0</td>\n",
       "      <td>[Iceland, Estonia, Finland, United Kingdom, Netherlands, Denmark, Faroe Islands, Norway, Poland, Sweden, Bulgaria, Cyprus, Azerbaijan, Ukraine, Belarus, Latvia, Lithuania, Armenia, Georgia]</td>\n",
       "    </tr>\n",
       "    <tr>\n",
       "      <th>2</th>\n",
       "      <td>66.0</td>\n",
       "      <td>[Belgium, Germany, United Kingdom, Netherlands, Spain, Albania, France, Greece, Italy, Czech Republic, Portugal, Switzerland, Montenegro]</td>\n",
       "    </tr>\n",
       "    <tr>\n",
       "      <th>3</th>\n",
       "      <td>135.0</td>\n",
       "      <td>[Belgium, Germany, Finland, United Kingdom, Netherlands, Norway, Poland, Sweden, Bulgaria, Croatia, Spain, France, Greece, Hungary, Italy, Czech Republic, Bosnia and Herzegovina, Romania, Moldova, Macedonia, Slovakia, Ukraine]</td>\n",
       "    </tr>\n",
       "    <tr>\n",
       "      <th>4</th>\n",
       "      <td>128.0</td>\n",
       "      <td>[Germany, United Kingdom, Guernsey, Jersey, Isle of Man, Ireland, Poland, Sweden, Spain, Cyprus, France, Malta, Portugal, Gibraltar, Lithuania]</td>\n",
       "    </tr>\n",
       "    <tr>\n",
       "      <th>5</th>\n",
       "      <td>457.0</td>\n",
       "      <td>[Germany, Luxembourg, Spain, Bulgaria, Croatia, Greece, Italy, Slovenia, Austria, Bosnia and Herzegovina, Romania, Switzerland, Serbia, Montenegro, Slovakia, Portugal]</td>\n",
       "    </tr>\n",
       "    <tr>\n",
       "      <th>6</th>\n",
       "      <td>314.0</td>\n",
       "      <td>[United Kingdom]</td>\n",
       "    </tr>\n",
       "    <tr>\n",
       "      <th>7</th>\n",
       "      <td>NaN</td>\n",
       "      <td>[Italy, Czech Republic, Romania, Armenia, Cyprus, France, Ukraine, Azerbaijan]</td>\n",
       "    </tr>\n",
       "    <tr>\n",
       "      <th>8</th>\n",
       "      <td>477.0</td>\n",
       "      <td>[Portugal]</td>\n",
       "    </tr>\n",
       "  </tbody>\n",
       "</table>\n",
       "</div>"
      ],
      "text/plain": [
       "      LV  \\\n",
       "0    1.0   \n",
       "1   45.0   \n",
       "2   66.0   \n",
       "3  135.0   \n",
       "4  128.0   \n",
       "5  457.0   \n",
       "6  314.0   \n",
       "7    NaN   \n",
       "8  477.0   \n",
       "\n",
       "                                                                                                                                                                                                                            Countries  \n",
       "0                                                                                                                                                                                                                           [Iceland]  \n",
       "1                                       [Iceland, Estonia, Finland, United Kingdom, Netherlands, Denmark, Faroe Islands, Norway, Poland, Sweden, Bulgaria, Cyprus, Azerbaijan, Ukraine, Belarus, Latvia, Lithuania, Armenia, Georgia]  \n",
       "2                                                                                           [Belgium, Germany, United Kingdom, Netherlands, Spain, Albania, France, Greece, Italy, Czech Republic, Portugal, Switzerland, Montenegro]  \n",
       "3  [Belgium, Germany, Finland, United Kingdom, Netherlands, Norway, Poland, Sweden, Bulgaria, Croatia, Spain, France, Greece, Hungary, Italy, Czech Republic, Bosnia and Herzegovina, Romania, Moldova, Macedonia, Slovakia, Ukraine]  \n",
       "4                                                                                     [Germany, United Kingdom, Guernsey, Jersey, Isle of Man, Ireland, Poland, Sweden, Spain, Cyprus, France, Malta, Portugal, Gibraltar, Lithuania]  \n",
       "5                                                             [Germany, Luxembourg, Spain, Bulgaria, Croatia, Greece, Italy, Slovenia, Austria, Bosnia and Herzegovina, Romania, Switzerland, Serbia, Montenegro, Slovakia, Portugal]  \n",
       "6                                                                                                                                                                                                                    [United Kingdom]  \n",
       "7                                                                                                                                                      [Italy, Czech Republic, Romania, Armenia, Cyprus, France, Ukraine, Azerbaijan]  \n",
       "8                                                                                                                                                                                                                          [Portugal]  "
      ]
     },
     "execution_count": 49,
     "metadata": {},
     "output_type": "execute_result"
    }
   ],
   "source": [
    "db.custom_query(f\"\"\"\n",
    "    MATCH (a:Airport {{continent:'Europe'}})\n",
    "    RETURN a.Louvain_Europe AS LV, COLLECT(DISTINCT a.country) AS Countries\n",
    "\"\"\")"
   ]
  },
  {
   "cell_type": "markdown",
   "id": "76f61296",
   "metadata": {},
   "source": [
    "# Temporal: 7 wonders code"
   ]
  },
  {
   "cell_type": "code",
   "execution_count": null,
   "id": "85b84884",
   "metadata": {},
   "outputs": [],
   "source": [
    "seven_wonders = ['Cairo', 'Rome', 'Beijing', 'Merida', 'Cuzco', 'Lucknow', 'Rio De Janeiro']\n",
    "pairs = list(itertools.permutations(seven_wonders,2))\n",
    "\n",
    "pair_df = pd.DataFrame(columns=['src','dst','middle','distance'])\n",
    "print(pair_df)\n",
    "\n",
    "for i in pairs:\n",
    "    query = f\"\"\"\n",
    "    MATCH (a:Airport {{Label:'{i[0]}'}}), (b:Airport {{Label:'{i[1]}'}})\n",
    "\n",
    "    call gds.shortestPath.dijkstra.stream('Directed_Airport', {{\n",
    "        sourceNode: a,\n",
    "        targetNode: b,\n",
    "        relationshipWeightProperty: 'distance'\n",
    "    }})\n",
    "    YIELD sourceNode, targetNode, totalCost, nodeIds\n",
    "    RETURN gds.util.asNode(sourceNode).Label AS src, gds.util.asNode(targetNode).Label AS dst, nodeIds AS middle, totalCost AS distance;\n",
    "    \"\"\"\n",
    "\n",
    "    answer = gds.run_cypher(query)\n",
    "    pair_df = pd.concat([pair_df,answer], sort=False)\n",
    "\n",
    "pair_df_sorted = pair_df.sort_values(by='distance')\n",
    "df_final = pair_df_sorted.drop_duplicates(subset=['src','dst'], keep='first')\n",
    "df_final"
   ]
  },
  {
   "cell_type": "code",
   "execution_count": null,
   "id": "353a8298",
   "metadata": {},
   "outputs": [],
   "source": [
    "permuts = list(itertools.permutations(seven_wonders))\n",
    "\n",
    "lookup = {(row.src, row.dst): row.distance for row in df_final.itertuples(index=False)}\n",
    "print(lookup)\n",
    "\n",
    "distances = pd.DataFrame(columns=['order','distance'])\n",
    "\n",
    "for i in permuts:\n",
    "    pre_distance = 0\n",
    "    \n",
    "    for x in range(6):\n",
    "        par = (i[x], i[x+1])\n",
    "        dist = lookup.get(par)\n",
    "        pre_distance += dist\n",
    "\n",
    "    temp_df = pd.DataFrame({\n",
    "        \"order\": [i],\n",
    "        \"distance\": pre_distance\n",
    "\n",
    "    })\n",
    "    distances = pd.concat([distances,temp_df], sort=False)\n",
    "\n",
    "distances"
   ]
  },
  {
   "cell_type": "code",
   "execution_count": 18,
   "id": "dd9e1e6f",
   "metadata": {},
   "outputs": [
    {
     "data": {
      "application/vnd.microsoft.datawrangler.viewer.v0+json": {
       "columns": [
        {
         "name": "index",
         "rawType": "int64",
         "type": "integer"
        },
        {
         "name": "degreeDistribution",
         "rawType": "object",
         "type": "unknown"
        },
        {
         "name": "graphName",
         "rawType": "object",
         "type": "string"
        },
        {
         "name": "database",
         "rawType": "object",
         "type": "string"
        },
        {
         "name": "databaseLocation",
         "rawType": "object",
         "type": "string"
        },
        {
         "name": "memoryUsage",
         "rawType": "object",
         "type": "string"
        },
        {
         "name": "sizeInBytes",
         "rawType": "int64",
         "type": "integer"
        },
        {
         "name": "nodeCount",
         "rawType": "int64",
         "type": "integer"
        },
        {
         "name": "relationshipCount",
         "rawType": "int64",
         "type": "integer"
        },
        {
         "name": "configuration",
         "rawType": "object",
         "type": "unknown"
        },
        {
         "name": "density",
         "rawType": "float64",
         "type": "float"
        },
        {
         "name": "creationTime",
         "rawType": "object",
         "type": "unknown"
        },
        {
         "name": "modificationTime",
         "rawType": "object",
         "type": "unknown"
        },
        {
         "name": "schema",
         "rawType": "object",
         "type": "unknown"
        },
        {
         "name": "schemaWithOrientation",
         "rawType": "object",
         "type": "unknown"
        }
       ],
       "ref": "ef9fdc78-a464-4fce-a914-2bfa1bf836f3",
       "rows": [
        [
         "0",
         "{'min': 0, 'max': 145, 'p90': 58, 'p999': 145, 'p99': 123, 'p50': 6, 'p75': 25, 'p95': 78, 'mean': 19.43737574552684}",
         "name",
         "neo4j",
         "local",
         "4298 KiB",
         "4401368",
         "503",
         "9777",
         "{'readConcurrency': 4, 'undirectedRelationshipTypes': [], 'jobId': 'cdf70914-4f53-4802-b48b-a97a82456c51', 'logProgress': True, 'query': \"MATCH (a:Airport {continent:'Europe'})-[:TO]->(a2:Airport {continent:'Europe'})\\r\\nWITH gds.graph.project('name',a,a2) AS g\\r\\nRETURN\\r\\n    g.graphName, g.nodeCount, g.relationshipCount;\", 'inverseIndexedRelationshipTypes': []}",
         "0.038719872003041514",
         "2025-07-14T21:32:07.601287900-06:00",
         "2025-07-14T21:32:07.601287900-06:00",
         "{'graphProperties': {}, 'nodes': {'__ALL__': {}}, 'relationships': {'__ALL__': {}}}",
         "{'graphProperties': {}, 'nodes': {'__ALL__': {}}, 'relationships': {'__ALL__': {'direction': 'DIRECTED', 'properties': {}}}}"
        ]
       ],
       "shape": {
        "columns": 14,
        "rows": 1
       }
      },
      "text/html": [
       "<div>\n",
       "<style scoped>\n",
       "    .dataframe tbody tr th:only-of-type {\n",
       "        vertical-align: middle;\n",
       "    }\n",
       "\n",
       "    .dataframe tbody tr th {\n",
       "        vertical-align: top;\n",
       "    }\n",
       "\n",
       "    .dataframe thead th {\n",
       "        text-align: right;\n",
       "    }\n",
       "</style>\n",
       "<table border=\"1\" class=\"dataframe\">\n",
       "  <thead>\n",
       "    <tr style=\"text-align: right;\">\n",
       "      <th></th>\n",
       "      <th>degreeDistribution</th>\n",
       "      <th>graphName</th>\n",
       "      <th>database</th>\n",
       "      <th>databaseLocation</th>\n",
       "      <th>memoryUsage</th>\n",
       "      <th>sizeInBytes</th>\n",
       "      <th>nodeCount</th>\n",
       "      <th>relationshipCount</th>\n",
       "      <th>configuration</th>\n",
       "      <th>density</th>\n",
       "      <th>creationTime</th>\n",
       "      <th>modificationTime</th>\n",
       "      <th>schema</th>\n",
       "      <th>schemaWithOrientation</th>\n",
       "    </tr>\n",
       "  </thead>\n",
       "  <tbody>\n",
       "    <tr>\n",
       "      <th>0</th>\n",
       "      <td>{'min': 0, 'max': 145, 'p90': 58, 'p999': 145, 'p99': 123, 'p50': 6, 'p75': 25, 'p95': 78, 'mean': 19.43737574552684}</td>\n",
       "      <td>name</td>\n",
       "      <td>neo4j</td>\n",
       "      <td>local</td>\n",
       "      <td>4298 KiB</td>\n",
       "      <td>4401368</td>\n",
       "      <td>503</td>\n",
       "      <td>9777</td>\n",
       "      <td>{'readConcurrency': 4, 'undirectedRelationshipTypes': [], 'jobId': 'cdf70914-4f53-4802-b48b-a97a82456c51', 'logProgress': True, 'query': 'MATCH (a:Airport {continent:'Europe'})-[:TO]-&gt;(a2:Airport {continent:'Europe'})\r\n",
       "WITH gds.graph.project('name',a,a2) AS g\r\n",
       "RETURN\r\n",
       "    g.graphName, g.nodeCount, g.relationshipCount;', 'inverseIndexedRelationshipTypes': []}</td>\n",
       "      <td>0.03872</td>\n",
       "      <td>2025-07-14T21:32:07.601287900-06:00</td>\n",
       "      <td>2025-07-14T21:32:07.601287900-06:00</td>\n",
       "      <td>{'graphProperties': {}, 'nodes': {'__ALL__': {}}, 'relationships': {'__ALL__': {}}}</td>\n",
       "      <td>{'graphProperties': {}, 'nodes': {'__ALL__': {}}, 'relationships': {'__ALL__': {'direction': 'DIRECTED', 'properties': {}}}}</td>\n",
       "    </tr>\n",
       "  </tbody>\n",
       "</table>\n",
       "</div>"
      ],
      "text/plain": [
       "                                                                                                      degreeDistribution  \\\n",
       "0  {'min': 0, 'max': 145, 'p90': 58, 'p999': 145, 'p99': 123, 'p50': 6, 'p75': 25, 'p95': 78, 'mean': 19.43737574552684}   \n",
       "\n",
       "  graphName database databaseLocation memoryUsage  sizeInBytes  nodeCount  \\\n",
       "0      name    neo4j            local    4298 KiB      4401368        503   \n",
       "\n",
       "   relationshipCount  \\\n",
       "0               9777   \n",
       "\n",
       "                                                                                                                                                                                                                                                                                                                                                              configuration  \\\n",
       "0  {'readConcurrency': 4, 'undirectedRelationshipTypes': [], 'jobId': 'cdf70914-4f53-4802-b48b-a97a82456c51', 'logProgress': True, 'query': 'MATCH (a:Airport {continent:'Europe'})-[:TO]->(a2:Airport {continent:'Europe'})\n",
       "WITH gds.graph.project('name',a,a2) AS g\n",
       "RETURN\n",
       "    g.graphName, g.nodeCount, g.relationshipCount;', 'inverseIndexedRelationshipTypes': []}   \n",
       "\n",
       "   density                         creationTime  \\\n",
       "0  0.03872  2025-07-14T21:32:07.601287900-06:00   \n",
       "\n",
       "                      modificationTime  \\\n",
       "0  2025-07-14T21:32:07.601287900-06:00   \n",
       "\n",
       "                                                                                schema  \\\n",
       "0  {'graphProperties': {}, 'nodes': {'__ALL__': {}}, 'relationships': {'__ALL__': {}}}   \n",
       "\n",
       "                                                                                                          schemaWithOrientation  \n",
       "0  {'graphProperties': {}, 'nodes': {'__ALL__': {}}, 'relationships': {'__ALL__': {'direction': 'DIRECTED', 'properties': {}}}}  "
      ]
     },
     "execution_count": 18,
     "metadata": {},
     "output_type": "execute_result"
    }
   ],
   "source": [
    "db.custom_query('CALL gds.graph.list()')"
   ]
  }
 ],
 "metadata": {
  "kernelspec": {
   "display_name": "graph_mining",
   "language": "python",
   "name": "python3"
  },
  "language_info": {
   "codemirror_mode": {
    "name": "ipython",
    "version": 3
   },
   "file_extension": ".py",
   "mimetype": "text/x-python",
   "name": "python",
   "nbconvert_exporter": "python",
   "pygments_lexer": "ipython3",
   "version": "3.12.5"
  }
 },
 "nbformat": 4,
 "nbformat_minor": 5
}
